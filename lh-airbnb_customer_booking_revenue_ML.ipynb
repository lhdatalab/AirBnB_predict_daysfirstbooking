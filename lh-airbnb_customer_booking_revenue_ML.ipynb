{
 "cells": [
  {
   "cell_type": "markdown",
   "metadata": {},
   "source": [
    "AirBnB data for predicting the country of first destination is readily\n",
    "available online (Kaggle). Can this same data be used to define/solve \n",
    "other business problems or create new opportunities?\n",
    "\n",
    "One idea for this project is to create a seperate business case (project) using the same data. \n",
    "\n",
    "<p><b>Business case (project):</b></p>\n",
    "\n",
    "<b>Note: This analysis does not include any 2020 data. Revenue projections were limited to the US</b>\n",
    "\n",
    "Project: Days until revenue collected (days until first booking) and sizing the revenue opportunity (US).\n",
    "\n",
    "An approximate 50% conversion rate US and global customers.\n",
    "Revenue collected in 6 months for new customers (kaggle data) - \\$0.21M (US) and \\$1M (global).\n",
    "Annual revenue collected for new customers (AirBnB real world data) - \\$3.8 billions and $14.8 billions\n",
    "Increasing conversion rates from 50% to 65% can lead to increase in \\$1 billion (US only) in revenue.\n",
    "\n",
    "The main observations from this project are:\n",
    "    1. Missing values can skew the results\n",
    "    2. Finding a way to change the number of variables (bias) and \n",
    "    observations (variance) with limited project resources\n",
    "    3. Choice of model and metric using nonlinear algorithms\n",
    "    4. How to handle unexpected results\n",
    "        i. Transform output variable\n",
    "        ii. Parameter tuning\n",

 "Source: Statista and iProperty Management"   
]
  },
  {
   "cell_type": "code",
   "execution_count": 698,
   "metadata": {
    "scrolled": false
   },
   "outputs": [
    {
     "data": {
      "text/html": [
       "\n",
       "    <div class=\"bk-root\">\n",
       "        <a href=\"https://bokeh.org\" target=\"_blank\" class=\"bk-logo bk-logo-small bk-logo-notebook\"></a>\n",
       "        <span id=\"3294\">Loading BokehJS ...</span>\n",
       "    </div>"
      ]
     },
     "metadata": {},
     "output_type": "display_data"
    },
    {
     "data": {
      "application/javascript": [
       "\n",
       "(function(root) {\n",
       "  function now() {\n",
       "    return new Date();\n",
       "  }\n",
       "\n",
       "  var force = true;\n",
       "\n",
       "  if (typeof root._bokeh_onload_callbacks === \"undefined\" || force === true) {\n",
       "    root._bokeh_onload_callbacks = [];\n",
       "    root._bokeh_is_loading = undefined;\n",
       "  }\n",
       "\n",
       "  var JS_MIME_TYPE = 'application/javascript';\n",
       "  var HTML_MIME_TYPE = 'text/html';\n",
       "  var EXEC_MIME_TYPE = 'application/vnd.bokehjs_exec.v0+json';\n",
       "  var CLASS_NAME = 'output_bokeh rendered_html';\n",
       "\n",
       "  /**\n",
       "   * Render data to the DOM node\n",
       "   */\n",
       "  function render(props, node) {\n",
       "    var script = document.createElement(\"script\");\n",
       "    node.appendChild(script);\n",
       "  }\n",
       "\n",
       "  /**\n",
       "   * Handle when an output is cleared or removed\n",
       "   */\n",
       "  function handleClearOutput(event, handle) {\n",
       "    var cell = handle.cell;\n",
       "\n",
       "    var id = cell.output_area._bokeh_element_id;\n",
       "    var server_id = cell.output_area._bokeh_server_id;\n",
       "    // Clean up Bokeh references\n",
       "    if (id != null && id in Bokeh.index) {\n",
       "      Bokeh.index[id].model.document.clear();\n",
       "      delete Bokeh.index[id];\n",
       "    }\n",
       "\n",
       "    if (server_id !== undefined) {\n",
       "      // Clean up Bokeh references\n",
       "      var cmd = \"from bokeh.io.state import curstate; print(curstate().uuid_to_server['\" + server_id + \"'].get_sessions()[0].document.roots[0]._id)\";\n",
       "      cell.notebook.kernel.execute(cmd, {\n",
       "        iopub: {\n",
       "          output: function(msg) {\n",
       "            var id = msg.content.text.trim();\n",
       "            if (id in Bokeh.index) {\n",
       "              Bokeh.index[id].model.document.clear();\n",
       "              delete Bokeh.index[id];\n",
       "            }\n",
       "          }\n",
       "        }\n",
       "      });\n",
       "      // Destroy server and session\n",
       "      var cmd = \"import bokeh.io.notebook as ion; ion.destroy_server('\" + server_id + \"')\";\n",
       "      cell.notebook.kernel.execute(cmd);\n",
       "    }\n",
       "  }\n",
       "\n",
       "  /**\n",
       "   * Handle when a new output is added\n",
       "   */\n",
       "  function handleAddOutput(event, handle) {\n",
       "    var output_area = handle.output_area;\n",
       "    var output = handle.output;\n",
       "\n",
       "    // limit handleAddOutput to display_data with EXEC_MIME_TYPE content only\n",
       "    if ((output.output_type != \"display_data\") || (!output.data.hasOwnProperty(EXEC_MIME_TYPE))) {\n",
       "      return\n",
       "    }\n",
       "\n",
       "    var toinsert = output_area.element.find(\".\" + CLASS_NAME.split(' ')[0]);\n",
       "\n",
       "    if (output.metadata[EXEC_MIME_TYPE][\"id\"] !== undefined) {\n",
       "      toinsert[toinsert.length - 1].firstChild.textContent = output.data[JS_MIME_TYPE];\n",
       "      // store reference to embed id on output_area\n",
       "      output_area._bokeh_element_id = output.metadata[EXEC_MIME_TYPE][\"id\"];\n",
       "    }\n",
       "    if (output.metadata[EXEC_MIME_TYPE][\"server_id\"] !== undefined) {\n",
       "      var bk_div = document.createElement(\"div\");\n",
       "      bk_div.innerHTML = output.data[HTML_MIME_TYPE];\n",
       "      var script_attrs = bk_div.children[0].attributes;\n",
       "      for (var i = 0; i < script_attrs.length; i++) {\n",
       "        toinsert[toinsert.length - 1].firstChild.setAttribute(script_attrs[i].name, script_attrs[i].value);\n",
       "      }\n",
       "      // store reference to server id on output_area\n",
       "      output_area._bokeh_server_id = output.metadata[EXEC_MIME_TYPE][\"server_id\"];\n",
       "    }\n",
       "  }\n",
       "\n",
       "  function register_renderer(events, OutputArea) {\n",
       "\n",
       "    function append_mime(data, metadata, element) {\n",
       "      // create a DOM node to render to\n",
       "      var toinsert = this.create_output_subarea(\n",
       "        metadata,\n",
       "        CLASS_NAME,\n",
       "        EXEC_MIME_TYPE\n",
       "      );\n",
       "      this.keyboard_manager.register_events(toinsert);\n",
       "      // Render to node\n",
       "      var props = {data: data, metadata: metadata[EXEC_MIME_TYPE]};\n",
       "      render(props, toinsert[toinsert.length - 1]);\n",
       "      element.append(toinsert);\n",
       "      return toinsert\n",
       "    }\n",
       "\n",
       "    /* Handle when an output is cleared or removed */\n",
       "    events.on('clear_output.CodeCell', handleClearOutput);\n",
       "    events.on('delete.Cell', handleClearOutput);\n",
       "\n",
       "    /* Handle when a new output is added */\n",
       "    events.on('output_added.OutputArea', handleAddOutput);\n",
       "\n",
       "    /**\n",
       "     * Register the mime type and append_mime function with output_area\n",
       "     */\n",
       "    OutputArea.prototype.register_mime_type(EXEC_MIME_TYPE, append_mime, {\n",
       "      /* Is output safe? */\n",
       "      safe: true,\n",
       "      /* Index of renderer in `output_area.display_order` */\n",
       "      index: 0\n",
       "    });\n",
       "  }\n",
       "\n",
       "  // register the mime type if in Jupyter Notebook environment and previously unregistered\n",
       "  if (root.Jupyter !== undefined) {\n",
       "    var events = require('base/js/events');\n",
       "    var OutputArea = require('notebook/js/outputarea').OutputArea;\n",
       "\n",
       "    if (OutputArea.prototype.mime_types().indexOf(EXEC_MIME_TYPE) == -1) {\n",
       "      register_renderer(events, OutputArea);\n",
       "    }\n",
       "  }\n",
       "\n",
       "  \n",
       "  if (typeof (root._bokeh_timeout) === \"undefined\" || force === true) {\n",
       "    root._bokeh_timeout = Date.now() + 5000;\n",
       "    root._bokeh_failed_load = false;\n",
       "  }\n",
       "\n",
       "  var NB_LOAD_WARNING = {'data': {'text/html':\n",
       "     \"<div style='background-color: #fdd'>\\n\"+\n",
       "     \"<p>\\n\"+\n",
       "     \"BokehJS does not appear to have successfully loaded. If loading BokehJS from CDN, this \\n\"+\n",
       "     \"may be due to a slow or bad network connection. Possible fixes:\\n\"+\n",
       "     \"</p>\\n\"+\n",
       "     \"<ul>\\n\"+\n",
       "     \"<li>re-rerun `output_notebook()` to attempt to load from CDN again, or</li>\\n\"+\n",
       "     \"<li>use INLINE resources instead, as so:</li>\\n\"+\n",
       "     \"</ul>\\n\"+\n",
       "     \"<code>\\n\"+\n",
       "     \"from bokeh.resources import INLINE\\n\"+\n",
       "     \"output_notebook(resources=INLINE)\\n\"+\n",
       "     \"</code>\\n\"+\n",
       "     \"</div>\"}};\n",
       "\n",
       "  function display_loaded() {\n",
       "    var el = document.getElementById(\"3294\");\n",
       "    if (el != null) {\n",
       "      el.textContent = \"BokehJS is loading...\";\n",
       "    }\n",
       "    if (root.Bokeh !== undefined) {\n",
       "      if (el != null) {\n",
       "        el.textContent = \"BokehJS \" + root.Bokeh.version + \" successfully loaded.\";\n",
       "      }\n",
       "    } else if (Date.now() < root._bokeh_timeout) {\n",
       "      setTimeout(display_loaded, 100)\n",
       "    }\n",
       "  }\n",
       "\n",
       "\n",
       "  function run_callbacks() {\n",
       "    try {\n",
       "      root._bokeh_onload_callbacks.forEach(function(callback) {\n",
       "        if (callback != null)\n",
       "          callback();\n",
       "      });\n",
       "    } finally {\n",
       "      delete root._bokeh_onload_callbacks\n",
       "    }\n",
       "    console.debug(\"Bokeh: all callbacks have finished\");\n",
       "  }\n",
       "\n",
       "  function load_libs(css_urls, js_urls, callback) {\n",
       "    if (css_urls == null) css_urls = [];\n",
       "    if (js_urls == null) js_urls = [];\n",
       "\n",
       "    root._bokeh_onload_callbacks.push(callback);\n",
       "    if (root._bokeh_is_loading > 0) {\n",
       "      console.debug(\"Bokeh: BokehJS is being loaded, scheduling callback at\", now());\n",
       "      return null;\n",
       "    }\n",
       "    if (js_urls == null || js_urls.length === 0) {\n",
       "      run_callbacks();\n",
       "      return null;\n",
       "    }\n",
       "    console.debug(\"Bokeh: BokehJS not loaded, scheduling load and callback at\", now());\n",
       "    root._bokeh_is_loading = css_urls.length + js_urls.length;\n",
       "\n",
       "    function on_load() {\n",
       "      root._bokeh_is_loading--;\n",
       "      if (root._bokeh_is_loading === 0) {\n",
       "        console.debug(\"Bokeh: all BokehJS libraries/stylesheets loaded\");\n",
       "        run_callbacks()\n",
       "      }\n",
       "    }\n",
       "\n",
       "    function on_error() {\n",
       "      console.error(\"failed to load \" + url);\n",
       "    }\n",
       "\n",
       "    for (var i = 0; i < css_urls.length; i++) {\n",
       "      var url = css_urls[i];\n",
       "      const element = document.createElement(\"link\");\n",
       "      element.onload = on_load;\n",
       "      element.onerror = on_error;\n",
       "      element.rel = \"stylesheet\";\n",
       "      element.type = \"text/css\";\n",
       "      element.href = url;\n",
       "      console.debug(\"Bokeh: injecting link tag for BokehJS stylesheet: \", url);\n",
       "      document.body.appendChild(element);\n",
       "    }\n",
       "\n",
       "    for (var i = 0; i < js_urls.length; i++) {\n",
       "      var url = js_urls[i];\n",
       "      var element = document.createElement('script');\n",
       "      element.onload = on_load;\n",
       "      element.onerror = on_error;\n",
       "      element.async = false;\n",
       "      element.src = url;\n",
       "      console.debug(\"Bokeh: injecting script tag for BokehJS library: \", url);\n",
       "      document.head.appendChild(element);\n",
       "    }\n",
       "  };var element = document.getElementById(\"3294\");\n",
       "  if (element == null) {\n",
       "    console.error(\"Bokeh: ERROR: autoload.js configured with elementid '3294' but no matching script tag was found. \")\n",
       "    return false;\n",
       "  }\n",
       "\n",
       "  function inject_raw_css(css) {\n",
       "    const element = document.createElement(\"style\");\n",
       "    element.appendChild(document.createTextNode(css));\n",
       "    document.body.appendChild(element);\n",
       "  }\n",
       "\n",
       "  \n",
       "  var js_urls = [\"https://cdn.pydata.org/bokeh/release/bokeh-1.4.0.min.js\", \"https://cdn.pydata.org/bokeh/release/bokeh-widgets-1.4.0.min.js\", \"https://cdn.pydata.org/bokeh/release/bokeh-tables-1.4.0.min.js\", \"https://cdn.pydata.org/bokeh/release/bokeh-gl-1.4.0.min.js\"];\n",
       "  var css_urls = [];\n",
       "  \n",
       "\n",
       "  var inline_js = [\n",
       "    function(Bokeh) {\n",
       "      Bokeh.set_log_level(\"info\");\n",
       "    },\n",
       "    function(Bokeh) {\n",
       "    \n",
       "    \n",
       "    }\n",
       "  ];\n",
       "\n",
       "  function run_inline_js() {\n",
       "    \n",
       "    if (root.Bokeh !== undefined || force === true) {\n",
       "      \n",
       "    for (var i = 0; i < inline_js.length; i++) {\n",
       "      inline_js[i].call(root, root.Bokeh);\n",
       "    }\n",
       "    if (force === true) {\n",
       "        display_loaded();\n",
       "      }} else if (Date.now() < root._bokeh_timeout) {\n",
       "      setTimeout(run_inline_js, 100);\n",
       "    } else if (!root._bokeh_failed_load) {\n",
       "      console.log(\"Bokeh: BokehJS failed to load within specified timeout.\");\n",
       "      root._bokeh_failed_load = true;\n",
       "    } else if (force !== true) {\n",
       "      var cell = $(document.getElementById(\"3294\")).parents('.cell').data().cell;\n",
       "      cell.output_area.append_execute_result(NB_LOAD_WARNING)\n",
       "    }\n",
       "\n",
       "  }\n",
       "\n",
       "  if (root._bokeh_is_loading === 0) {\n",
       "    console.debug(\"Bokeh: BokehJS loaded, going straight to plotting\");\n",
       "    run_inline_js();\n",
       "  } else {\n",
       "    load_libs(css_urls, js_urls, function() {\n",
       "      console.debug(\"Bokeh: BokehJS plotting callback run at\", now());\n",
       "      run_inline_js();\n",
       "    });\n",
       "  }\n",
       "}(window));"
      ],
      "application/vnd.bokehjs_load.v0+json": "\n(function(root) {\n  function now() {\n    return new Date();\n  }\n\n  var force = true;\n\n  if (typeof root._bokeh_onload_callbacks === \"undefined\" || force === true) {\n    root._bokeh_onload_callbacks = [];\n    root._bokeh_is_loading = undefined;\n  }\n\n  \n\n  \n  if (typeof (root._bokeh_timeout) === \"undefined\" || force === true) {\n    root._bokeh_timeout = Date.now() + 5000;\n    root._bokeh_failed_load = false;\n  }\n\n  var NB_LOAD_WARNING = {'data': {'text/html':\n     \"<div style='background-color: #fdd'>\\n\"+\n     \"<p>\\n\"+\n     \"BokehJS does not appear to have successfully loaded. If loading BokehJS from CDN, this \\n\"+\n     \"may be due to a slow or bad network connection. Possible fixes:\\n\"+\n     \"</p>\\n\"+\n     \"<ul>\\n\"+\n     \"<li>re-rerun `output_notebook()` to attempt to load from CDN again, or</li>\\n\"+\n     \"<li>use INLINE resources instead, as so:</li>\\n\"+\n     \"</ul>\\n\"+\n     \"<code>\\n\"+\n     \"from bokeh.resources import INLINE\\n\"+\n     \"output_notebook(resources=INLINE)\\n\"+\n     \"</code>\\n\"+\n     \"</div>\"}};\n\n  function display_loaded() {\n    var el = document.getElementById(\"3294\");\n    if (el != null) {\n      el.textContent = \"BokehJS is loading...\";\n    }\n    if (root.Bokeh !== undefined) {\n      if (el != null) {\n        el.textContent = \"BokehJS \" + root.Bokeh.version + \" successfully loaded.\";\n      }\n    } else if (Date.now() < root._bokeh_timeout) {\n      setTimeout(display_loaded, 100)\n    }\n  }\n\n\n  function run_callbacks() {\n    try {\n      root._bokeh_onload_callbacks.forEach(function(callback) {\n        if (callback != null)\n          callback();\n      });\n    } finally {\n      delete root._bokeh_onload_callbacks\n    }\n    console.debug(\"Bokeh: all callbacks have finished\");\n  }\n\n  function load_libs(css_urls, js_urls, callback) {\n    if (css_urls == null) css_urls = [];\n    if (js_urls == null) js_urls = [];\n\n    root._bokeh_onload_callbacks.push(callback);\n    if (root._bokeh_is_loading > 0) {\n      console.debug(\"Bokeh: BokehJS is being loaded, scheduling callback at\", now());\n      return null;\n    }\n    if (js_urls == null || js_urls.length === 0) {\n      run_callbacks();\n      return null;\n    }\n    console.debug(\"Bokeh: BokehJS not loaded, scheduling load and callback at\", now());\n    root._bokeh_is_loading = css_urls.length + js_urls.length;\n\n    function on_load() {\n      root._bokeh_is_loading--;\n      if (root._bokeh_is_loading === 0) {\n        console.debug(\"Bokeh: all BokehJS libraries/stylesheets loaded\");\n        run_callbacks()\n      }\n    }\n\n    function on_error() {\n      console.error(\"failed to load \" + url);\n    }\n\n    for (var i = 0; i < css_urls.length; i++) {\n      var url = css_urls[i];\n      const element = document.createElement(\"link\");\n      element.onload = on_load;\n      element.onerror = on_error;\n      element.rel = \"stylesheet\";\n      element.type = \"text/css\";\n      element.href = url;\n      console.debug(\"Bokeh: injecting link tag for BokehJS stylesheet: \", url);\n      document.body.appendChild(element);\n    }\n\n    for (var i = 0; i < js_urls.length; i++) {\n      var url = js_urls[i];\n      var element = document.createElement('script');\n      element.onload = on_load;\n      element.onerror = on_error;\n      element.async = false;\n      element.src = url;\n      console.debug(\"Bokeh: injecting script tag for BokehJS library: \", url);\n      document.head.appendChild(element);\n    }\n  };var element = document.getElementById(\"3294\");\n  if (element == null) {\n    console.error(\"Bokeh: ERROR: autoload.js configured with elementid '3294' but no matching script tag was found. \")\n    return false;\n  }\n\n  function inject_raw_css(css) {\n    const element = document.createElement(\"style\");\n    element.appendChild(document.createTextNode(css));\n    document.body.appendChild(element);\n  }\n\n  \n  var js_urls = [\"https://cdn.pydata.org/bokeh/release/bokeh-1.4.0.min.js\", \"https://cdn.pydata.org/bokeh/release/bokeh-widgets-1.4.0.min.js\", \"https://cdn.pydata.org/bokeh/release/bokeh-tables-1.4.0.min.js\", \"https://cdn.pydata.org/bokeh/release/bokeh-gl-1.4.0.min.js\"];\n  var css_urls = [];\n  \n\n  var inline_js = [\n    function(Bokeh) {\n      Bokeh.set_log_level(\"info\");\n    },\n    function(Bokeh) {\n    \n    \n    }\n  ];\n\n  function run_inline_js() {\n    \n    if (root.Bokeh !== undefined || force === true) {\n      \n    for (var i = 0; i < inline_js.length; i++) {\n      inline_js[i].call(root, root.Bokeh);\n    }\n    if (force === true) {\n        display_loaded();\n      }} else if (Date.now() < root._bokeh_timeout) {\n      setTimeout(run_inline_js, 100);\n    } else if (!root._bokeh_failed_load) {\n      console.log(\"Bokeh: BokehJS failed to load within specified timeout.\");\n      root._bokeh_failed_load = true;\n    } else if (force !== true) {\n      var cell = $(document.getElementById(\"3294\")).parents('.cell').data().cell;\n      cell.output_area.append_execute_result(NB_LOAD_WARNING)\n    }\n\n  }\n\n  if (root._bokeh_is_loading === 0) {\n    console.debug(\"Bokeh: BokehJS loaded, going straight to plotting\");\n    run_inline_js();\n  } else {\n    load_libs(css_urls, js_urls, function() {\n      console.debug(\"Bokeh: BokehJS plotting callback run at\", now());\n      run_inline_js();\n    });\n  }\n}(window));"
     },
     "metadata": {},
     "output_type": "display_data"
    }
   ],
   "source": [
    "###### from pyspark import SparkContext\n",
    "#import pyspark.sql #import SparkSession\n",
    "import warnings\n",
    "warnings.filterwarnings(\"ignore\")\n",
    "import findspark\n",
    "findspark.init()\n",
    "import os\n",
    "#import rpy2 \n",
    "#import rpy2.robjects.packages as packages\n",
    "#import rpy2.robjects.lib.ggplot2 as ggplot2\n",
    "#import rpy2.robjects as ro\n",
    "import math\n",
    "import numpy as np\n",
    "import pandas as pd\n",
    "import pickle\n",
    "#import blaze as bz\n",
    "import pyspark as py\n",
    "from time import time\n",
    "from collections import Counter\n",
    "import statsmodels as sm\n",
    "from statsmodels.formula.api import ols\n",
    "import statsmodels.api as sm\n",
    "from statsmodels.sandbox.regression.predstd import wls_prediction_std\n",
    "import scipy.stats as ss\n",
    "from scipy.sparse import csc_matrix\n",
    "from pyspark import SparkContext\n",
    "from pyspark import SparkConf\n",
    "from pyspark import RDD\n",
    "from pyspark.sql.types import Row\n",
    "from pyspark.sql import SparkSession\n",
    "from pyspark.sql import SQLContext\n",
    "from pyspark.sql import DataFrameReader\n",
    "from pyspark.sql import DataFrameWriter\n",
    "from pyspark.sql import types\n",
    "from pyspark.sql.types import StructType, IntegerType, StringType, DecimalType\n",
    "from pyspark.sql import DataFrameNaFunctions, \\\n",
    "DataFrameStatFunctions as statFunc\n",
    "from pyspark.sql.functions import *\n",
    "from pyspark.sql.window import Window\n",
    "from pyspark.mllib.clustering import LDA\n",
    "from sklearn import preprocessing \n",
    "from sklearn.svm import SVC, SVR\n",
    "from sklearn.linear_model import LinearRegression\n",
    "from sklearn.neighbors import KNeighborsRegressor\n",
    "from sklearn.metrics.classification import classification_report\n",
    "from sklearn.model_selection import GridSearchCV, cross_val_score\n",
    "#import mongodb.jdbc.MongoDriver\n",
    "\n",
    "from sklearn.neural_network import MLPRegressor\n",
    "from sklearn.model_selection import train_test_split\n",
    "from sklearn.metrics import mean_absolute_error, mean_squared_error, max_error\n",
    "from sklearn import preprocessing\n",
    "from sklearn.impute import KNNImputer\n",
    "from sklearn.preprocessing import LabelEncoder, OneHotEncoder, MinMaxScaler\n",
    "from sklearn.ensemble import AdaBoostRegressor, GradientBoostingRegressor\n",
    "from sklearn.tree import DecisionTreeRegressor\n",
    "\n",
    "import matplotlib.pyplot as plt\n",
    "import seaborn as sb\n",
    "\n",
    "from bokeh.io import output_notebook, show\n",
    "from bokeh.plotting import figure\n",
    "from bokeh.models import ColumnDataSource, HoverTool, Panel, LabelSet\n",
    "from bokeh.transform import factor_cmap, jitter\n",
    "from bokeh.palettes import Paired12, Spectral6, Viridis3\n",
    "\n",
    "# plotnine import *\n",
    "\n",
    "#Display bokeh graphis in a notebook\n",
    "output_notebook()"
   ]
  },
  {
   "cell_type": "code",
   "execution_count": null,
   "metadata": {},
   "outputs": [],
   "source": []
  },
  {
   "cell_type": "code",
   "execution_count": 699,
   "metadata": {},
   "outputs": [],
   "source": [
    "#os.environ[\"CLASSPATH\"]\n",
    "#os.environ['PYSPARK_SUBMIT_ARGS'] = \"--master=local[3] pyspark-shell\"\n",
    "os.environ['JAVA_HOME'] = \"C:\\\\Program Files\\\\Java\\\\jdk1.8.0_191\""
   ]
  },
  {
   "cell_type": "code",
   "execution_count": 700,
   "metadata": {},
   "outputs": [],
   "source": [
    "conf = SparkConf().set(\"spark.home\", \"C:\\\\MathLabASUS\\\\SW\\\\DM\\\\spark-2.4.0-bin-hadoop2.7\") \\\n",
    ".set(\"spark.driver.extraClasspath\", \"org.mongodb.spark:mongo-spark-connector_2.11:2.3.1\") \\\n",
    ".set(\"spark.driver.extraClasspath\", \"org.mongodb:mongo-java-driver:3.9.0\") \\\n",
    ".set(\"spark.submit.deployMode\", \"client\") \\\n",
    ".set(\"spark.driver.memory\", \"5G\") \\\n",
    ".set(\"spark.driver.maxResultSize\", \"5G\") \\\n",
    "#.set(\"spark.mongodb.input.uri\", \"mongodb://127.0.0.1/ryerson.ferguson24?readPreference=primaryPreferred\") \\\n",
    "#.set(\"spark.mongodb.output.uri\", \"mongodb://127.0.0.1/ryerson.ferguson24\") "
   ]
  },
  {
   "cell_type": "code",
   "execution_count": 701,
   "metadata": {},
   "outputs": [],
   "source": [
    "sc = py.SparkContext(\"local[1]\", conf=conf)"
   ]
  },
  {
   "cell_type": "markdown",
   "metadata": {},
   "source": [
    "sc.stop()"
   ]
  },
  {
   "cell_type": "code",
   "execution_count": 702,
   "metadata": {},
   "outputs": [],
   "source": [
    "sqlContext = SQLContext(sc)"
   ]
  },
  {
   "cell_type": "markdown",
   "metadata": {},
   "source": [
    "s1 =SparkSession.builder.config(conf=SparkConf())\n",
    "sc.getConf()"
   ]
  },
  {
   "cell_type": "code",
   "execution_count": 703,
   "metadata": {
    "scrolled": true
   },
   "outputs": [
    {
     "data": {
      "text/plain": [
       "'C:\\\\MathLabASUS\\\\Projects\\\\Kaggle\\\\AirBnB\\\\airbnb_kaggle'"
      ]
     },
     "execution_count": 703,
     "metadata": {},
     "output_type": "execute_result"
    }
   ],
   "source": [
    "os.getcwd()"
   ]
  },
  {
   "cell_type": "markdown",
   "metadata": {},
   "source": [
    "The project can be divided into three categories of data:\n",
    "    1. Session - \"search\" pages, time\n",
    "    2. Demographics - age, gender\n",
    "    3. Website - ads, devices, apps"
   ]
  },
  {
   "cell_type": "code",
   "execution_count": null,
   "metadata": {},
   "outputs": [],
   "source": [
    "### Session"
   ]
  },
  {
   "cell_type": "code",
   "execution_count": 704,
   "metadata": {},
   "outputs": [],
   "source": [
    "session_df = sqlContext.read.csv(\"sessions.csv\", \\\n",
    "                    header = True, mode = \"DROPMALFORMED\")"
   ]
  },
  {
   "cell_type": "code",
   "execution_count": null,
   "metadata": {},
   "outputs": [],
   "source": []
  },
  {
   "cell_type": "code",
   "execution_count": 705,
   "metadata": {},
   "outputs": [],
   "source": [
    "### Fill in missing values for categorical and numerical columns"
   ]
  },
  {
   "cell_type": "code",
   "execution_count": 706,
   "metadata": {
    "scrolled": true
   },
   "outputs": [
    {
     "data": {
      "text/plain": [
       "DataFrame[action: string, action_type: string, action_detail: string, device_type: string]"
      ]
     },
     "execution_count": 706,
     "metadata": {},
     "output_type": "execute_result"
    }
   ],
   "source": [
    "session_df[[\"action\", \"action_type\", \"action_detail\", \"device_type\"]].fillna(\"None\")"
   ]
  },
  {
   "cell_type": "code",
   "execution_count": 707,
   "metadata": {},
   "outputs": [],
   "source": [
    "##### Save session as a spark table"
   ]
  },
  {
   "cell_type": "code",
   "execution_count": 708,
   "metadata": {},
   "outputs": [],
   "source": [
    "session_df.registerTempTable(\"session_df\")"
   ]
  },
  {
   "cell_type": "code",
   "execution_count": 709,
   "metadata": {},
   "outputs": [],
   "source": [
    "#### Define user actions in a session"
   ]
  },
  {
   "cell_type": "code",
   "execution_count": 710,
   "metadata": {},
   "outputs": [
    {
     "name": "stdout",
     "output_type": "stream",
     "text": [
      "Wall time: 18.5 ms\n"
     ]
    }
   ],
   "source": [
    "%%time\n",
    "action_df = sqlContext.sql(\"SELECT action, AVG(secs_elapsed) AS mean_secs FROM \\\n",
    "            session_df \\\n",
    "            GROUP BY action \\\n",
    "          \")\n",
    "action_df = action_df.withColumn(\"mean_mins\", col(\"mean_secs\")/float(60.0))"
   ]
  },
  {
   "cell_type": "code",
   "execution_count": 711,
   "metadata": {},
   "outputs": [],
   "source": [
    "##### Distribution of time spent in minutes in an airbnb session"
   ]
  },
  {
   "cell_type": "code",
   "execution_count": 712,
   "metadata": {},
   "outputs": [],
   "source": [
    "hist, edges = np.histogram(action_df.toPandas()[\"mean_mins\"], density = True, \\\n",
    "                           bins = \"auto\")"
   ]
  },
  {
   "cell_type": "code",
   "execution_count": 713,
   "metadata": {
    "scrolled": false
   },
   "outputs": [
    {
     "data": {
      "text/html": [
       "\n",
       "    <div class=\"bk-root\">\n",
       "        <a href=\"https://bokeh.org\" target=\"_blank\" class=\"bk-logo bk-logo-small bk-logo-notebook\"></a>\n",
       "        <span id=\"3295\">Loading BokehJS ...</span>\n",
       "    </div>"
      ]
     },
     "metadata": {},
     "output_type": "display_data"
    },
    {
     "data": {
      "application/javascript": [
       "\n",
       "(function(root) {\n",
       "  function now() {\n",
       "    return new Date();\n",
       "  }\n",
       "\n",
       "  var force = true;\n",
       "\n",
       "  if (typeof root._bokeh_onload_callbacks === \"undefined\" || force === true) {\n",
       "    root._bokeh_onload_callbacks = [];\n",
       "    root._bokeh_is_loading = undefined;\n",
       "  }\n",
       "\n",
       "  var JS_MIME_TYPE = 'application/javascript';\n",
       "  var HTML_MIME_TYPE = 'text/html';\n",
       "  var EXEC_MIME_TYPE = 'application/vnd.bokehjs_exec.v0+json';\n",
       "  var CLASS_NAME = 'output_bokeh rendered_html';\n",
       "\n",
       "  /**\n",
       "   * Render data to the DOM node\n",
       "   */\n",
       "  function render(props, node) {\n",
       "    var script = document.createElement(\"script\");\n",
       "    node.appendChild(script);\n",
       "  }\n",
       "\n",
       "  /**\n",
       "   * Handle when an output is cleared or removed\n",
       "   */\n",
       "  function handleClearOutput(event, handle) {\n",
       "    var cell = handle.cell;\n",
       "\n",
       "    var id = cell.output_area._bokeh_element_id;\n",
       "    var server_id = cell.output_area._bokeh_server_id;\n",
       "    // Clean up Bokeh references\n",
       "    if (id != null && id in Bokeh.index) {\n",
       "      Bokeh.index[id].model.document.clear();\n",
       "      delete Bokeh.index[id];\n",
       "    }\n",
       "\n",
       "    if (server_id !== undefined) {\n",
       "      // Clean up Bokeh references\n",
       "      var cmd = \"from bokeh.io.state import curstate; print(curstate().uuid_to_server['\" + server_id + \"'].get_sessions()[0].document.roots[0]._id)\";\n",
       "      cell.notebook.kernel.execute(cmd, {\n",
       "        iopub: {\n",
       "          output: function(msg) {\n",
       "            var id = msg.content.text.trim();\n",
       "            if (id in Bokeh.index) {\n",
       "              Bokeh.index[id].model.document.clear();\n",
       "              delete Bokeh.index[id];\n",
       "            }\n",
       "          }\n",
       "        }\n",
       "      });\n",
       "      // Destroy server and session\n",
       "      var cmd = \"import bokeh.io.notebook as ion; ion.destroy_server('\" + server_id + \"')\";\n",
       "      cell.notebook.kernel.execute(cmd);\n",
       "    }\n",
       "  }\n",
       "\n",
       "  /**\n",
       "   * Handle when a new output is added\n",
       "   */\n",
       "  function handleAddOutput(event, handle) {\n",
       "    var output_area = handle.output_area;\n",
       "    var output = handle.output;\n",
       "\n",
       "    // limit handleAddOutput to display_data with EXEC_MIME_TYPE content only\n",
       "    if ((output.output_type != \"display_data\") || (!output.data.hasOwnProperty(EXEC_MIME_TYPE))) {\n",
       "      return\n",
       "    }\n",
       "\n",
       "    var toinsert = output_area.element.find(\".\" + CLASS_NAME.split(' ')[0]);\n",
       "\n",
       "    if (output.metadata[EXEC_MIME_TYPE][\"id\"] !== undefined) {\n",
       "      toinsert[toinsert.length - 1].firstChild.textContent = output.data[JS_MIME_TYPE];\n",
       "      // store reference to embed id on output_area\n",
       "      output_area._bokeh_element_id = output.metadata[EXEC_MIME_TYPE][\"id\"];\n",
       "    }\n",
       "    if (output.metadata[EXEC_MIME_TYPE][\"server_id\"] !== undefined) {\n",
       "      var bk_div = document.createElement(\"div\");\n",
       "      bk_div.innerHTML = output.data[HTML_MIME_TYPE];\n",
       "      var script_attrs = bk_div.children[0].attributes;\n",
       "      for (var i = 0; i < script_attrs.length; i++) {\n",
       "        toinsert[toinsert.length - 1].firstChild.setAttribute(script_attrs[i].name, script_attrs[i].value);\n",
       "      }\n",
       "      // store reference to server id on output_area\n",
       "      output_area._bokeh_server_id = output.metadata[EXEC_MIME_TYPE][\"server_id\"];\n",
       "    }\n",
       "  }\n",
       "\n",
       "  function register_renderer(events, OutputArea) {\n",
       "\n",
       "    function append_mime(data, metadata, element) {\n",
       "      // create a DOM node to render to\n",
       "      var toinsert = this.create_output_subarea(\n",
       "        metadata,\n",
       "        CLASS_NAME,\n",
       "        EXEC_MIME_TYPE\n",
       "      );\n",
       "      this.keyboard_manager.register_events(toinsert);\n",
       "      // Render to node\n",
       "      var props = {data: data, metadata: metadata[EXEC_MIME_TYPE]};\n",
       "      render(props, toinsert[toinsert.length - 1]);\n",
       "      element.append(toinsert);\n",
       "      return toinsert\n",
       "    }\n",
       "\n",
       "    /* Handle when an output is cleared or removed */\n",
       "    events.on('clear_output.CodeCell', handleClearOutput);\n",
       "    events.on('delete.Cell', handleClearOutput);\n",
       "\n",
       "    /* Handle when a new output is added */\n",
       "    events.on('output_added.OutputArea', handleAddOutput);\n",
       "\n",
       "    /**\n",
       "     * Register the mime type and append_mime function with output_area\n",
       "     */\n",
       "    OutputArea.prototype.register_mime_type(EXEC_MIME_TYPE, append_mime, {\n",
       "      /* Is output safe? */\n",
       "      safe: true,\n",
       "      /* Index of renderer in `output_area.display_order` */\n",
       "      index: 0\n",
       "    });\n",
       "  }\n",
       "\n",
       "  // register the mime type if in Jupyter Notebook environment and previously unregistered\n",
       "  if (root.Jupyter !== undefined) {\n",
       "    var events = require('base/js/events');\n",
       "    var OutputArea = require('notebook/js/outputarea').OutputArea;\n",
       "\n",
       "    if (OutputArea.prototype.mime_types().indexOf(EXEC_MIME_TYPE) == -1) {\n",
       "      register_renderer(events, OutputArea);\n",
       "    }\n",
       "  }\n",
       "\n",
       "  \n",
       "  if (typeof (root._bokeh_timeout) === \"undefined\" || force === true) {\n",
       "    root._bokeh_timeout = Date.now() + 5000;\n",
       "    root._bokeh_failed_load = false;\n",
       "  }\n",
       "\n",
       "  var NB_LOAD_WARNING = {'data': {'text/html':\n",
       "     \"<div style='background-color: #fdd'>\\n\"+\n",
       "     \"<p>\\n\"+\n",
       "     \"BokehJS does not appear to have successfully loaded. If loading BokehJS from CDN, this \\n\"+\n",
       "     \"may be due to a slow or bad network connection. Possible fixes:\\n\"+\n",
       "     \"</p>\\n\"+\n",
       "     \"<ul>\\n\"+\n",
       "     \"<li>re-rerun `output_notebook()` to attempt to load from CDN again, or</li>\\n\"+\n",
       "     \"<li>use INLINE resources instead, as so:</li>\\n\"+\n",
       "     \"</ul>\\n\"+\n",
       "     \"<code>\\n\"+\n",
       "     \"from bokeh.resources import INLINE\\n\"+\n",
       "     \"output_notebook(resources=INLINE)\\n\"+\n",
       "     \"</code>\\n\"+\n",
       "     \"</div>\"}};\n",
       "\n",
       "  function display_loaded() {\n",
       "    var el = document.getElementById(\"3295\");\n",
       "    if (el != null) {\n",
       "      el.textContent = \"BokehJS is loading...\";\n",
       "    }\n",
       "    if (root.Bokeh !== undefined) {\n",
       "      if (el != null) {\n",
       "        el.textContent = \"BokehJS \" + root.Bokeh.version + \" successfully loaded.\";\n",
       "      }\n",
       "    } else if (Date.now() < root._bokeh_timeout) {\n",
       "      setTimeout(display_loaded, 100)\n",
       "    }\n",
       "  }\n",
       "\n",
       "\n",
       "  function run_callbacks() {\n",
       "    try {\n",
       "      root._bokeh_onload_callbacks.forEach(function(callback) {\n",
       "        if (callback != null)\n",
       "          callback();\n",
       "      });\n",
       "    } finally {\n",
       "      delete root._bokeh_onload_callbacks\n",
       "    }\n",
       "    console.debug(\"Bokeh: all callbacks have finished\");\n",
       "  }\n",
       "\n",
       "  function load_libs(css_urls, js_urls, callback) {\n",
       "    if (css_urls == null) css_urls = [];\n",
       "    if (js_urls == null) js_urls = [];\n",
       "\n",
       "    root._bokeh_onload_callbacks.push(callback);\n",
       "    if (root._bokeh_is_loading > 0) {\n",
       "      console.debug(\"Bokeh: BokehJS is being loaded, scheduling callback at\", now());\n",
       "      return null;\n",
       "    }\n",
       "    if (js_urls == null || js_urls.length === 0) {\n",
       "      run_callbacks();\n",
       "      return null;\n",
       "    }\n",
       "    console.debug(\"Bokeh: BokehJS not loaded, scheduling load and callback at\", now());\n",
       "    root._bokeh_is_loading = css_urls.length + js_urls.length;\n",
       "\n",
       "    function on_load() {\n",
       "      root._bokeh_is_loading--;\n",
       "      if (root._bokeh_is_loading === 0) {\n",
       "        console.debug(\"Bokeh: all BokehJS libraries/stylesheets loaded\");\n",
       "        run_callbacks()\n",
       "      }\n",
       "    }\n",
       "\n",
       "    function on_error() {\n",
       "      console.error(\"failed to load \" + url);\n",
       "    }\n",
       "\n",
       "    for (var i = 0; i < css_urls.length; i++) {\n",
       "      var url = css_urls[i];\n",
       "      const element = document.createElement(\"link\");\n",
       "      element.onload = on_load;\n",
       "      element.onerror = on_error;\n",
       "      element.rel = \"stylesheet\";\n",
       "      element.type = \"text/css\";\n",
       "      element.href = url;\n",
       "      console.debug(\"Bokeh: injecting link tag for BokehJS stylesheet: \", url);\n",
       "      document.body.appendChild(element);\n",
       "    }\n",
       "\n",
       "    for (var i = 0; i < js_urls.length; i++) {\n",
       "      var url = js_urls[i];\n",
       "      var element = document.createElement('script');\n",
       "      element.onload = on_load;\n",
       "      element.onerror = on_error;\n",
       "      element.async = false;\n",
       "      element.src = url;\n",
       "      console.debug(\"Bokeh: injecting script tag for BokehJS library: \", url);\n",
       "      document.head.appendChild(element);\n",
       "    }\n",
       "  };var element = document.getElementById(\"3295\");\n",
       "  if (element == null) {\n",
       "    console.error(\"Bokeh: ERROR: autoload.js configured with elementid '3295' but no matching script tag was found. \")\n",
       "    return false;\n",
       "  }\n",
       "\n",
       "  function inject_raw_css(css) {\n",
       "    const element = document.createElement(\"style\");\n",
       "    element.appendChild(document.createTextNode(css));\n",
       "    document.body.appendChild(element);\n",
       "  }\n",
       "\n",
       "  \n",
       "  var js_urls = [\"https://cdn.pydata.org/bokeh/release/bokeh-1.4.0.min.js\", \"https://cdn.pydata.org/bokeh/release/bokeh-widgets-1.4.0.min.js\", \"https://cdn.pydata.org/bokeh/release/bokeh-tables-1.4.0.min.js\", \"https://cdn.pydata.org/bokeh/release/bokeh-gl-1.4.0.min.js\"];\n",
       "  var css_urls = [];\n",
       "  \n",
       "\n",
       "  var inline_js = [\n",
       "    function(Bokeh) {\n",
       "      Bokeh.set_log_level(\"info\");\n",
       "    },\n",
       "    function(Bokeh) {\n",
       "    \n",
       "    \n",
       "    }\n",
       "  ];\n",
       "\n",
       "  function run_inline_js() {\n",
       "    \n",
       "    if (root.Bokeh !== undefined || force === true) {\n",
       "      \n",
       "    for (var i = 0; i < inline_js.length; i++) {\n",
       "      inline_js[i].call(root, root.Bokeh);\n",
       "    }\n",
       "    if (force === true) {\n",
       "        display_loaded();\n",
       "      }} else if (Date.now() < root._bokeh_timeout) {\n",
       "      setTimeout(run_inline_js, 100);\n",
       "    } else if (!root._bokeh_failed_load) {\n",
       "      console.log(\"Bokeh: BokehJS failed to load within specified timeout.\");\n",
       "      root._bokeh_failed_load = true;\n",
       "    } else if (force !== true) {\n",
       "      var cell = $(document.getElementById(\"3295\")).parents('.cell').data().cell;\n",
       "      cell.output_area.append_execute_result(NB_LOAD_WARNING)\n",
       "    }\n",
       "\n",
       "  }\n",
       "\n",
       "  if (root._bokeh_is_loading === 0) {\n",
       "    console.debug(\"Bokeh: BokehJS loaded, going straight to plotting\");\n",
       "    run_inline_js();\n",
       "  } else {\n",
       "    load_libs(css_urls, js_urls, function() {\n",
       "      console.debug(\"Bokeh: BokehJS plotting callback run at\", now());\n",
       "      run_inline_js();\n",
       "    });\n",
       "  }\n",
       "}(window));"
      ],
      "application/vnd.bokehjs_load.v0+json": "\n(function(root) {\n  function now() {\n    return new Date();\n  }\n\n  var force = true;\n\n  if (typeof root._bokeh_onload_callbacks === \"undefined\" || force === true) {\n    root._bokeh_onload_callbacks = [];\n    root._bokeh_is_loading = undefined;\n  }\n\n  \n\n  \n  if (typeof (root._bokeh_timeout) === \"undefined\" || force === true) {\n    root._bokeh_timeout = Date.now() + 5000;\n    root._bokeh_failed_load = false;\n  }\n\n  var NB_LOAD_WARNING = {'data': {'text/html':\n     \"<div style='background-color: #fdd'>\\n\"+\n     \"<p>\\n\"+\n     \"BokehJS does not appear to have successfully loaded. If loading BokehJS from CDN, this \\n\"+\n     \"may be due to a slow or bad network connection. Possible fixes:\\n\"+\n     \"</p>\\n\"+\n     \"<ul>\\n\"+\n     \"<li>re-rerun `output_notebook()` to attempt to load from CDN again, or</li>\\n\"+\n     \"<li>use INLINE resources instead, as so:</li>\\n\"+\n     \"</ul>\\n\"+\n     \"<code>\\n\"+\n     \"from bokeh.resources import INLINE\\n\"+\n     \"output_notebook(resources=INLINE)\\n\"+\n     \"</code>\\n\"+\n     \"</div>\"}};\n\n  function display_loaded() {\n    var el = document.getElementById(\"3295\");\n    if (el != null) {\n      el.textContent = \"BokehJS is loading...\";\n    }\n    if (root.Bokeh !== undefined) {\n      if (el != null) {\n        el.textContent = \"BokehJS \" + root.Bokeh.version + \" successfully loaded.\";\n      }\n    } else if (Date.now() < root._bokeh_timeout) {\n      setTimeout(display_loaded, 100)\n    }\n  }\n\n\n  function run_callbacks() {\n    try {\n      root._bokeh_onload_callbacks.forEach(function(callback) {\n        if (callback != null)\n          callback();\n      });\n    } finally {\n      delete root._bokeh_onload_callbacks\n    }\n    console.debug(\"Bokeh: all callbacks have finished\");\n  }\n\n  function load_libs(css_urls, js_urls, callback) {\n    if (css_urls == null) css_urls = [];\n    if (js_urls == null) js_urls = [];\n\n    root._bokeh_onload_callbacks.push(callback);\n    if (root._bokeh_is_loading > 0) {\n      console.debug(\"Bokeh: BokehJS is being loaded, scheduling callback at\", now());\n      return null;\n    }\n    if (js_urls == null || js_urls.length === 0) {\n      run_callbacks();\n      return null;\n    }\n    console.debug(\"Bokeh: BokehJS not loaded, scheduling load and callback at\", now());\n    root._bokeh_is_loading = css_urls.length + js_urls.length;\n\n    function on_load() {\n      root._bokeh_is_loading--;\n      if (root._bokeh_is_loading === 0) {\n        console.debug(\"Bokeh: all BokehJS libraries/stylesheets loaded\");\n        run_callbacks()\n      }\n    }\n\n    function on_error() {\n      console.error(\"failed to load \" + url);\n    }\n\n    for (var i = 0; i < css_urls.length; i++) {\n      var url = css_urls[i];\n      const element = document.createElement(\"link\");\n      element.onload = on_load;\n      element.onerror = on_error;\n      element.rel = \"stylesheet\";\n      element.type = \"text/css\";\n      element.href = url;\n      console.debug(\"Bokeh: injecting link tag for BokehJS stylesheet: \", url);\n      document.body.appendChild(element);\n    }\n\n    for (var i = 0; i < js_urls.length; i++) {\n      var url = js_urls[i];\n      var element = document.createElement('script');\n      element.onload = on_load;\n      element.onerror = on_error;\n      element.async = false;\n      element.src = url;\n      console.debug(\"Bokeh: injecting script tag for BokehJS library: \", url);\n      document.head.appendChild(element);\n    }\n  };var element = document.getElementById(\"3295\");\n  if (element == null) {\n    console.error(\"Bokeh: ERROR: autoload.js configured with elementid '3295' but no matching script tag was found. \")\n    return false;\n  }\n\n  function inject_raw_css(css) {\n    const element = document.createElement(\"style\");\n    element.appendChild(document.createTextNode(css));\n    document.body.appendChild(element);\n  }\n\n  \n  var js_urls = [\"https://cdn.pydata.org/bokeh/release/bokeh-1.4.0.min.js\", \"https://cdn.pydata.org/bokeh/release/bokeh-widgets-1.4.0.min.js\", \"https://cdn.pydata.org/bokeh/release/bokeh-tables-1.4.0.min.js\", \"https://cdn.pydata.org/bokeh/release/bokeh-gl-1.4.0.min.js\"];\n  var css_urls = [];\n  \n\n  var inline_js = [\n    function(Bokeh) {\n      Bokeh.set_log_level(\"info\");\n    },\n    function(Bokeh) {\n    \n    \n    }\n  ];\n\n  function run_inline_js() {\n    \n    if (root.Bokeh !== undefined || force === true) {\n      \n    for (var i = 0; i < inline_js.length; i++) {\n      inline_js[i].call(root, root.Bokeh);\n    }\n    if (force === true) {\n        display_loaded();\n      }} else if (Date.now() < root._bokeh_timeout) {\n      setTimeout(run_inline_js, 100);\n    } else if (!root._bokeh_failed_load) {\n      console.log(\"Bokeh: BokehJS failed to load within specified timeout.\");\n      root._bokeh_failed_load = true;\n    } else if (force !== true) {\n      var cell = $(document.getElementById(\"3295\")).parents('.cell').data().cell;\n      cell.output_area.append_execute_result(NB_LOAD_WARNING)\n    }\n\n  }\n\n  if (root._bokeh_is_loading === 0) {\n    console.debug(\"Bokeh: BokehJS loaded, going straight to plotting\");\n    run_inline_js();\n  } else {\n    load_libs(css_urls, js_urls, function() {\n      console.debug(\"Bokeh: BokehJS plotting callback run at\", now());\n      run_inline_js();\n    });\n  }\n}(window));"
     },
     "metadata": {},
     "output_type": "display_data"
    },
    {
     "data": {
      "text/html": [
       "\n",
       "\n",
       "\n",
       "\n",
       "\n",
       "\n",
       "  <div class=\"bk-root\" id=\"e252b1c2-fc3c-4899-bd9b-a7f891fca972\" data-root-id=\"3297\"></div>\n"
      ]
     },
     "metadata": {},
     "output_type": "display_data"
    },
    {
     "data": {
      "application/javascript": [
       "(function(root) {\n",
       "  function embed_document(root) {\n",
       "    \n",
       "  var docs_json = {\"685686b2-d69e-455c-861f-1a7c5b96d953\":{\"roots\":{\"references\":[{\"attributes\":{\"below\":[{\"id\":\"3306\",\"type\":\"LinearAxis\"}],\"center\":[{\"id\":\"3310\",\"type\":\"Grid\"},{\"id\":\"3315\",\"type\":\"Grid\"}],\"left\":[{\"id\":\"3311\",\"type\":\"LinearAxis\"}],\"min_border\":0,\"plot_height\":400,\"plot_width\":750,\"renderers\":[{\"id\":\"3333\",\"type\":\"GlyphRenderer\"}],\"title\":{\"id\":\"3335\",\"type\":\"Title\"},\"toolbar\":{\"id\":\"3322\",\"type\":\"Toolbar\"},\"x_range\":{\"id\":\"3298\",\"type\":\"DataRange1d\"},\"x_scale\":{\"id\":\"3302\",\"type\":\"LinearScale\"},\"y_range\":{\"id\":\"3300\",\"type\":\"DataRange1d\"},\"y_scale\":{\"id\":\"3304\",\"type\":\"LinearScale\"}},\"id\":\"3297\",\"subtype\":\"Figure\",\"type\":\"Plot\"},{\"attributes\":{\"bottom\":{\"value\":0},\"fill_alpha\":{\"value\":0.8},\"fill_color\":{\"value\":\"blue\"},\"left\":{\"field\":\"left\"},\"line_alpha\":{\"value\":0.8},\"line_color\":{\"value\":\"white\"},\"right\":{\"field\":\"right\"},\"top\":{\"field\":\"top\"}},\"id\":\"3330\",\"type\":\"Quad\"},{\"attributes\":{},\"id\":\"3304\",\"type\":\"LinearScale\"},{\"attributes\":{\"callback\":null},\"id\":\"3300\",\"type\":\"DataRange1d\"},{\"attributes\":{},\"id\":\"3469\",\"type\":\"BasicTickFormatter\"},{\"attributes\":{\"active_drag\":\"auto\",\"active_inspect\":\"auto\",\"active_multi\":null,\"active_scroll\":\"auto\",\"active_tap\":\"auto\",\"tools\":[{\"id\":\"3316\",\"type\":\"PanTool\"},{\"id\":\"3317\",\"type\":\"WheelZoomTool\"},{\"id\":\"3318\",\"type\":\"BoxZoomTool\"},{\"id\":\"3319\",\"type\":\"SaveTool\"},{\"id\":\"3320\",\"type\":\"ResetTool\"},{\"id\":\"3321\",\"type\":\"HelpTool\"},{\"id\":\"3336\",\"type\":\"HoverTool\"}]},\"id\":\"3322\",\"type\":\"Toolbar\"},{\"attributes\":{\"source\":{\"id\":\"3329\",\"type\":\"ColumnDataSource\"}},\"id\":\"3334\",\"type\":\"CDSView\"},{\"attributes\":{\"axis_label\":\"Average time (minutes)\",\"formatter\":{\"id\":\"3467\",\"type\":\"BasicTickFormatter\"},\"ticker\":{\"id\":\"3307\",\"type\":\"BasicTicker\"}},\"id\":\"3306\",\"type\":\"LinearAxis\"},{\"attributes\":{},\"id\":\"3320\",\"type\":\"ResetTool\"},{\"attributes\":{\"callback\":null},\"id\":\"3298\",\"type\":\"DataRange1d\"},{\"attributes\":{},\"id\":\"3312\",\"type\":\"BasicTicker\"},{\"attributes\":{\"overlay\":{\"id\":\"3472\",\"type\":\"BoxAnnotation\"}},\"id\":\"3318\",\"type\":\"BoxZoomTool\"},{\"attributes\":{\"callback\":null,\"tooltips\":[[\"Frequency\",\"@{Frequency}{,}\"],[\"Average time (minutes)\",\"@hist\"]]},\"id\":\"3336\",\"type\":\"HoverTool\"},{\"attributes\":{},\"id\":\"3467\",\"type\":\"BasicTickFormatter\"},{\"attributes\":{},\"id\":\"3307\",\"type\":\"BasicTicker\"},{\"attributes\":{},\"id\":\"3319\",\"type\":\"SaveTool\"},{\"attributes\":{},\"id\":\"3470\",\"type\":\"Selection\"},{\"attributes\":{},\"id\":\"3302\",\"type\":\"LinearScale\"},{\"attributes\":{\"axis_label\":\"Frequency\",\"formatter\":{\"id\":\"3469\",\"type\":\"BasicTickFormatter\"},\"ticker\":{\"id\":\"3312\",\"type\":\"BasicTicker\"}},\"id\":\"3311\",\"type\":\"LinearAxis\"},{\"attributes\":{\"dimension\":1,\"ticker\":{\"id\":\"3312\",\"type\":\"BasicTicker\"}},\"id\":\"3315\",\"type\":\"Grid\"},{\"attributes\":{},\"id\":\"3316\",\"type\":\"PanTool\"},{\"attributes\":{\"text\":\"Distribution of time spent on airbnb (in a session)\"},\"id\":\"3335\",\"type\":\"Title\"},{\"attributes\":{},\"id\":\"3317\",\"type\":\"WheelZoomTool\"},{\"attributes\":{\"bottom\":{\"value\":0},\"fill_alpha\":{\"value\":0.1},\"fill_color\":{\"value\":\"#1f77b4\"},\"left\":{\"field\":\"left\"},\"line_alpha\":{\"value\":0.1},\"line_color\":{\"value\":\"#1f77b4\"},\"right\":{\"field\":\"right\"},\"top\":{\"field\":\"top\"}},\"id\":\"3331\",\"type\":\"Quad\"},{\"attributes\":{\"bottom\":{\"value\":0},\"fill_color\":{\"value\":\"green\"},\"left\":{\"field\":\"left\"},\"line_color\":{\"value\":\"#1f77b4\"},\"right\":{\"field\":\"right\"},\"top\":{\"field\":\"top\"}},\"id\":\"3332\",\"type\":\"Quad\"},{\"attributes\":{},\"id\":\"3321\",\"type\":\"HelpTool\"},{\"attributes\":{\"callback\":null,\"data\":{\"left\":{\"__ndarray__\":\"fdInfdInGUBR/vdZ66t0QKyu/bSbeYRAL17/vEGdjkDZhoDic2CUQJtegeZGcplAXDaC6hmEnkAPh0F39sqhQPDyQfnfU6RA0V5Ce8ncpkCyykL9smWpQJM2Q3+c7qtAc6JDAYZ3rkArB6LBN4CwQBs9ooKsxLFADHOiQyEJs0D8qKIElk20QOzeosUKkrVA3RSjhn/WtkDNSqNH9Bq4QL6AowhpX7lArrajyd2jukCf7KOKUui7QI8ipEvHLL1Af1ikDDxxvkBwjqTNsLW/QDBiUscSfcBAKH3SJ00fwUAgmFKIh8HBQBiz0ujBY8JAEc5SSfwFw0AJ6dKpNqjDQAEEUwpxSsRA+R7TaqvsxEDxOVPL5Y7FQOpU0ysgMcZA4m9TjFrTxkDaitPslHXHQNKlU03PF8hAy8DTrQm6yEDD21MORFzJQLv2025+/slAsxFUz7igykCrLNQv80LLQKRHVJAt5ctAnGLU8GeHzECUfVRRoinNQIyY1LHcy81AhLNUEhduzkB9ztRyURDPQHXpVNOLss9AN4LqGWMq0ECzjypKgHvQQC+danqdzNBA\",\"dtype\":\"float64\",\"shape\":[54]},\"right\":{\"__ndarray__\":\"Uf73WeurdECsrv20m3mEQC9e/7xBnY5A2YaA4nNglECbXoHmRnKZQFw2guoZhJ5AD4dBd/bKoUDw8kH531OkQNFeQnvJ3KZAsspC/bJlqUCTNkN/nO6rQHOiQwGGd65AKweiwTeAsEAbPaKCrMSxQAxzokMhCbNA/KiiBJZNtEDs3qLFCpK1QN0Uo4Z/1rZAzUqjR/QauEC+gKMIaV+5QK62o8ndo7pAn+yjilLou0CPIqRLxyy9QH9YpAw8cb5AcI6kzbC1v0AwYlLHEn3AQCh90idNH8FAIJhSiIfBwUAYs9LowWPCQBHOUkn8BcNACenSqTaow0ABBFMKcUrEQPke02qr7MRA8TlTy+WOxUDqVNMrIDHGQOJvU4xa08ZA2orT7JR1x0DSpVNNzxfIQMvA060JushAw9tTDkRcyUC79tNufv7JQLMRVM+4oMpAqyzUL/NCy0CkR1SQLeXLQJxi1PBnh8xAlH1UUaIpzUCMmNSx3MvNQISzVBIXbs5Afc7UclEQz0B16VTTi7LPQDeC6hljKtBAs48qSoB70EAvnWp6nczQQKuqqqq6HdFA\",\"dtype\":\"float64\",\"shape\":[54]},\"top\":{\"__ndarray__\":\"v4ATpU3MUT95s5PvBrJEP17XSuyh1Tg/shJvIxveMz8i0SWLQzYiPw+cJrUozR0/CJwmtSjNHT/rGJSEeX0KP+sYlIR5ffo+6xiUhHl9+j7rGJSEeX0KP/YYlIR5ffo+AAAAAAAAAAD2GJSEeX3qPuEYlIR5feo+9hiUhHl9+j72GJSEeX3qPgAAAAAAAAAA9hiUhHl96j4AAAAAAAAAAPYYlIR5ffo+AAAAAAAAAAAAAAAAAAAAAAAAAAAAAAAAAAAAAAAAAAAAAAAAAAAAAPYYlIR5feo+AAAAAAAAAAAAAAAAAAAAAAAAAAAAAAAAAAAAAAAAAAAAAAAAAAAAAAAAAAAAAAAAAAAAAAAAAAAAAAAAAAAAAAAAAAAAAAAAAAAAAAAAAAAAAAAAAAAAAAAAAAAAAAAAAAAAAAAAAAAAAAAAAAAAAPYYlIR5feo+AAAAAAAAAAAAAAAAAAAAAAAAAAAAAAAAAAAAAAAAAAAAAAAAAAAAAAAAAAAAAAAAAAAAAAAAAAAAAAAAAAAAAAAAAAAAAAAAAAAAAAAAAAAAAAAAAAAAAPYYlIR5feo+\",\"dtype\":\"float64\",\"shape\":[54]}},\"selected\":{\"id\":\"3470\",\"type\":\"Selection\"},\"selection_policy\":{\"id\":\"3471\",\"type\":\"UnionRenderers\"}},\"id\":\"3329\",\"type\":\"ColumnDataSource\"},{\"attributes\":{},\"id\":\"3471\",\"type\":\"UnionRenderers\"},{\"attributes\":{\"bottom_units\":\"screen\",\"fill_alpha\":{\"value\":0.5},\"fill_color\":{\"value\":\"lightgrey\"},\"left_units\":\"screen\",\"level\":\"overlay\",\"line_alpha\":{\"value\":1.0},\"line_color\":{\"value\":\"black\"},\"line_dash\":[4,4],\"line_width\":{\"value\":2},\"render_mode\":\"css\",\"right_units\":\"screen\",\"top_units\":\"screen\"},\"id\":\"3472\",\"type\":\"BoxAnnotation\"},{\"attributes\":{\"data_source\":{\"id\":\"3329\",\"type\":\"ColumnDataSource\"},\"glyph\":{\"id\":\"3330\",\"type\":\"Quad\"},\"hover_glyph\":{\"id\":\"3332\",\"type\":\"Quad\"},\"muted_glyph\":null,\"nonselection_glyph\":{\"id\":\"3331\",\"type\":\"Quad\"},\"selection_glyph\":null,\"view\":{\"id\":\"3334\",\"type\":\"CDSView\"}},\"id\":\"3333\",\"type\":\"GlyphRenderer\"},{\"attributes\":{\"ticker\":{\"id\":\"3307\",\"type\":\"BasicTicker\"}},\"id\":\"3310\",\"type\":\"Grid\"}],\"root_ids\":[\"3297\"]},\"title\":\"Bokeh Application\",\"version\":\"1.4.0\"}};\n",
       "  var render_items = [{\"docid\":\"685686b2-d69e-455c-861f-1a7c5b96d953\",\"roots\":{\"3297\":\"e252b1c2-fc3c-4899-bd9b-a7f891fca972\"}}];\n",
       "  root.Bokeh.embed.embed_items_notebook(docs_json, render_items);\n",
       "\n",
       "  }\n",
       "  if (root.Bokeh !== undefined) {\n",
       "    embed_document(root);\n",
       "  } else {\n",
       "    var attempts = 0;\n",
       "    var timer = setInterval(function(root) {\n",
       "      if (root.Bokeh !== undefined) {\n",
       "        clearInterval(timer);\n",
       "        embed_document(root);\n",
       "      } else {\n",
       "        attempts++;\n",
       "        if (attempts > 100) {\n",
       "          clearInterval(timer);\n",
       "          console.log(\"Bokeh: ERROR: Unable to run BokehJS code because BokehJS library is missing\");\n",
       "        }\n",
       "      }\n",
       "    }, 10, root)\n",
       "  }\n",
       "})(window);"
      ],
      "application/vnd.bokehjs_exec.v0+json": ""
     },
     "metadata": {
      "application/vnd.bokehjs_exec.v0+json": {
       "id": "3297"
      }
     },
     "output_type": "display_data"
    }
   ],
   "source": [
    "output_notebook()\n",
    "#bokeh.io.output_notebook()\n",
    "\n",
    "session_data = ColumnDataSource(data = action_df.toPandas())\n",
    "plot = figure(plot_width=750, plot_height = 400, \\\n",
    "              min_border = 0)#, Tooltips = tooltips)\n",
    "plot.quad(bottom=0, top = hist, left = edges[:-1], \\\n",
    "          right = edges[1:], \\\n",
    "          fill_color = \"blue\", line_color = \"white\", alpha = 0.8, \\\n",
    "         hover_fill_color = \"green\")\n",
    "plot.title.text = 'Distribution of time spent on airbnb (in a session)'\n",
    "plot.xaxis.axis_label = 'Average time (minutes)'\n",
    "plot.yaxis.axis_label = 'Frequency'\n",
    "#plot.xaxis.major_label_orientation = 90\n",
    "hover = HoverTool(tooltips = [('Frequency', '@{Frequency}{,}'), \\\n",
    "                              ('Average time (minutes)', '@hist'), ]) #('Frequency', '@Frequency')])\n",
    "plot.add_tools(hover)\n",
    "\n",
    "show(plot)"
   ]
  },
  {
   "cell_type": "markdown",
   "metadata": {},
   "source": [
    "Most user actions on the website take less than 5,000 minutes. In fact anything above 3,000 might be considered an outlier (visually). Most users probably leave the web browser open while engaging in other activities. 3-5 hours on average i each session is a bteer measure. Time spent (in minutes) does not seem useful at this stage. \n",
    "\n",
    "What type of activities do users engage in for these sessions?"
   ]
  },
  {
   "cell_type": "code",
   "execution_count": 714,
   "metadata": {},
   "outputs": [],
   "source": [
    "#### Top 10 user actions in a session - time spent in minutes"
   ]
  },
  {
   "cell_type": "code",
   "execution_count": 715,
   "metadata": {},
   "outputs": [],
   "source": [
    "### Descriptive statistics"
   ]
  },
  {
   "cell_type": "code",
   "execution_count": 716,
   "metadata": {},
   "outputs": [
    {
     "data": {
      "text/html": [
       "<div>\n",
       "<style scoped>\n",
       "    .dataframe tbody tr th:only-of-type {\n",
       "        vertical-align: middle;\n",
       "    }\n",
       "\n",
       "    .dataframe tbody tr th {\n",
       "        vertical-align: top;\n",
       "    }\n",
       "\n",
       "    .dataframe thead th {\n",
       "        text-align: right;\n",
       "    }\n",
       "</style>\n",
       "<table border=\"1\" class=\"dataframe\">\n",
       "  <thead>\n",
       "    <tr style=\"text-align: right;\">\n",
       "      <th></th>\n",
       "      <th>action</th>\n",
       "      <th>mean_mins</th>\n",
       "    </tr>\n",
       "  </thead>\n",
       "  <tbody>\n",
       "    <tr>\n",
       "      <th>0</th>\n",
       "      <td>new_session</td>\n",
       "      <td>17526.916667</td>\n",
       "    </tr>\n",
       "    <tr>\n",
       "      <th>1</th>\n",
       "      <td>locations</td>\n",
       "      <td>13461.991667</td>\n",
       "    </tr>\n",
       "    <tr>\n",
       "      <th>2</th>\n",
       "      <td>recommend</td>\n",
       "      <td>8635.666667</td>\n",
       "    </tr>\n",
       "    <tr>\n",
       "      <th>3</th>\n",
       "      <td>10</td>\n",
       "      <td>6789.599218</td>\n",
       "    </tr>\n",
       "    <tr>\n",
       "      <th>4</th>\n",
       "      <td>12</td>\n",
       "      <td>6642.852737</td>\n",
       "    </tr>\n",
       "    <tr>\n",
       "      <th>5</th>\n",
       "      <td>set_password</td>\n",
       "      <td>5947.009748</td>\n",
       "    </tr>\n",
       "    <tr>\n",
       "      <th>6</th>\n",
       "      <td>payoneer_signup_complete</td>\n",
       "      <td>5218.083333</td>\n",
       "    </tr>\n",
       "    <tr>\n",
       "      <th>7</th>\n",
       "      <td>press_news</td>\n",
       "      <td>5055.350000</td>\n",
       "    </tr>\n",
       "    <tr>\n",
       "      <th>8</th>\n",
       "      <td>life</td>\n",
       "      <td>4913.033333</td>\n",
       "    </tr>\n",
       "    <tr>\n",
       "      <th>9</th>\n",
       "      <td>ajax_send_message</td>\n",
       "      <td>4829.912500</td>\n",
       "    </tr>\n",
       "  </tbody>\n",
       "</table>\n",
       "</div>"
      ],
      "text/plain": [
       "                     action     mean_mins\n",
       "0               new_session  17526.916667\n",
       "1                 locations  13461.991667\n",
       "2                 recommend   8635.666667\n",
       "3                        10   6789.599218\n",
       "4                        12   6642.852737\n",
       "5              set_password   5947.009748\n",
       "6  payoneer_signup_complete   5218.083333\n",
       "7                press_news   5055.350000\n",
       "8                      life   4913.033333\n",
       "9         ajax_send_message   4829.912500"
      ]
     },
     "execution_count": 716,
     "metadata": {},
     "output_type": "execute_result"
    }
   ],
   "source": [
    "action_df[[\"action\", \"mean_mins\"]].sort(desc(\"mean_mins\")).toPandas().head(10)"
   ]
  },
  {
   "cell_type": "markdown",
   "metadata": {},
   "source": [
    "The time spent in by a user on a specific action appears to contain ouliers. Verify using some basic descriptive statistics."
   ]
  },
  {
   "cell_type": "code",
   "execution_count": 717,
   "metadata": {},
   "outputs": [],
   "source": [
    "##### Get mean, median and total values of time spent in a sesion (secs_elapsed)"
   ]
  },
  {
   "cell_type": "code",
   "execution_count": 718,
   "metadata": {},
   "outputs": [],
   "source": [
    "session_df = session_df.withColumn(\"secs_elapsed\", session_df[\"secs_elapsed\"].cast(IntegerType()))"
   ]
  },
  {
   "cell_type": "code",
   "execution_count": 719,
   "metadata": {
    "scrolled": true
   },
   "outputs": [
    {
     "name": "stdout",
     "output_type": "stream",
     "text": [
      "Mean time spent in user session (mins) = 21593.0\n",
      "Median time spent in user session (mins) = 1314.0\n"
     ]
    }
   ],
   "source": [
    "print(\"Mean time spent in user session (mins) = {}\" .format(np.round(session_df.select(\"secs_elapsed\").agg(avg(col(\"secs_elapsed\"))).take(1)[0][\"avg(secs_elapsed)\"])))\n",
    "print(\"Median time spent in user session (mins) = {}\" .format(np.round(session_df.approxQuantile(\"secs_elapsed\", [0.5], 0)[0])))"
   ]
  },
  {
   "cell_type": "markdown",
   "metadata": {},
   "source": [
    "The mean >> median. This implies that there are some large values \n",
    "(outliers) in the amount of time a user spends in a session. "
   ]
  },
  {
   "cell_type": "code",
   "execution_count": 720,
   "metadata": {},
   "outputs": [],
   "source": [
    "##### Remove ouliers"
   ]
  },
  {
   "cell_type": "code",
   "execution_count": 721,
   "metadata": {},
   "outputs": [],
   "source": [
    "quantiles = action_df.toPandas().quantile([0.25, 0.75]).reset_index()\n",
    "outlier_cutoff = quantiles.loc[1][\"mean_mins\"] + (1.5 * (quantiles.loc[1][\"mean_mins\"] - \\\n",
    "                                                    quantiles.loc[0][\"mean_mins\"]))"
   ]
  },
  {
   "cell_type": "code",
   "execution_count": 722,
   "metadata": {
    "scrolled": false
   },
   "outputs": [
    {
     "data": {
      "text/html": [
       "<div>\n",
       "<style scoped>\n",
       "    .dataframe tbody tr th:only-of-type {\n",
       "        vertical-align: middle;\n",
       "    }\n",
       "\n",
       "    .dataframe tbody tr th {\n",
       "        vertical-align: top;\n",
       "    }\n",
       "\n",
       "    .dataframe thead th {\n",
       "        text-align: right;\n",
       "    }\n",
       "</style>\n",
       "<table border=\"1\" class=\"dataframe\">\n",
       "  <thead>\n",
       "    <tr style=\"text-align: right;\">\n",
       "      <th></th>\n",
       "      <th>index</th>\n",
       "      <th>mean_secs</th>\n",
       "      <th>mean_mins</th>\n",
       "    </tr>\n",
       "  </thead>\n",
       "  <tbody>\n",
       "    <tr>\n",
       "      <th>0</th>\n",
       "      <td>0.25</td>\n",
       "      <td>12169.734148</td>\n",
       "      <td>202.828902</td>\n",
       "    </tr>\n",
       "    <tr>\n",
       "      <th>1</th>\n",
       "      <td>0.75</td>\n",
       "      <td>73306.333333</td>\n",
       "      <td>1221.772222</td>\n",
       "    </tr>\n",
       "  </tbody>\n",
       "</table>\n",
       "</div>"
      ],
      "text/plain": [
       "   index     mean_secs    mean_mins\n",
       "0   0.25  12169.734148   202.828902\n",
       "1   0.75  73306.333333  1221.772222"
      ]
     },
     "execution_count": 722,
     "metadata": {},
     "output_type": "execute_result"
    }
   ],
   "source": [
    "quantiles "
   ]
  },
  {
   "cell_type": "code",
   "execution_count": 723,
   "metadata": {
    "scrolled": true
   },
   "outputs": [
    {
     "data": {
      "text/html": [
       "<div>\n",
       "<style scoped>\n",
       "    .dataframe tbody tr th:only-of-type {\n",
       "        vertical-align: middle;\n",
       "    }\n",
       "\n",
       "    .dataframe tbody tr th {\n",
       "        vertical-align: top;\n",
       "    }\n",
       "\n",
       "    .dataframe thead th {\n",
       "        text-align: right;\n",
       "    }\n",
       "</style>\n",
       "<table border=\"1\" class=\"dataframe\">\n",
       "  <thead>\n",
       "    <tr style=\"text-align: right;\">\n",
       "      <th></th>\n",
       "      <th>index</th>\n",
       "      <th>mean_secs</th>\n",
       "      <th>mean_mins</th>\n",
       "    </tr>\n",
       "  </thead>\n",
       "  <tbody>\n",
       "    <tr>\n",
       "      <th>0</th>\n",
       "      <td>0.5</td>\n",
       "      <td>31521.2</td>\n",
       "      <td>525.35</td>\n",
       "    </tr>\n",
       "  </tbody>\n",
       "</table>\n",
       "</div>"
      ],
      "text/plain": [
       "   index  mean_secs  mean_mins\n",
       "0    0.5    31521.2     525.35"
      ]
     },
     "execution_count": 723,
     "metadata": {},
     "output_type": "execute_result"
    }
   ],
   "source": [
    "no_outlier_median = action_df.toPandas().quantile([0.50]).reset_index()\n",
    "np.round(no_outlier_median, 2)"
   ]
  },
  {
   "cell_type": "markdown",
   "metadata": {},
   "source": [
    "Users on average spend less than 10 hours in a session. The average is less than half once outliers are removed."
   ]
  },
  {
   "cell_type": "code",
   "execution_count": 724,
   "metadata": {},
   "outputs": [],
   "source": [
    "##### Top 10 actions by AirBnB users - outliers removed"
   ]
  },
  {
   "cell_type": "code",
   "execution_count": 725,
   "metadata": {
    "scrolled": false
   },
   "outputs": [
    {
     "name": "stdout",
     "output_type": "stream",
     "text": [
      "Wall time: 6.27 s\n"
     ]
    }
   ],
   "source": [
    "%%time\n",
    "action_df_no_outliers = action_df.filter(col(\"mean_mins\") <= \\\n",
    "                                         outlier_cutoff).sort(desc(\"mean_mins\"))\n",
    "action_df_no_outliers_top10 = sqlContext.createDataFrame(action_df_no_outliers.head(10))"
   ]
  },
  {
   "cell_type": "code",
   "execution_count": 726,
   "metadata": {
    "scrolled": false
   },
   "outputs": [
    {
     "data": {
      "text/html": [
       "<div>\n",
       "<style scoped>\n",
       "    .dataframe tbody tr th:only-of-type {\n",
       "        vertical-align: middle;\n",
       "    }\n",
       "\n",
       "    .dataframe tbody tr th {\n",
       "        vertical-align: top;\n",
       "    }\n",
       "\n",
       "    .dataframe thead th {\n",
       "        text-align: right;\n",
       "    }\n",
       "</style>\n",
       "<table border=\"1\" class=\"dataframe\">\n",
       "  <thead>\n",
       "    <tr style=\"text-align: right;\">\n",
       "      <th></th>\n",
       "      <th>action</th>\n",
       "      <th>mean_mins</th>\n",
       "    </tr>\n",
       "  </thead>\n",
       "  <tbody>\n",
       "    <tr>\n",
       "      <th>0</th>\n",
       "      <td>guest_booked_elsewhere</td>\n",
       "      <td>2629.0</td>\n",
       "    </tr>\n",
       "    <tr>\n",
       "      <th>1</th>\n",
       "      <td>salute</td>\n",
       "      <td>2593.0</td>\n",
       "    </tr>\n",
       "    <tr>\n",
       "      <th>2</th>\n",
       "      <td>concierge</td>\n",
       "      <td>2547.0</td>\n",
       "    </tr>\n",
       "    <tr>\n",
       "      <th>3</th>\n",
       "      <td>email_itinerary_colorbox</td>\n",
       "      <td>2439.0</td>\n",
       "    </tr>\n",
       "    <tr>\n",
       "      <th>4</th>\n",
       "      <td>upload</td>\n",
       "      <td>2361.0</td>\n",
       "    </tr>\n",
       "    <tr>\n",
       "      <th>5</th>\n",
       "      <td>receipt</td>\n",
       "      <td>2197.0</td>\n",
       "    </tr>\n",
       "    <tr>\n",
       "      <th>6</th>\n",
       "      <td>mobile_landing_page</td>\n",
       "      <td>2172.0</td>\n",
       "    </tr>\n",
       "    <tr>\n",
       "      <th>7</th>\n",
       "      <td>cancellation_policies</td>\n",
       "      <td>2156.0</td>\n",
       "    </tr>\n",
       "    <tr>\n",
       "      <th>8</th>\n",
       "      <td>other_hosting_reviews</td>\n",
       "      <td>2152.0</td>\n",
       "    </tr>\n",
       "    <tr>\n",
       "      <th>9</th>\n",
       "      <td>press_release</td>\n",
       "      <td>2080.0</td>\n",
       "    </tr>\n",
       "  </tbody>\n",
       "</table>\n",
       "</div>"
      ],
      "text/plain": [
       "                     action  mean_mins\n",
       "0    guest_booked_elsewhere     2629.0\n",
       "1                    salute     2593.0\n",
       "2                 concierge     2547.0\n",
       "3  email_itinerary_colorbox     2439.0\n",
       "4                    upload     2361.0\n",
       "5                   receipt     2197.0\n",
       "6       mobile_landing_page     2172.0\n",
       "7     cancellation_policies     2156.0\n",
       "8     other_hosting_reviews     2152.0\n",
       "9             press_release     2080.0"
      ]
     },
     "execution_count": 726,
     "metadata": {},
     "output_type": "execute_result"
    }
   ],
   "source": [
    "action_pd_df_10 = action_df_no_outliers.sort(desc(\"mean_mins\")).toPandas()\n",
    "action_pd_df_10[\"mean_mins\"] = np.round(action_pd_df_10[\"mean_mins\"])#[[\"action\", \"mean_mins\"]]\n",
    "action_pd_df_10[[\"action\", \"mean_mins\"]].head(10)"
   ]
  },
  {
   "cell_type": "markdown",
   "metadata": {},
   "source": [
    "The top 10 average time in a session per user action exceeds 35 hours"
   ]
  },
  {
   "cell_type": "code",
   "execution_count": 727,
   "metadata": {},
   "outputs": [],
   "source": [
    "#### Get more details on user actions in a session"
   ]
  },
  {
   "cell_type": "code",
   "execution_count": 728,
   "metadata": {},
   "outputs": [],
   "source": [
    "##### Calculate the average time spent during specific users action"
   ]
  },
  {
   "cell_type": "code",
   "execution_count": 729,
   "metadata": {},
   "outputs": [],
   "source": [
    "session_group = Window().partitionBy(\"action\", \"action_type\", \"action_detail\")\n",
    "#median_udf = udf(lambda x: int(np.nanmedian(x)), IntegerType())\n",
    "session_df = session_df.withColumn(\"secs_elapsed\", \\\n",
    "                                   when(col(\"secs_elapsed\").isNull(), \\\n",
    "                                        count(col(\"secs_elapsed\")).over(session_group)).otherwise(col(\"secs_elapsed\"))) "
   ]
  },
  {
   "cell_type": "code",
   "execution_count": 730,
   "metadata": {},
   "outputs": [],
   "source": [
    "##### Plot detailed user actions with outliers removed"
   ]
  },
  {
   "cell_type": "code",
   "execution_count": 731,
   "metadata": {},
   "outputs": [],
   "source": [
    "### Find and plot top 10 user activities (action, type, and detail) by count and average minutes"
   ]
  },
  {
   "cell_type": "code",
   "execution_count": 732,
   "metadata": {},
   "outputs": [
    {
     "name": "stdout",
     "output_type": "stream",
     "text": [
      "Wall time: 14.4 ms\n"
     ]
    }
   ],
   "source": [
    "%%time\n",
    "user_activity_df = sqlContext.sql(\"SELECT action, action_type, \\\n",
    "                        action_detail, \\\n",
    "                        COUNT(action, action_type, action_detail) as count, \\\n",
    "                        PERCENTILE_APPROX(secs_elapsed, 0.5) AS avg_secs, \\\n",
    "                        PERCENTILE_APPROX(secs_elapsed, 0.5)/60 AS avg_mins \\\n",
    "                        FROM session_df \\\n",
    "                        GROUP BY action, action_type, action_detail \\\n",
    "          \")"
   ]
  },
  {
   "cell_type": "code",
   "execution_count": 733,
   "metadata": {},
   "outputs": [],
   "source": [
    "user_activity_df = user_activity_df.withColumn(\"activity\", concat(lit(\"[\"), col(\"action\"), lit(\", \"), col(\"action_type\"), lit(\", \"), col(\"action_detail\"), lit(\"]\")))"
   ]
  },
  {
   "cell_type": "code",
   "execution_count": 734,
   "metadata": {},
   "outputs": [],
   "source": [
    "##### Sort top 10 user activities by count"
   ]
  },
  {
   "cell_type": "code",
   "execution_count": 735,
   "metadata": {},
   "outputs": [],
   "source": [
    "user_activity_pd_df = user_activity_df.select(\"activity\", \"count\", \"avg_mins\").distinct().sort(desc(\"count\")).toPandas() #.dropDuplicates([\"activity\", \"mean_mins\"]).collect()"
   ]
  },
  {
   "cell_type": "code",
   "execution_count": 736,
   "metadata": {},
   "outputs": [
    {
     "data": {
      "text/html": [
       "<div>\n",
       "<style scoped>\n",
       "    .dataframe tbody tr th:only-of-type {\n",
       "        vertical-align: middle;\n",
       "    }\n",
       "\n",
       "    .dataframe tbody tr th {\n",
       "        vertical-align: top;\n",
       "    }\n",
       "\n",
       "    .dataframe thead th {\n",
       "        text-align: right;\n",
       "    }\n",
       "</style>\n",
       "<table border=\"1\" class=\"dataframe\">\n",
       "  <thead>\n",
       "    <tr style=\"text-align: right;\">\n",
       "      <th></th>\n",
       "      <th>activity</th>\n",
       "      <th>count</th>\n",
       "      <th>avg_mins</th>\n",
       "    </tr>\n",
       "  </thead>\n",
       "  <tbody>\n",
       "    <tr>\n",
       "      <th>120</th>\n",
       "      <td>[10, message_post, message_post]</td>\n",
       "      <td>213</td>\n",
       "      <td>4166.666667</td>\n",
       "    </tr>\n",
       "    <tr>\n",
       "      <th>172</th>\n",
       "      <td>[11, message_post, message_post]</td>\n",
       "      <td>50</td>\n",
       "      <td>1003.450000</td>\n",
       "    </tr>\n",
       "    <tr>\n",
       "      <th>114</th>\n",
       "      <td>[12, message_post, message_post]</td>\n",
       "      <td>274</td>\n",
       "      <td>3531.033333</td>\n",
       "    </tr>\n",
       "    <tr>\n",
       "      <th>143</th>\n",
       "      <td>[15, message_post, message_post]</td>\n",
       "      <td>110</td>\n",
       "      <td>888.183333</td>\n",
       "    </tr>\n",
       "    <tr>\n",
       "      <th>229</th>\n",
       "      <td>[about_us, -unknown-, -unknown-]</td>\n",
       "      <td>8</td>\n",
       "      <td>391.016667</td>\n",
       "    </tr>\n",
       "    <tr>\n",
       "      <th>...</th>\n",
       "      <td>...</td>\n",
       "      <td>...</td>\n",
       "      <td>...</td>\n",
       "    </tr>\n",
       "    <tr>\n",
       "      <th>299</th>\n",
       "      <td>None</td>\n",
       "      <td>0</td>\n",
       "      <td>62.016667</td>\n",
       "    </tr>\n",
       "    <tr>\n",
       "      <th>300</th>\n",
       "      <td>None</td>\n",
       "      <td>0</td>\n",
       "      <td>10.300000</td>\n",
       "    </tr>\n",
       "    <tr>\n",
       "      <th>301</th>\n",
       "      <td>None</td>\n",
       "      <td>0</td>\n",
       "      <td>69.450000</td>\n",
       "    </tr>\n",
       "    <tr>\n",
       "      <th>302</th>\n",
       "      <td>None</td>\n",
       "      <td>0</td>\n",
       "      <td>14.483333</td>\n",
       "    </tr>\n",
       "    <tr>\n",
       "      <th>303</th>\n",
       "      <td>None</td>\n",
       "      <td>0</td>\n",
       "      <td>2.233333</td>\n",
       "    </tr>\n",
       "  </tbody>\n",
       "</table>\n",
       "<p>304 rows × 3 columns</p>\n",
       "</div>"
      ],
      "text/plain": [
       "                             activity  count     avg_mins\n",
       "120  [10, message_post, message_post]    213  4166.666667\n",
       "172  [11, message_post, message_post]     50  1003.450000\n",
       "114  [12, message_post, message_post]    274  3531.033333\n",
       "143  [15, message_post, message_post]    110   888.183333\n",
       "229  [about_us, -unknown-, -unknown-]      8   391.016667\n",
       "..                                ...    ...          ...\n",
       "299                              None      0    62.016667\n",
       "300                              None      0    10.300000\n",
       "301                              None      0    69.450000\n",
       "302                              None      0    14.483333\n",
       "303                              None      0     2.233333\n",
       "\n",
       "[304 rows x 3 columns]"
      ]
     },
     "execution_count": 736,
     "metadata": {},
     "output_type": "execute_result"
    }
   ],
   "source": [
    "user_activity_pd_df[[\"activity\", \"count\", \"avg_mins\"]].sort_values(\"activity\", ascending = True)"
   ]
  },
  {
   "cell_type": "code",
   "execution_count": 737,
   "metadata": {},
   "outputs": [
    {
     "data": {
      "text/plain": [
       "activity    293\n",
       "count       304\n",
       "avg_mins    304\n",
       "dtype: int64"
      ]
     },
     "execution_count": 737,
     "metadata": {},
     "output_type": "execute_result"
    }
   ],
   "source": [
    "user_activity_pd_df.count()"
   ]
  },
  {
   "cell_type": "code",
   "execution_count": 738,
   "metadata": {},
   "outputs": [
    {
     "data": {
      "text/plain": [
       "0       True\n",
       "1       True\n",
       "2       True\n",
       "3       True\n",
       "4       True\n",
       "       ...  \n",
       "299    False\n",
       "300    False\n",
       "301    False\n",
       "302    False\n",
       "303    False\n",
       "Name: activity, Length: 304, dtype: bool"
      ]
     },
     "execution_count": 738,
     "metadata": {},
     "output_type": "execute_result"
    }
   ],
   "source": [
    "(user_activity_pd_df[\"activity\"].str.match(\"\") == True)"
   ]
  },
  {
   "cell_type": "code",
   "execution_count": 739,
   "metadata": {
    "scrolled": true
   },
   "outputs": [
    {
     "data": {
      "text/html": [
       "<div>\n",
       "<style scoped>\n",
       "    .dataframe tbody tr th:only-of-type {\n",
       "        vertical-align: middle;\n",
       "    }\n",
       "\n",
       "    .dataframe tbody tr th {\n",
       "        vertical-align: top;\n",
       "    }\n",
       "\n",
       "    .dataframe thead th {\n",
       "        text-align: right;\n",
       "    }\n",
       "</style>\n",
       "<table border=\"1\" class=\"dataframe\">\n",
       "  <thead>\n",
       "    <tr style=\"text-align: right;\">\n",
       "      <th></th>\n",
       "      <th>activity</th>\n",
       "      <th>count</th>\n",
       "      <th>avg_mins</th>\n",
       "    </tr>\n",
       "  </thead>\n",
       "  <tbody>\n",
       "    <tr>\n",
       "      <th>247</th>\n",
       "      <td>[new_session, -unknown-, -unknown-]</td>\n",
       "      <td>1</td>\n",
       "      <td>17527.0</td>\n",
       "    </tr>\n",
       "    <tr>\n",
       "      <th>129</th>\n",
       "      <td>[recommend, -unknown-, -unknown-]</td>\n",
       "      <td>73</td>\n",
       "      <td>7027.0</td>\n",
       "    </tr>\n",
       "    <tr>\n",
       "      <th>86</th>\n",
       "      <td>[life, -unknown-, -unknown-]</td>\n",
       "      <td>1</td>\n",
       "      <td>4913.0</td>\n",
       "    </tr>\n",
       "    <tr>\n",
       "      <th>81</th>\n",
       "      <td>[payoneer_signup_complete, -unknown-, -unknown-]</td>\n",
       "      <td>5</td>\n",
       "      <td>4659.0</td>\n",
       "    </tr>\n",
       "    <tr>\n",
       "      <th>156</th>\n",
       "      <td>[10, message_post, message_post]</td>\n",
       "      <td>213</td>\n",
       "      <td>4167.0</td>\n",
       "    </tr>\n",
       "    <tr>\n",
       "      <th>106</th>\n",
       "      <td>[12, message_post, message_post]</td>\n",
       "      <td>274</td>\n",
       "      <td>3531.0</td>\n",
       "    </tr>\n",
       "    <tr>\n",
       "      <th>55</th>\n",
       "      <td>[set_password, submit, set_password]</td>\n",
       "      <td>54</td>\n",
       "      <td>3222.0</td>\n",
       "    </tr>\n",
       "    <tr>\n",
       "      <th>17</th>\n",
       "      <td>[locations, -unknown-, -unknown-]</td>\n",
       "      <td>2</td>\n",
       "      <td>3006.0</td>\n",
       "    </tr>\n",
       "    <tr>\n",
       "      <th>249</th>\n",
       "      <td>[ajax_send_message, -unknown-, -unknown-]</td>\n",
       "      <td>4</td>\n",
       "      <td>3002.0</td>\n",
       "    </tr>\n",
       "    <tr>\n",
       "      <th>181</th>\n",
       "      <td>[show, view, alteration_request]</td>\n",
       "      <td>4</td>\n",
       "      <td>2740.0</td>\n",
       "    </tr>\n",
       "  </tbody>\n",
       "</table>\n",
       "</div>"
      ],
      "text/plain": [
       "                                             activity  count  avg_mins\n",
       "247               [new_session, -unknown-, -unknown-]      1   17527.0\n",
       "129                 [recommend, -unknown-, -unknown-]     73    7027.0\n",
       "86                       [life, -unknown-, -unknown-]      1    4913.0\n",
       "81   [payoneer_signup_complete, -unknown-, -unknown-]      5    4659.0\n",
       "156                  [10, message_post, message_post]    213    4167.0\n",
       "106                  [12, message_post, message_post]    274    3531.0\n",
       "55               [set_password, submit, set_password]     54    3222.0\n",
       "17                  [locations, -unknown-, -unknown-]      2    3006.0\n",
       "249         [ajax_send_message, -unknown-, -unknown-]      4    3002.0\n",
       "181                  [show, view, alteration_request]      4    2740.0"
      ]
     },
     "execution_count": 739,
     "metadata": {},
     "output_type": "execute_result"
    }
   ],
   "source": [
    "user_activity_pd_df = user_activity_df.toPandas().sort_values(\"avg_mins\", ascending = False)\n",
    "user_activity_pd_df[\"avg_mins\"] = np.round(user_activity_pd_df[\"avg_mins\"])\n",
    "user_activity_pd_df[[\"activity\", \"count\", \"avg_mins\"]].head(10)"
   ]
  },
  {
   "cell_type": "code",
   "execution_count": 740,
   "metadata": {},
   "outputs": [],
   "source": [
    "user_activity_pd_df.quantile(0.25)\n",
    "user_activity_quantiles = user_activity_pd_df.quantile([0.25, 0.75]).reset_index()\n",
    "user_activity_outlier_cutoff = user_activity_quantiles.loc[1][\"avg_mins\"] + (1.5 * (user_activity_quantiles.loc[1][\"avg_mins\"] - \\\n",
    "                                                   user_activity_quantiles.loc[0][\"avg_mins\"]))"
   ]
  },
  {
   "cell_type": "code",
   "execution_count": 741,
   "metadata": {},
   "outputs": [],
   "source": [
    "user_activity_quantiles_no_outliers = user_activity_pd_df[user_activity_pd_df[\"avg_mins\"] <= user_activity_outlier_cutoff].sort_values(\"avg_mins\", ascending = False)\n"
   ]
  },
  {
   "cell_type": "code",
   "execution_count": 742,
   "metadata": {
    "scrolled": true
   },
   "outputs": [
    {
     "data": {
      "text/html": [
       "<div>\n",
       "<style scoped>\n",
       "    .dataframe tbody tr th:only-of-type {\n",
       "        vertical-align: middle;\n",
       "    }\n",
       "\n",
       "    .dataframe tbody tr th {\n",
       "        vertical-align: top;\n",
       "    }\n",
       "\n",
       "    .dataframe thead th {\n",
       "        text-align: right;\n",
       "    }\n",
       "</style>\n",
       "<table border=\"1\" class=\"dataframe\">\n",
       "  <thead>\n",
       "    <tr style=\"text-align: right;\">\n",
       "      <th></th>\n",
       "      <th>activity</th>\n",
       "      <th>count</th>\n",
       "      <th>avg_mins</th>\n",
       "    </tr>\n",
       "  </thead>\n",
       "  <tbody>\n",
       "    <tr>\n",
       "      <th>238</th>\n",
       "      <td>[onenight, -unknown-, -unknown-]</td>\n",
       "      <td>10</td>\n",
       "      <td>1104.0</td>\n",
       "    </tr>\n",
       "    <tr>\n",
       "      <th>18</th>\n",
       "      <td>[concierge, -unknown-, -unknown-]</td>\n",
       "      <td>47</td>\n",
       "      <td>1090.0</td>\n",
       "    </tr>\n",
       "    <tr>\n",
       "      <th>269</th>\n",
       "      <td>[approve, -unknown-, -unknown-]</td>\n",
       "      <td>1</td>\n",
       "      <td>1066.0</td>\n",
       "    </tr>\n",
       "    <tr>\n",
       "      <th>184</th>\n",
       "      <td>[press_release, -unknown-, -unknown-]</td>\n",
       "      <td>21</td>\n",
       "      <td>1045.0</td>\n",
       "    </tr>\n",
       "    <tr>\n",
       "      <th>136</th>\n",
       "      <td>[rentals, -unknown-, -unknown-]</td>\n",
       "      <td>7</td>\n",
       "      <td>1004.0</td>\n",
       "    </tr>\n",
       "    <tr>\n",
       "      <th>240</th>\n",
       "      <td>[11, message_post, message_post]</td>\n",
       "      <td>50</td>\n",
       "      <td>1003.0</td>\n",
       "    </tr>\n",
       "    <tr>\n",
       "      <th>0</th>\n",
       "      <td>[maybe_information, message_post, message_post]</td>\n",
       "      <td>2</td>\n",
       "      <td>978.0</td>\n",
       "    </tr>\n",
       "    <tr>\n",
       "      <th>113</th>\n",
       "      <td>[confirm_email, click, confirm_email_link]</td>\n",
       "      <td>7256</td>\n",
       "      <td>969.0</td>\n",
       "    </tr>\n",
       "    <tr>\n",
       "      <th>66</th>\n",
       "      <td>[ajax_image_upload, -unknown-, -unknown-]</td>\n",
       "      <td>1550</td>\n",
       "      <td>955.0</td>\n",
       "    </tr>\n",
       "    <tr>\n",
       "      <th>19</th>\n",
       "      <td>[webcam_upload, -unknown-, -unknown-]</td>\n",
       "      <td>84</td>\n",
       "      <td>938.0</td>\n",
       "    </tr>\n",
       "  </tbody>\n",
       "</table>\n",
       "</div>"
      ],
      "text/plain": [
       "                                            activity  count  avg_mins\n",
       "238                 [onenight, -unknown-, -unknown-]     10    1104.0\n",
       "18                 [concierge, -unknown-, -unknown-]     47    1090.0\n",
       "269                  [approve, -unknown-, -unknown-]      1    1066.0\n",
       "184            [press_release, -unknown-, -unknown-]     21    1045.0\n",
       "136                  [rentals, -unknown-, -unknown-]      7    1004.0\n",
       "240                 [11, message_post, message_post]     50    1003.0\n",
       "0    [maybe_information, message_post, message_post]      2     978.0\n",
       "113       [confirm_email, click, confirm_email_link]   7256     969.0\n",
       "66         [ajax_image_upload, -unknown-, -unknown-]   1550     955.0\n",
       "19             [webcam_upload, -unknown-, -unknown-]     84     938.0"
      ]
     },
     "execution_count": 742,
     "metadata": {},
     "output_type": "execute_result"
    }
   ],
   "source": [
    "user_activity_quantiles_no_outliers[[\"activity\", \"count\", \"avg_mins\"]].head(10) #_no_outliers.head()"
   ]
  },
  {
   "cell_type": "markdown",
   "metadata": {},
   "source": [
    "Once outliers are removed, most customers or users spend 18 hours in various activities before booking - messages, email, concierge, image uploads.\n",
    "**time in search, personalizing data and updating listings**"
   ]
  },
  {
   "cell_type": "code",
   "execution_count": 743,
   "metadata": {},
   "outputs": [],
   "source": [
    "### Demographics and website"
   ]
  },
  {
   "cell_type": "code",
   "execution_count": 744,
   "metadata": {},
   "outputs": [],
   "source": [
    "### Analyze train_user2 data"
   ]
  },
  {
   "cell_type": "code",
   "execution_count": 745,
   "metadata": {},
   "outputs": [],
   "source": [
    "train_user_df = sqlContext.read.csv(\"train_users_2.csv\", \\\n",
    "                    header = True, mode = \"DROPMALFORMED\")"
   ]
  },
  {
   "cell_type": "code",
   "execution_count": 746,
   "metadata": {
    "scrolled": false
   },
   "outputs": [
    {
     "data": {
      "text/plain": [
       "213451"
      ]
     },
     "execution_count": 746,
     "metadata": {},
     "output_type": "execute_result"
    }
   ],
   "source": [
    "train_user_df.count()"
   ]
  },
  {
   "cell_type": "code",
   "execution_count": 747,
   "metadata": {},
   "outputs": [],
   "source": [
    "#### Get an idea about age distribution before replacing null values"
   ]
  },
  {
   "cell_type": "code",
   "execution_count": 748,
   "metadata": {},
   "outputs": [
    {
     "data": {
      "text/plain": [
       "age    125461\n",
       "dtype: int64"
      ]
     },
     "execution_count": 748,
     "metadata": {},
     "output_type": "execute_result"
    }
   ],
   "source": [
    "age_list = [val[0] for val in train_user_df.select(col(\"age\")).collect()]\n",
    "\n",
    "age_pd_df = pd.DataFrame(age_list, columns = [\"age\"])\n",
    "\n",
    "age_pd_df.count()"
   ]
  },
  {
   "cell_type": "code",
   "execution_count": 749,
   "metadata": {},
   "outputs": [],
   "source": [
    "#### Basic statistics about age"
   ]
  },
  {
   "cell_type": "code",
   "execution_count": 750,
   "metadata": {
    "scrolled": true
   },
   "outputs": [
    {
     "data": {
      "text/html": [
       "\n",
       "    <div class=\"bk-root\">\n",
       "        <a href=\"https://bokeh.org\" target=\"_blank\" class=\"bk-logo bk-logo-small bk-logo-notebook\"></a>\n",
       "        <span id=\"3527\">Loading BokehJS ...</span>\n",
       "    </div>"
      ]
     },
     "metadata": {},
     "output_type": "display_data"
    },
    {
     "data": {
      "application/javascript": [
       "\n",
       "(function(root) {\n",
       "  function now() {\n",
       "    return new Date();\n",
       "  }\n",
       "\n",
       "  var force = true;\n",
       "\n",
       "  if (typeof root._bokeh_onload_callbacks === \"undefined\" || force === true) {\n",
       "    root._bokeh_onload_callbacks = [];\n",
       "    root._bokeh_is_loading = undefined;\n",
       "  }\n",
       "\n",
       "  var JS_MIME_TYPE = 'application/javascript';\n",
       "  var HTML_MIME_TYPE = 'text/html';\n",
       "  var EXEC_MIME_TYPE = 'application/vnd.bokehjs_exec.v0+json';\n",
       "  var CLASS_NAME = 'output_bokeh rendered_html';\n",
       "\n",
       "  /**\n",
       "   * Render data to the DOM node\n",
       "   */\n",
       "  function render(props, node) {\n",
       "    var script = document.createElement(\"script\");\n",
       "    node.appendChild(script);\n",
       "  }\n",
       "\n",
       "  /**\n",
       "   * Handle when an output is cleared or removed\n",
       "   */\n",
       "  function handleClearOutput(event, handle) {\n",
       "    var cell = handle.cell;\n",
       "\n",
       "    var id = cell.output_area._bokeh_element_id;\n",
       "    var server_id = cell.output_area._bokeh_server_id;\n",
       "    // Clean up Bokeh references\n",
       "    if (id != null && id in Bokeh.index) {\n",
       "      Bokeh.index[id].model.document.clear();\n",
       "      delete Bokeh.index[id];\n",
       "    }\n",
       "\n",
       "    if (server_id !== undefined) {\n",
       "      // Clean up Bokeh references\n",
       "      var cmd = \"from bokeh.io.state import curstate; print(curstate().uuid_to_server['\" + server_id + \"'].get_sessions()[0].document.roots[0]._id)\";\n",
       "      cell.notebook.kernel.execute(cmd, {\n",
       "        iopub: {\n",
       "          output: function(msg) {\n",
       "            var id = msg.content.text.trim();\n",
       "            if (id in Bokeh.index) {\n",
       "              Bokeh.index[id].model.document.clear();\n",
       "              delete Bokeh.index[id];\n",
       "            }\n",
       "          }\n",
       "        }\n",
       "      });\n",
       "      // Destroy server and session\n",
       "      var cmd = \"import bokeh.io.notebook as ion; ion.destroy_server('\" + server_id + \"')\";\n",
       "      cell.notebook.kernel.execute(cmd);\n",
       "    }\n",
       "  }\n",
       "\n",
       "  /**\n",
       "   * Handle when a new output is added\n",
       "   */\n",
       "  function handleAddOutput(event, handle) {\n",
       "    var output_area = handle.output_area;\n",
       "    var output = handle.output;\n",
       "\n",
       "    // limit handleAddOutput to display_data with EXEC_MIME_TYPE content only\n",
       "    if ((output.output_type != \"display_data\") || (!output.data.hasOwnProperty(EXEC_MIME_TYPE))) {\n",
       "      return\n",
       "    }\n",
       "\n",
       "    var toinsert = output_area.element.find(\".\" + CLASS_NAME.split(' ')[0]);\n",
       "\n",
       "    if (output.metadata[EXEC_MIME_TYPE][\"id\"] !== undefined) {\n",
       "      toinsert[toinsert.length - 1].firstChild.textContent = output.data[JS_MIME_TYPE];\n",
       "      // store reference to embed id on output_area\n",
       "      output_area._bokeh_element_id = output.metadata[EXEC_MIME_TYPE][\"id\"];\n",
       "    }\n",
       "    if (output.metadata[EXEC_MIME_TYPE][\"server_id\"] !== undefined) {\n",
       "      var bk_div = document.createElement(\"div\");\n",
       "      bk_div.innerHTML = output.data[HTML_MIME_TYPE];\n",
       "      var script_attrs = bk_div.children[0].attributes;\n",
       "      for (var i = 0; i < script_attrs.length; i++) {\n",
       "        toinsert[toinsert.length - 1].firstChild.setAttribute(script_attrs[i].name, script_attrs[i].value);\n",
       "      }\n",
       "      // store reference to server id on output_area\n",
       "      output_area._bokeh_server_id = output.metadata[EXEC_MIME_TYPE][\"server_id\"];\n",
       "    }\n",
       "  }\n",
       "\n",
       "  function register_renderer(events, OutputArea) {\n",
       "\n",
       "    function append_mime(data, metadata, element) {\n",
       "      // create a DOM node to render to\n",
       "      var toinsert = this.create_output_subarea(\n",
       "        metadata,\n",
       "        CLASS_NAME,\n",
       "        EXEC_MIME_TYPE\n",
       "      );\n",
       "      this.keyboard_manager.register_events(toinsert);\n",
       "      // Render to node\n",
       "      var props = {data: data, metadata: metadata[EXEC_MIME_TYPE]};\n",
       "      render(props, toinsert[toinsert.length - 1]);\n",
       "      element.append(toinsert);\n",
       "      return toinsert\n",
       "    }\n",
       "\n",
       "    /* Handle when an output is cleared or removed */\n",
       "    events.on('clear_output.CodeCell', handleClearOutput);\n",
       "    events.on('delete.Cell', handleClearOutput);\n",
       "\n",
       "    /* Handle when a new output is added */\n",
       "    events.on('output_added.OutputArea', handleAddOutput);\n",
       "\n",
       "    /**\n",
       "     * Register the mime type and append_mime function with output_area\n",
       "     */\n",
       "    OutputArea.prototype.register_mime_type(EXEC_MIME_TYPE, append_mime, {\n",
       "      /* Is output safe? */\n",
       "      safe: true,\n",
       "      /* Index of renderer in `output_area.display_order` */\n",
       "      index: 0\n",
       "    });\n",
       "  }\n",
       "\n",
       "  // register the mime type if in Jupyter Notebook environment and previously unregistered\n",
       "  if (root.Jupyter !== undefined) {\n",
       "    var events = require('base/js/events');\n",
       "    var OutputArea = require('notebook/js/outputarea').OutputArea;\n",
       "\n",
       "    if (OutputArea.prototype.mime_types().indexOf(EXEC_MIME_TYPE) == -1) {\n",
       "      register_renderer(events, OutputArea);\n",
       "    }\n",
       "  }\n",
       "\n",
       "  \n",
       "  if (typeof (root._bokeh_timeout) === \"undefined\" || force === true) {\n",
       "    root._bokeh_timeout = Date.now() + 5000;\n",
       "    root._bokeh_failed_load = false;\n",
       "  }\n",
       "\n",
       "  var NB_LOAD_WARNING = {'data': {'text/html':\n",
       "     \"<div style='background-color: #fdd'>\\n\"+\n",
       "     \"<p>\\n\"+\n",
       "     \"BokehJS does not appear to have successfully loaded. If loading BokehJS from CDN, this \\n\"+\n",
       "     \"may be due to a slow or bad network connection. Possible fixes:\\n\"+\n",
       "     \"</p>\\n\"+\n",
       "     \"<ul>\\n\"+\n",
       "     \"<li>re-rerun `output_notebook()` to attempt to load from CDN again, or</li>\\n\"+\n",
       "     \"<li>use INLINE resources instead, as so:</li>\\n\"+\n",
       "     \"</ul>\\n\"+\n",
       "     \"<code>\\n\"+\n",
       "     \"from bokeh.resources import INLINE\\n\"+\n",
       "     \"output_notebook(resources=INLINE)\\n\"+\n",
       "     \"</code>\\n\"+\n",
       "     \"</div>\"}};\n",
       "\n",
       "  function display_loaded() {\n",
       "    var el = document.getElementById(\"3527\");\n",
       "    if (el != null) {\n",
       "      el.textContent = \"BokehJS is loading...\";\n",
       "    }\n",
       "    if (root.Bokeh !== undefined) {\n",
       "      if (el != null) {\n",
       "        el.textContent = \"BokehJS \" + root.Bokeh.version + \" successfully loaded.\";\n",
       "      }\n",
       "    } else if (Date.now() < root._bokeh_timeout) {\n",
       "      setTimeout(display_loaded, 100)\n",
       "    }\n",
       "  }\n",
       "\n",
       "\n",
       "  function run_callbacks() {\n",
       "    try {\n",
       "      root._bokeh_onload_callbacks.forEach(function(callback) {\n",
       "        if (callback != null)\n",
       "          callback();\n",
       "      });\n",
       "    } finally {\n",
       "      delete root._bokeh_onload_callbacks\n",
       "    }\n",
       "    console.debug(\"Bokeh: all callbacks have finished\");\n",
       "  }\n",
       "\n",
       "  function load_libs(css_urls, js_urls, callback) {\n",
       "    if (css_urls == null) css_urls = [];\n",
       "    if (js_urls == null) js_urls = [];\n",
       "\n",
       "    root._bokeh_onload_callbacks.push(callback);\n",
       "    if (root._bokeh_is_loading > 0) {\n",
       "      console.debug(\"Bokeh: BokehJS is being loaded, scheduling callback at\", now());\n",
       "      return null;\n",
       "    }\n",
       "    if (js_urls == null || js_urls.length === 0) {\n",
       "      run_callbacks();\n",
       "      return null;\n",
       "    }\n",
       "    console.debug(\"Bokeh: BokehJS not loaded, scheduling load and callback at\", now());\n",
       "    root._bokeh_is_loading = css_urls.length + js_urls.length;\n",
       "\n",
       "    function on_load() {\n",
       "      root._bokeh_is_loading--;\n",
       "      if (root._bokeh_is_loading === 0) {\n",
       "        console.debug(\"Bokeh: all BokehJS libraries/stylesheets loaded\");\n",
       "        run_callbacks()\n",
       "      }\n",
       "    }\n",
       "\n",
       "    function on_error() {\n",
       "      console.error(\"failed to load \" + url);\n",
       "    }\n",
       "\n",
       "    for (var i = 0; i < css_urls.length; i++) {\n",
       "      var url = css_urls[i];\n",
       "      const element = document.createElement(\"link\");\n",
       "      element.onload = on_load;\n",
       "      element.onerror = on_error;\n",
       "      element.rel = \"stylesheet\";\n",
       "      element.type = \"text/css\";\n",
       "      element.href = url;\n",
       "      console.debug(\"Bokeh: injecting link tag for BokehJS stylesheet: \", url);\n",
       "      document.body.appendChild(element);\n",
       "    }\n",
       "\n",
       "    for (var i = 0; i < js_urls.length; i++) {\n",
       "      var url = js_urls[i];\n",
       "      var element = document.createElement('script');\n",
       "      element.onload = on_load;\n",
       "      element.onerror = on_error;\n",
       "      element.async = false;\n",
       "      element.src = url;\n",
       "      console.debug(\"Bokeh: injecting script tag for BokehJS library: \", url);\n",
       "      document.head.appendChild(element);\n",
       "    }\n",
       "  };var element = document.getElementById(\"3527\");\n",
       "  if (element == null) {\n",
       "    console.error(\"Bokeh: ERROR: autoload.js configured with elementid '3527' but no matching script tag was found. \")\n",
       "    return false;\n",
       "  }\n",
       "\n",
       "  function inject_raw_css(css) {\n",
       "    const element = document.createElement(\"style\");\n",
       "    element.appendChild(document.createTextNode(css));\n",
       "    document.body.appendChild(element);\n",
       "  }\n",
       "\n",
       "  \n",
       "  var js_urls = [\"https://cdn.pydata.org/bokeh/release/bokeh-1.4.0.min.js\", \"https://cdn.pydata.org/bokeh/release/bokeh-widgets-1.4.0.min.js\", \"https://cdn.pydata.org/bokeh/release/bokeh-tables-1.4.0.min.js\", \"https://cdn.pydata.org/bokeh/release/bokeh-gl-1.4.0.min.js\"];\n",
       "  var css_urls = [];\n",
       "  \n",
       "\n",
       "  var inline_js = [\n",
       "    function(Bokeh) {\n",
       "      Bokeh.set_log_level(\"info\");\n",
       "    },\n",
       "    function(Bokeh) {\n",
       "    \n",
       "    \n",
       "    }\n",
       "  ];\n",
       "\n",
       "  function run_inline_js() {\n",
       "    \n",
       "    if (root.Bokeh !== undefined || force === true) {\n",
       "      \n",
       "    for (var i = 0; i < inline_js.length; i++) {\n",
       "      inline_js[i].call(root, root.Bokeh);\n",
       "    }\n",
       "    if (force === true) {\n",
       "        display_loaded();\n",
       "      }} else if (Date.now() < root._bokeh_timeout) {\n",
       "      setTimeout(run_inline_js, 100);\n",
       "    } else if (!root._bokeh_failed_load) {\n",
       "      console.log(\"Bokeh: BokehJS failed to load within specified timeout.\");\n",
       "      root._bokeh_failed_load = true;\n",
       "    } else if (force !== true) {\n",
       "      var cell = $(document.getElementById(\"3527\")).parents('.cell').data().cell;\n",
       "      cell.output_area.append_execute_result(NB_LOAD_WARNING)\n",
       "    }\n",
       "\n",
       "  }\n",
       "\n",
       "  if (root._bokeh_is_loading === 0) {\n",
       "    console.debug(\"Bokeh: BokehJS loaded, going straight to plotting\");\n",
       "    run_inline_js();\n",
       "  } else {\n",
       "    load_libs(css_urls, js_urls, function() {\n",
       "      console.debug(\"Bokeh: BokehJS plotting callback run at\", now());\n",
       "      run_inline_js();\n",
       "    });\n",
       "  }\n",
       "}(window));"
      ],
      "application/vnd.bokehjs_load.v0+json": "\n(function(root) {\n  function now() {\n    return new Date();\n  }\n\n  var force = true;\n\n  if (typeof root._bokeh_onload_callbacks === \"undefined\" || force === true) {\n    root._bokeh_onload_callbacks = [];\n    root._bokeh_is_loading = undefined;\n  }\n\n  \n\n  \n  if (typeof (root._bokeh_timeout) === \"undefined\" || force === true) {\n    root._bokeh_timeout = Date.now() + 5000;\n    root._bokeh_failed_load = false;\n  }\n\n  var NB_LOAD_WARNING = {'data': {'text/html':\n     \"<div style='background-color: #fdd'>\\n\"+\n     \"<p>\\n\"+\n     \"BokehJS does not appear to have successfully loaded. If loading BokehJS from CDN, this \\n\"+\n     \"may be due to a slow or bad network connection. Possible fixes:\\n\"+\n     \"</p>\\n\"+\n     \"<ul>\\n\"+\n     \"<li>re-rerun `output_notebook()` to attempt to load from CDN again, or</li>\\n\"+\n     \"<li>use INLINE resources instead, as so:</li>\\n\"+\n     \"</ul>\\n\"+\n     \"<code>\\n\"+\n     \"from bokeh.resources import INLINE\\n\"+\n     \"output_notebook(resources=INLINE)\\n\"+\n     \"</code>\\n\"+\n     \"</div>\"}};\n\n  function display_loaded() {\n    var el = document.getElementById(\"3527\");\n    if (el != null) {\n      el.textContent = \"BokehJS is loading...\";\n    }\n    if (root.Bokeh !== undefined) {\n      if (el != null) {\n        el.textContent = \"BokehJS \" + root.Bokeh.version + \" successfully loaded.\";\n      }\n    } else if (Date.now() < root._bokeh_timeout) {\n      setTimeout(display_loaded, 100)\n    }\n  }\n\n\n  function run_callbacks() {\n    try {\n      root._bokeh_onload_callbacks.forEach(function(callback) {\n        if (callback != null)\n          callback();\n      });\n    } finally {\n      delete root._bokeh_onload_callbacks\n    }\n    console.debug(\"Bokeh: all callbacks have finished\");\n  }\n\n  function load_libs(css_urls, js_urls, callback) {\n    if (css_urls == null) css_urls = [];\n    if (js_urls == null) js_urls = [];\n\n    root._bokeh_onload_callbacks.push(callback);\n    if (root._bokeh_is_loading > 0) {\n      console.debug(\"Bokeh: BokehJS is being loaded, scheduling callback at\", now());\n      return null;\n    }\n    if (js_urls == null || js_urls.length === 0) {\n      run_callbacks();\n      return null;\n    }\n    console.debug(\"Bokeh: BokehJS not loaded, scheduling load and callback at\", now());\n    root._bokeh_is_loading = css_urls.length + js_urls.length;\n\n    function on_load() {\n      root._bokeh_is_loading--;\n      if (root._bokeh_is_loading === 0) {\n        console.debug(\"Bokeh: all BokehJS libraries/stylesheets loaded\");\n        run_callbacks()\n      }\n    }\n\n    function on_error() {\n      console.error(\"failed to load \" + url);\n    }\n\n    for (var i = 0; i < css_urls.length; i++) {\n      var url = css_urls[i];\n      const element = document.createElement(\"link\");\n      element.onload = on_load;\n      element.onerror = on_error;\n      element.rel = \"stylesheet\";\n      element.type = \"text/css\";\n      element.href = url;\n      console.debug(\"Bokeh: injecting link tag for BokehJS stylesheet: \", url);\n      document.body.appendChild(element);\n    }\n\n    for (var i = 0; i < js_urls.length; i++) {\n      var url = js_urls[i];\n      var element = document.createElement('script');\n      element.onload = on_load;\n      element.onerror = on_error;\n      element.async = false;\n      element.src = url;\n      console.debug(\"Bokeh: injecting script tag for BokehJS library: \", url);\n      document.head.appendChild(element);\n    }\n  };var element = document.getElementById(\"3527\");\n  if (element == null) {\n    console.error(\"Bokeh: ERROR: autoload.js configured with elementid '3527' but no matching script tag was found. \")\n    return false;\n  }\n\n  function inject_raw_css(css) {\n    const element = document.createElement(\"style\");\n    element.appendChild(document.createTextNode(css));\n    document.body.appendChild(element);\n  }\n\n  \n  var js_urls = [\"https://cdn.pydata.org/bokeh/release/bokeh-1.4.0.min.js\", \"https://cdn.pydata.org/bokeh/release/bokeh-widgets-1.4.0.min.js\", \"https://cdn.pydata.org/bokeh/release/bokeh-tables-1.4.0.min.js\", \"https://cdn.pydata.org/bokeh/release/bokeh-gl-1.4.0.min.js\"];\n  var css_urls = [];\n  \n\n  var inline_js = [\n    function(Bokeh) {\n      Bokeh.set_log_level(\"info\");\n    },\n    function(Bokeh) {\n    \n    \n    }\n  ];\n\n  function run_inline_js() {\n    \n    if (root.Bokeh !== undefined || force === true) {\n      \n    for (var i = 0; i < inline_js.length; i++) {\n      inline_js[i].call(root, root.Bokeh);\n    }\n    if (force === true) {\n        display_loaded();\n      }} else if (Date.now() < root._bokeh_timeout) {\n      setTimeout(run_inline_js, 100);\n    } else if (!root._bokeh_failed_load) {\n      console.log(\"Bokeh: BokehJS failed to load within specified timeout.\");\n      root._bokeh_failed_load = true;\n    } else if (force !== true) {\n      var cell = $(document.getElementById(\"3527\")).parents('.cell').data().cell;\n      cell.output_area.append_execute_result(NB_LOAD_WARNING)\n    }\n\n  }\n\n  if (root._bokeh_is_loading === 0) {\n    console.debug(\"Bokeh: BokehJS loaded, going straight to plotting\");\n    run_inline_js();\n  } else {\n    load_libs(css_urls, js_urls, function() {\n      console.debug(\"Bokeh: BokehJS plotting callback run at\", now());\n      run_inline_js();\n    });\n  }\n}(window));"
     },
     "metadata": {},
     "output_type": "display_data"
    },
    {
     "data": {
      "text/html": [
       "\n",
       "\n",
       "\n",
       "\n",
       "\n",
       "\n",
       "  <div class=\"bk-root\" id=\"522f7dfe-d3cf-4f40-b645-d7548487a9ad\" data-root-id=\"3529\"></div>\n"
      ]
     },
     "metadata": {},
     "output_type": "display_data"
    },
    {
     "data": {
      "application/javascript": [
       "(function(root) {\n",
       "  function embed_document(root) {\n",
       "    \n",
       "  var docs_json = {\"5924a495-d772-42e6-a187-a6b305963deb\":{\"roots\":{\"references\":[{\"attributes\":{\"below\":[{\"id\":\"3538\",\"type\":\"LinearAxis\"}],\"center\":[{\"id\":\"3542\",\"type\":\"Grid\"},{\"id\":\"3547\",\"type\":\"Grid\"}],\"left\":[{\"id\":\"3543\",\"type\":\"LinearAxis\"}],\"min_border\":0,\"plot_height\":400,\"plot_width\":750,\"renderers\":[{\"id\":\"3564\",\"type\":\"GlyphRenderer\"}],\"title\":{\"id\":\"3566\",\"type\":\"Title\"},\"toolbar\":{\"id\":\"3554\",\"type\":\"Toolbar\"},\"x_range\":{\"id\":\"3530\",\"type\":\"DataRange1d\"},\"x_scale\":{\"id\":\"3534\",\"type\":\"LinearScale\"},\"y_range\":{\"id\":\"3532\",\"type\":\"DataRange1d\"},\"y_scale\":{\"id\":\"3536\",\"type\":\"LinearScale\"}},\"id\":\"3529\",\"subtype\":\"Figure\",\"type\":\"Plot\"},{\"attributes\":{},\"id\":\"3534\",\"type\":\"LinearScale\"},{\"attributes\":{},\"id\":\"3552\",\"type\":\"ResetTool\"},{\"attributes\":{\"fill_alpha\":{\"value\":0.1},\"fill_color\":{\"value\":\"#1f77b4\"},\"line_alpha\":{\"value\":0.1},\"line_color\":{\"value\":\"#1f77b4\"},\"top\":{\"field\":\"count\"},\"width\":{\"value\":0.9},\"x\":{\"field\":\"age\"}},\"id\":\"3563\",\"type\":\"VBar\"},{\"attributes\":{},\"id\":\"3536\",\"type\":\"LinearScale\"},{\"attributes\":{},\"id\":\"3548\",\"type\":\"PanTool\"},{\"attributes\":{},\"id\":\"3549\",\"type\":\"WheelZoomTool\"},{\"attributes\":{\"callback\":null,\"data\":{\"age\":{\"__ndarray__\":\"AAAAAAAA8D8AAAAAAABZQAAAAAAAQFlAAAAAAACAWUAAAAAAAMBZQAAAAAAAAFpAAAAAAABAWkAAAAAAAIBaQAAAAAAAwFpAAAAAAAAAW0AAAAAAAEBbQAAAAAAAgFtAAAAAAADAW0AAAAAAAABcQAAAAAAAQFxAAAAAAADAXEAAAAAAAIBgQAAAAAAAAC5AAAAAAADAYkAAAAAAAAAwQAAAAAAAADFAAAAAAAAAMkAAAAAAAAAzQAAAAAAAEJ5AAAAAAAAUnkAAAAAAABieQAAAAAAAHJ5AAAAAAAAgnkAAAAAAACSeQAAAAAAALJ5AAAAAAAAwnkAAAAAAADSeQAAAAAAAPJ5AAAAAAABAnkAAAAAAAEieQAAAAAAAWJ5AAAAAAABsnkAAAAAAAHSeQAAAAAAAgJ5AAAAAAACEnkAAAAAAACyfQAAAAAAAAABAAAAAAAAANEAAAAAAAGCfQAAAAAAAdJ9AAAAAAAB4n0AAAAAAAAA1QAAAAAAAADZAAAAAAAAAN0AAAAAAAAA4QAAAAAAAADlAAAAAAAAAOkAAAAAAAAA7QAAAAAAAADxAAAAAAAAAPUAAAAAAAAA+QAAAAAAAAD9AAAAAAAAAQEAAAAAAAIBAQAAAAAAAAEFAAAAAAACAQUAAAAAAAABCQAAAAAAAgEJAAAAAAAAAQ0AAAAAAAIBDQAAAAAAAABBAAAAAAAAAREAAAAAAAIBEQAAAAAAAAEVAAAAAAACARUAAAAAAAABGQAAAAAAAgEZAAAAAAAAAR0AAAAAAAIBHQAAAAAAAAEhAAAAAAACASEAAAAAAAAAUQAAAAAAAAElAAAAAAACASUAAAAAAAABKQAAAAAAAgEpAAAAAAAAAS0AAAAAAAIBLQAAAAAAAAExAAAAAAACATEAAAAAAAABNQAAAAAAAgE1AAAAAAAAATkAAAAAAAIBOQAAAAAAAAE9AAAAAAACAT0AAAAAAAABQQAAAAAAAQFBAAAAAAACAUEAAAAAAAMBQQAAAAAAAAFFAAAAAAABAUUAAAAAAAIBRQAAAAAAAwFFAAAAAAAAAUkAAAAAAAEBSQAAAAAAAgFJAAAAAAADAUkAAAAAAAABTQAAAAAAAQFNAAAAAAACAU0AAAAAAAMBTQAAAAAAAAFRAAAAAAABAVEAAAAAAAIBUQAAAAAAAwFRAAAAAAAAAVUAAAAAAAEBVQAAAAAAAgFVAAAAAAADAVUAAAAAAAABWQAAAAAAAQFZAAAAAAACAVkAAAAAAAMBWQAAAAAAAAFdAAAAAAABAV0AAAAAAAIBXQAAAAAAAwFdAAAAAAAAAWEAAAAAAAEBYQAAAAAAAgFhAAAAAAADAWEA=\",\"dtype\":\"float64\",\"shape\":[127]},\"count\":[2,26,23,34,26,48,1131,17,23,15,31,196,2,1,4,13,1,8,1,26,67,669,1102,2,1,1,1,2,2,3,3,1,1,2,1,1,2,3,1,1,1,7,540,1,39,710,982,1702,2462,3220,4459,5044,5738,5939,5963,6124,6016,5855,5527,5029,4860,4083,3694,3384,2998,3,2766,2538,2243,2056,2137,2149,1875,1646,1469,1331,45,1387,1337,1210,1098,1019,1011,941,915,823,780,734,680,593,573,549,516,435,402,373,276,259,180,189,149,123,94,68,72,50,50,46,30,26,25,20,26,27,31,12,13,18,12,14,18,12,49,25,10,15,17],\"index\":[0,1,2,3,4,5,6,7,8,9,10,11,12,13,14,15,16,17,18,19,20,21,22,23,24,25,26,27,28,29,30,31,32,33,34,35,36,37,38,39,40,41,42,43,44,45,46,47,48,49,50,51,52,53,54,55,56,57,58,59,60,61,62,63,64,65,66,67,68,69,70,71,72,73,74,75,76,77,78,79,80,81,82,83,84,85,86,87,88,89,90,91,92,93,94,95,96,97,98,99,100,101,102,103,104,105,106,107,108,109,110,111,112,113,114,115,116,117,118,119,120,121,122,123,124,125,126]},\"selected\":{\"id\":\"3710\",\"type\":\"Selection\"},\"selection_policy\":{\"id\":\"3711\",\"type\":\"UnionRenderers\"}},\"id\":\"3528\",\"type\":\"ColumnDataSource\"},{\"attributes\":{},\"id\":\"3553\",\"type\":\"HelpTool\"},{\"attributes\":{\"fill_color\":{\"value\":\"blue\"},\"line_color\":{\"value\":\"#1f77b4\"},\"top\":{\"field\":\"count\"},\"width\":{\"value\":0.9},\"x\":{\"field\":\"age\"}},\"id\":\"3562\",\"type\":\"VBar\"},{\"attributes\":{\"overlay\":{\"id\":\"3712\",\"type\":\"BoxAnnotation\"}},\"id\":\"3550\",\"type\":\"BoxZoomTool\"},{\"attributes\":{},\"id\":\"3551\",\"type\":\"SaveTool\"},{\"attributes\":{},\"id\":\"3710\",\"type\":\"Selection\"},{\"attributes\":{\"active_drag\":\"auto\",\"active_inspect\":\"auto\",\"active_multi\":null,\"active_scroll\":\"auto\",\"active_tap\":\"auto\",\"tools\":[{\"id\":\"3548\",\"type\":\"PanTool\"},{\"id\":\"3549\",\"type\":\"WheelZoomTool\"},{\"id\":\"3550\",\"type\":\"BoxZoomTool\"},{\"id\":\"3551\",\"type\":\"SaveTool\"},{\"id\":\"3552\",\"type\":\"ResetTool\"},{\"id\":\"3553\",\"type\":\"HelpTool\"},{\"id\":\"3567\",\"type\":\"HoverTool\"}]},\"id\":\"3554\",\"type\":\"Toolbar\"},{\"attributes\":{},\"id\":\"3539\",\"type\":\"BasicTicker\"},{\"attributes\":{},\"id\":\"3544\",\"type\":\"BasicTicker\"},{\"attributes\":{\"text\":\"Age distribution of AiBnB customers\"},\"id\":\"3566\",\"type\":\"Title\"},{\"attributes\":{},\"id\":\"3711\",\"type\":\"UnionRenderers\"},{\"attributes\":{\"callback\":null,\"tooltips\":[[\"Age\",\"@age\"],[\"Count\",\"@count\"]]},\"id\":\"3567\",\"type\":\"HoverTool\"},{\"attributes\":{\"source\":{\"id\":\"3528\",\"type\":\"ColumnDataSource\"}},\"id\":\"3565\",\"type\":\"CDSView\"},{\"attributes\":{\"data_source\":{\"id\":\"3528\",\"type\":\"ColumnDataSource\"},\"glyph\":{\"id\":\"3562\",\"type\":\"VBar\"},\"hover_glyph\":null,\"muted_glyph\":null,\"nonselection_glyph\":{\"id\":\"3563\",\"type\":\"VBar\"},\"selection_glyph\":null,\"view\":{\"id\":\"3565\",\"type\":\"CDSView\"}},\"id\":\"3564\",\"type\":\"GlyphRenderer\"},{\"attributes\":{\"callback\":null},\"id\":\"3530\",\"type\":\"DataRange1d\"},{\"attributes\":{\"callback\":null},\"id\":\"3532\",\"type\":\"DataRange1d\"},{\"attributes\":{},\"id\":\"3709\",\"type\":\"BasicTickFormatter\"},{\"attributes\":{\"bottom_units\":\"screen\",\"fill_alpha\":{\"value\":0.5},\"fill_color\":{\"value\":\"lightgrey\"},\"left_units\":\"screen\",\"level\":\"overlay\",\"line_alpha\":{\"value\":1.0},\"line_color\":{\"value\":\"black\"},\"line_dash\":[4,4],\"line_width\":{\"value\":2},\"render_mode\":\"css\",\"right_units\":\"screen\",\"top_units\":\"screen\"},\"id\":\"3712\",\"type\":\"BoxAnnotation\"},{\"attributes\":{\"axis_label\":\"Age\",\"formatter\":{\"id\":\"3707\",\"type\":\"BasicTickFormatter\"},\"major_label_orientation\":90,\"ticker\":{\"id\":\"3539\",\"type\":\"BasicTicker\"}},\"id\":\"3538\",\"type\":\"LinearAxis\"},{\"attributes\":{},\"id\":\"3707\",\"type\":\"BasicTickFormatter\"},{\"attributes\":{\"ticker\":{\"id\":\"3539\",\"type\":\"BasicTicker\"}},\"id\":\"3542\",\"type\":\"Grid\"},{\"attributes\":{\"axis_label\":\"Count\",\"formatter\":{\"id\":\"3709\",\"type\":\"BasicTickFormatter\"},\"ticker\":{\"id\":\"3544\",\"type\":\"BasicTicker\"}},\"id\":\"3543\",\"type\":\"LinearAxis\"},{\"attributes\":{\"dimension\":1,\"ticker\":{\"id\":\"3544\",\"type\":\"BasicTicker\"}},\"id\":\"3547\",\"type\":\"Grid\"}],\"root_ids\":[\"3529\"]},\"title\":\"Bokeh Application\",\"version\":\"1.4.0\"}};\n",
       "  var render_items = [{\"docid\":\"5924a495-d772-42e6-a187-a6b305963deb\",\"roots\":{\"3529\":\"522f7dfe-d3cf-4f40-b645-d7548487a9ad\"}}];\n",
       "  root.Bokeh.embed.embed_items_notebook(docs_json, render_items);\n",
       "\n",
       "  }\n",
       "  if (root.Bokeh !== undefined) {\n",
       "    embed_document(root);\n",
       "  } else {\n",
       "    var attempts = 0;\n",
       "    var timer = setInterval(function(root) {\n",
       "      if (root.Bokeh !== undefined) {\n",
       "        clearInterval(timer);\n",
       "        embed_document(root);\n",
       "      } else {\n",
       "        attempts++;\n",
       "        if (attempts > 100) {\n",
       "          clearInterval(timer);\n",
       "          console.log(\"Bokeh: ERROR: Unable to run BokehJS code because BokehJS library is missing\");\n",
       "        }\n",
       "      }\n",
       "    }, 10, root)\n",
       "  }\n",
       "})(window);"
      ],
      "application/vnd.bokehjs_exec.v0+json": ""
     },
     "metadata": {
      "application/vnd.bokehjs_exec.v0+json": {
       "id": "3529"
      }
     },
     "output_type": "display_data"
    }
   ],
   "source": [
    "age_pd_df.dropna(subset = [\"age\"], inplace = True)\n",
    "\n",
    "age_hist = age_pd_df.groupby(\"age\").size().reset_index(name = \"count\")\n",
    "age_hist[\"age\"] = age_hist[\"age\"].astype(float)\n",
    "\n",
    "#output_notebook()\n",
    "output_notebook()\n",
    "\n",
    "session_data = ColumnDataSource(data = age_hist)\n",
    "\n",
    "age = session_data.data['age'].tolist()\n",
    "#color_map = factor_cmap(field_name='age', palette=Paired12, \\\n",
    " #                       factors = age)\n",
    "\n",
    "plot = figure(plot_width=750, plot_height = 400, \\\n",
    "              min_border = 0)#, Tooltips = tooltips)\n",
    "\n",
    "plot.vbar(x = \"age\", bottom=0, top='count', source = session_data, \\\n",
    "          width = 0.9, fill_color = \"blue\")\n",
    "\n",
    "plot.title.text = 'Age distribution of AiBnB customers'\n",
    "plot.xaxis.axis_label = 'Age'\n",
    "plot.yaxis.axis_label = 'Count'\n",
    "plot.xaxis.major_label_orientation = 90\n",
    "\n",
    "hover = HoverTool(tooltips = [('Age', '@age'), ('Count', '@count')])\n",
    "plot.add_tools(hover)\n",
    "\n",
    "show(plot)"
   ]
  },
  {
   "cell_type": "markdown",
   "metadata": {},
   "source": [
    "Some incorrect values for age 105 and over. Remove these errors or ouliers"
   ]
  },
  {
   "cell_type": "code",
   "execution_count": 751,
   "metadata": {},
   "outputs": [],
   "source": [
    "age_pd_df = age_pd_df[age_pd_df[\"age\"].astype(int) <= 105]\n",
    "age_hist = age_pd_df.groupby(\"age\").size().reset_index(name = \"count\")\n",
    "age_hist[\"age\"] = age_hist[\"age\"].astype(float)"
   ]
  },
  {
   "cell_type": "code",
   "execution_count": 752,
   "metadata": {
    "scrolled": false
   },
   "outputs": [
    {
     "data": {
      "text/plain": [
       "count     95.000000\n",
       "mean      57.600000\n",
       "std       28.293447\n",
       "min        1.000000\n",
       "25%       34.500000\n",
       "50%       58.000000\n",
       "75%       81.500000\n",
       "max      105.000000\n",
       "Name: age, dtype: float64"
      ]
     },
     "execution_count": 752,
     "metadata": {},
     "output_type": "execute_result"
    }
   ],
   "source": [
    "age_hist[\"age\"].describe()"
   ]
  },
  {
   "cell_type": "code",
   "execution_count": 753,
   "metadata": {
    "scrolled": true
   },
   "outputs": [
    {
     "data": {
      "text/html": [
       "\n",
       "    <div class=\"bk-root\">\n",
       "        <a href=\"https://bokeh.org\" target=\"_blank\" class=\"bk-logo bk-logo-small bk-logo-notebook\"></a>\n",
       "        <span id=\"3767\">Loading BokehJS ...</span>\n",
       "    </div>"
      ]
     },
     "metadata": {},
     "output_type": "display_data"
    },
    {
     "data": {
      "application/javascript": [
       "\n",
       "(function(root) {\n",
       "  function now() {\n",
       "    return new Date();\n",
       "  }\n",
       "\n",
       "  var force = true;\n",
       "\n",
       "  if (typeof root._bokeh_onload_callbacks === \"undefined\" || force === true) {\n",
       "    root._bokeh_onload_callbacks = [];\n",
       "    root._bokeh_is_loading = undefined;\n",
       "  }\n",
       "\n",
       "  var JS_MIME_TYPE = 'application/javascript';\n",
       "  var HTML_MIME_TYPE = 'text/html';\n",
       "  var EXEC_MIME_TYPE = 'application/vnd.bokehjs_exec.v0+json';\n",
       "  var CLASS_NAME = 'output_bokeh rendered_html';\n",
       "\n",
       "  /**\n",
       "   * Render data to the DOM node\n",
       "   */\n",
       "  function render(props, node) {\n",
       "    var script = document.createElement(\"script\");\n",
       "    node.appendChild(script);\n",
       "  }\n",
       "\n",
       "  /**\n",
       "   * Handle when an output is cleared or removed\n",
       "   */\n",
       "  function handleClearOutput(event, handle) {\n",
       "    var cell = handle.cell;\n",
       "\n",
       "    var id = cell.output_area._bokeh_element_id;\n",
       "    var server_id = cell.output_area._bokeh_server_id;\n",
       "    // Clean up Bokeh references\n",
       "    if (id != null && id in Bokeh.index) {\n",
       "      Bokeh.index[id].model.document.clear();\n",
       "      delete Bokeh.index[id];\n",
       "    }\n",
       "\n",
       "    if (server_id !== undefined) {\n",
       "      // Clean up Bokeh references\n",
       "      var cmd = \"from bokeh.io.state import curstate; print(curstate().uuid_to_server['\" + server_id + \"'].get_sessions()[0].document.roots[0]._id)\";\n",
       "      cell.notebook.kernel.execute(cmd, {\n",
       "        iopub: {\n",
       "          output: function(msg) {\n",
       "            var id = msg.content.text.trim();\n",
       "            if (id in Bokeh.index) {\n",
       "              Bokeh.index[id].model.document.clear();\n",
       "              delete Bokeh.index[id];\n",
       "            }\n",
       "          }\n",
       "        }\n",
       "      });\n",
       "      // Destroy server and session\n",
       "      var cmd = \"import bokeh.io.notebook as ion; ion.destroy_server('\" + server_id + \"')\";\n",
       "      cell.notebook.kernel.execute(cmd);\n",
       "    }\n",
       "  }\n",
       "\n",
       "  /**\n",
       "   * Handle when a new output is added\n",
       "   */\n",
       "  function handleAddOutput(event, handle) {\n",
       "    var output_area = handle.output_area;\n",
       "    var output = handle.output;\n",
       "\n",
       "    // limit handleAddOutput to display_data with EXEC_MIME_TYPE content only\n",
       "    if ((output.output_type != \"display_data\") || (!output.data.hasOwnProperty(EXEC_MIME_TYPE))) {\n",
       "      return\n",
       "    }\n",
       "\n",
       "    var toinsert = output_area.element.find(\".\" + CLASS_NAME.split(' ')[0]);\n",
       "\n",
       "    if (output.metadata[EXEC_MIME_TYPE][\"id\"] !== undefined) {\n",
       "      toinsert[toinsert.length - 1].firstChild.textContent = output.data[JS_MIME_TYPE];\n",
       "      // store reference to embed id on output_area\n",
       "      output_area._bokeh_element_id = output.metadata[EXEC_MIME_TYPE][\"id\"];\n",
       "    }\n",
       "    if (output.metadata[EXEC_MIME_TYPE][\"server_id\"] !== undefined) {\n",
       "      var bk_div = document.createElement(\"div\");\n",
       "      bk_div.innerHTML = output.data[HTML_MIME_TYPE];\n",
       "      var script_attrs = bk_div.children[0].attributes;\n",
       "      for (var i = 0; i < script_attrs.length; i++) {\n",
       "        toinsert[toinsert.length - 1].firstChild.setAttribute(script_attrs[i].name, script_attrs[i].value);\n",
       "      }\n",
       "      // store reference to server id on output_area\n",
       "      output_area._bokeh_server_id = output.metadata[EXEC_MIME_TYPE][\"server_id\"];\n",
       "    }\n",
       "  }\n",
       "\n",
       "  function register_renderer(events, OutputArea) {\n",
       "\n",
       "    function append_mime(data, metadata, element) {\n",
       "      // create a DOM node to render to\n",
       "      var toinsert = this.create_output_subarea(\n",
       "        metadata,\n",
       "        CLASS_NAME,\n",
       "        EXEC_MIME_TYPE\n",
       "      );\n",
       "      this.keyboard_manager.register_events(toinsert);\n",
       "      // Render to node\n",
       "      var props = {data: data, metadata: metadata[EXEC_MIME_TYPE]};\n",
       "      render(props, toinsert[toinsert.length - 1]);\n",
       "      element.append(toinsert);\n",
       "      return toinsert\n",
       "    }\n",
       "\n",
       "    /* Handle when an output is cleared or removed */\n",
       "    events.on('clear_output.CodeCell', handleClearOutput);\n",
       "    events.on('delete.Cell', handleClearOutput);\n",
       "\n",
       "    /* Handle when a new output is added */\n",
       "    events.on('output_added.OutputArea', handleAddOutput);\n",
       "\n",
       "    /**\n",
       "     * Register the mime type and append_mime function with output_area\n",
       "     */\n",
       "    OutputArea.prototype.register_mime_type(EXEC_MIME_TYPE, append_mime, {\n",
       "      /* Is output safe? */\n",
       "      safe: true,\n",
       "      /* Index of renderer in `output_area.display_order` */\n",
       "      index: 0\n",
       "    });\n",
       "  }\n",
       "\n",
       "  // register the mime type if in Jupyter Notebook environment and previously unregistered\n",
       "  if (root.Jupyter !== undefined) {\n",
       "    var events = require('base/js/events');\n",
       "    var OutputArea = require('notebook/js/outputarea').OutputArea;\n",
       "\n",
       "    if (OutputArea.prototype.mime_types().indexOf(EXEC_MIME_TYPE) == -1) {\n",
       "      register_renderer(events, OutputArea);\n",
       "    }\n",
       "  }\n",
       "\n",
       "  \n",
       "  if (typeof (root._bokeh_timeout) === \"undefined\" || force === true) {\n",
       "    root._bokeh_timeout = Date.now() + 5000;\n",
       "    root._bokeh_failed_load = false;\n",
       "  }\n",
       "\n",
       "  var NB_LOAD_WARNING = {'data': {'text/html':\n",
       "     \"<div style='background-color: #fdd'>\\n\"+\n",
       "     \"<p>\\n\"+\n",
       "     \"BokehJS does not appear to have successfully loaded. If loading BokehJS from CDN, this \\n\"+\n",
       "     \"may be due to a slow or bad network connection. Possible fixes:\\n\"+\n",
       "     \"</p>\\n\"+\n",
       "     \"<ul>\\n\"+\n",
       "     \"<li>re-rerun `output_notebook()` to attempt to load from CDN again, or</li>\\n\"+\n",
       "     \"<li>use INLINE resources instead, as so:</li>\\n\"+\n",
       "     \"</ul>\\n\"+\n",
       "     \"<code>\\n\"+\n",
       "     \"from bokeh.resources import INLINE\\n\"+\n",
       "     \"output_notebook(resources=INLINE)\\n\"+\n",
       "     \"</code>\\n\"+\n",
       "     \"</div>\"}};\n",
       "\n",
       "  function display_loaded() {\n",
       "    var el = document.getElementById(\"3767\");\n",
       "    if (el != null) {\n",
       "      el.textContent = \"BokehJS is loading...\";\n",
       "    }\n",
       "    if (root.Bokeh !== undefined) {\n",
       "      if (el != null) {\n",
       "        el.textContent = \"BokehJS \" + root.Bokeh.version + \" successfully loaded.\";\n",
       "      }\n",
       "    } else if (Date.now() < root._bokeh_timeout) {\n",
       "      setTimeout(display_loaded, 100)\n",
       "    }\n",
       "  }\n",
       "\n",
       "\n",
       "  function run_callbacks() {\n",
       "    try {\n",
       "      root._bokeh_onload_callbacks.forEach(function(callback) {\n",
       "        if (callback != null)\n",
       "          callback();\n",
       "      });\n",
       "    } finally {\n",
       "      delete root._bokeh_onload_callbacks\n",
       "    }\n",
       "    console.debug(\"Bokeh: all callbacks have finished\");\n",
       "  }\n",
       "\n",
       "  function load_libs(css_urls, js_urls, callback) {\n",
       "    if (css_urls == null) css_urls = [];\n",
       "    if (js_urls == null) js_urls = [];\n",
       "\n",
       "    root._bokeh_onload_callbacks.push(callback);\n",
       "    if (root._bokeh_is_loading > 0) {\n",
       "      console.debug(\"Bokeh: BokehJS is being loaded, scheduling callback at\", now());\n",
       "      return null;\n",
       "    }\n",
       "    if (js_urls == null || js_urls.length === 0) {\n",
       "      run_callbacks();\n",
       "      return null;\n",
       "    }\n",
       "    console.debug(\"Bokeh: BokehJS not loaded, scheduling load and callback at\", now());\n",
       "    root._bokeh_is_loading = css_urls.length + js_urls.length;\n",
       "\n",
       "    function on_load() {\n",
       "      root._bokeh_is_loading--;\n",
       "      if (root._bokeh_is_loading === 0) {\n",
       "        console.debug(\"Bokeh: all BokehJS libraries/stylesheets loaded\");\n",
       "        run_callbacks()\n",
       "      }\n",
       "    }\n",
       "\n",
       "    function on_error() {\n",
       "      console.error(\"failed to load \" + url);\n",
       "    }\n",
       "\n",
       "    for (var i = 0; i < css_urls.length; i++) {\n",
       "      var url = css_urls[i];\n",
       "      const element = document.createElement(\"link\");\n",
       "      element.onload = on_load;\n",
       "      element.onerror = on_error;\n",
       "      element.rel = \"stylesheet\";\n",
       "      element.type = \"text/css\";\n",
       "      element.href = url;\n",
       "      console.debug(\"Bokeh: injecting link tag for BokehJS stylesheet: \", url);\n",
       "      document.body.appendChild(element);\n",
       "    }\n",
       "\n",
       "    for (var i = 0; i < js_urls.length; i++) {\n",
       "      var url = js_urls[i];\n",
       "      var element = document.createElement('script');\n",
       "      element.onload = on_load;\n",
       "      element.onerror = on_error;\n",
       "      element.async = false;\n",
       "      element.src = url;\n",
       "      console.debug(\"Bokeh: injecting script tag for BokehJS library: \", url);\n",
       "      document.head.appendChild(element);\n",
       "    }\n",
       "  };var element = document.getElementById(\"3767\");\n",
       "  if (element == null) {\n",
       "    console.error(\"Bokeh: ERROR: autoload.js configured with elementid '3767' but no matching script tag was found. \")\n",
       "    return false;\n",
       "  }\n",
       "\n",
       "  function inject_raw_css(css) {\n",
       "    const element = document.createElement(\"style\");\n",
       "    element.appendChild(document.createTextNode(css));\n",
       "    document.body.appendChild(element);\n",
       "  }\n",
       "\n",
       "  \n",
       "  var js_urls = [\"https://cdn.pydata.org/bokeh/release/bokeh-1.4.0.min.js\", \"https://cdn.pydata.org/bokeh/release/bokeh-widgets-1.4.0.min.js\", \"https://cdn.pydata.org/bokeh/release/bokeh-tables-1.4.0.min.js\", \"https://cdn.pydata.org/bokeh/release/bokeh-gl-1.4.0.min.js\"];\n",
       "  var css_urls = [];\n",
       "  \n",
       "\n",
       "  var inline_js = [\n",
       "    function(Bokeh) {\n",
       "      Bokeh.set_log_level(\"info\");\n",
       "    },\n",
       "    function(Bokeh) {\n",
       "    \n",
       "    \n",
       "    }\n",
       "  ];\n",
       "\n",
       "  function run_inline_js() {\n",
       "    \n",
       "    if (root.Bokeh !== undefined || force === true) {\n",
       "      \n",
       "    for (var i = 0; i < inline_js.length; i++) {\n",
       "      inline_js[i].call(root, root.Bokeh);\n",
       "    }\n",
       "    if (force === true) {\n",
       "        display_loaded();\n",
       "      }} else if (Date.now() < root._bokeh_timeout) {\n",
       "      setTimeout(run_inline_js, 100);\n",
       "    } else if (!root._bokeh_failed_load) {\n",
       "      console.log(\"Bokeh: BokehJS failed to load within specified timeout.\");\n",
       "      root._bokeh_failed_load = true;\n",
       "    } else if (force !== true) {\n",
       "      var cell = $(document.getElementById(\"3767\")).parents('.cell').data().cell;\n",
       "      cell.output_area.append_execute_result(NB_LOAD_WARNING)\n",
       "    }\n",
       "\n",
       "  }\n",
       "\n",
       "  if (root._bokeh_is_loading === 0) {\n",
       "    console.debug(\"Bokeh: BokehJS loaded, going straight to plotting\");\n",
       "    run_inline_js();\n",
       "  } else {\n",
       "    load_libs(css_urls, js_urls, function() {\n",
       "      console.debug(\"Bokeh: BokehJS plotting callback run at\", now());\n",
       "      run_inline_js();\n",
       "    });\n",
       "  }\n",
       "}(window));"
      ],
      "application/vnd.bokehjs_load.v0+json": "\n(function(root) {\n  function now() {\n    return new Date();\n  }\n\n  var force = true;\n\n  if (typeof root._bokeh_onload_callbacks === \"undefined\" || force === true) {\n    root._bokeh_onload_callbacks = [];\n    root._bokeh_is_loading = undefined;\n  }\n\n  \n\n  \n  if (typeof (root._bokeh_timeout) === \"undefined\" || force === true) {\n    root._bokeh_timeout = Date.now() + 5000;\n    root._bokeh_failed_load = false;\n  }\n\n  var NB_LOAD_WARNING = {'data': {'text/html':\n     \"<div style='background-color: #fdd'>\\n\"+\n     \"<p>\\n\"+\n     \"BokehJS does not appear to have successfully loaded. If loading BokehJS from CDN, this \\n\"+\n     \"may be due to a slow or bad network connection. Possible fixes:\\n\"+\n     \"</p>\\n\"+\n     \"<ul>\\n\"+\n     \"<li>re-rerun `output_notebook()` to attempt to load from CDN again, or</li>\\n\"+\n     \"<li>use INLINE resources instead, as so:</li>\\n\"+\n     \"</ul>\\n\"+\n     \"<code>\\n\"+\n     \"from bokeh.resources import INLINE\\n\"+\n     \"output_notebook(resources=INLINE)\\n\"+\n     \"</code>\\n\"+\n     \"</div>\"}};\n\n  function display_loaded() {\n    var el = document.getElementById(\"3767\");\n    if (el != null) {\n      el.textContent = \"BokehJS is loading...\";\n    }\n    if (root.Bokeh !== undefined) {\n      if (el != null) {\n        el.textContent = \"BokehJS \" + root.Bokeh.version + \" successfully loaded.\";\n      }\n    } else if (Date.now() < root._bokeh_timeout) {\n      setTimeout(display_loaded, 100)\n    }\n  }\n\n\n  function run_callbacks() {\n    try {\n      root._bokeh_onload_callbacks.forEach(function(callback) {\n        if (callback != null)\n          callback();\n      });\n    } finally {\n      delete root._bokeh_onload_callbacks\n    }\n    console.debug(\"Bokeh: all callbacks have finished\");\n  }\n\n  function load_libs(css_urls, js_urls, callback) {\n    if (css_urls == null) css_urls = [];\n    if (js_urls == null) js_urls = [];\n\n    root._bokeh_onload_callbacks.push(callback);\n    if (root._bokeh_is_loading > 0) {\n      console.debug(\"Bokeh: BokehJS is being loaded, scheduling callback at\", now());\n      return null;\n    }\n    if (js_urls == null || js_urls.length === 0) {\n      run_callbacks();\n      return null;\n    }\n    console.debug(\"Bokeh: BokehJS not loaded, scheduling load and callback at\", now());\n    root._bokeh_is_loading = css_urls.length + js_urls.length;\n\n    function on_load() {\n      root._bokeh_is_loading--;\n      if (root._bokeh_is_loading === 0) {\n        console.debug(\"Bokeh: all BokehJS libraries/stylesheets loaded\");\n        run_callbacks()\n      }\n    }\n\n    function on_error() {\n      console.error(\"failed to load \" + url);\n    }\n\n    for (var i = 0; i < css_urls.length; i++) {\n      var url = css_urls[i];\n      const element = document.createElement(\"link\");\n      element.onload = on_load;\n      element.onerror = on_error;\n      element.rel = \"stylesheet\";\n      element.type = \"text/css\";\n      element.href = url;\n      console.debug(\"Bokeh: injecting link tag for BokehJS stylesheet: \", url);\n      document.body.appendChild(element);\n    }\n\n    for (var i = 0; i < js_urls.length; i++) {\n      var url = js_urls[i];\n      var element = document.createElement('script');\n      element.onload = on_load;\n      element.onerror = on_error;\n      element.async = false;\n      element.src = url;\n      console.debug(\"Bokeh: injecting script tag for BokehJS library: \", url);\n      document.head.appendChild(element);\n    }\n  };var element = document.getElementById(\"3767\");\n  if (element == null) {\n    console.error(\"Bokeh: ERROR: autoload.js configured with elementid '3767' but no matching script tag was found. \")\n    return false;\n  }\n\n  function inject_raw_css(css) {\n    const element = document.createElement(\"style\");\n    element.appendChild(document.createTextNode(css));\n    document.body.appendChild(element);\n  }\n\n  \n  var js_urls = [\"https://cdn.pydata.org/bokeh/release/bokeh-1.4.0.min.js\", \"https://cdn.pydata.org/bokeh/release/bokeh-widgets-1.4.0.min.js\", \"https://cdn.pydata.org/bokeh/release/bokeh-tables-1.4.0.min.js\", \"https://cdn.pydata.org/bokeh/release/bokeh-gl-1.4.0.min.js\"];\n  var css_urls = [];\n  \n\n  var inline_js = [\n    function(Bokeh) {\n      Bokeh.set_log_level(\"info\");\n    },\n    function(Bokeh) {\n    \n    \n    }\n  ];\n\n  function run_inline_js() {\n    \n    if (root.Bokeh !== undefined || force === true) {\n      \n    for (var i = 0; i < inline_js.length; i++) {\n      inline_js[i].call(root, root.Bokeh);\n    }\n    if (force === true) {\n        display_loaded();\n      }} else if (Date.now() < root._bokeh_timeout) {\n      setTimeout(run_inline_js, 100);\n    } else if (!root._bokeh_failed_load) {\n      console.log(\"Bokeh: BokehJS failed to load within specified timeout.\");\n      root._bokeh_failed_load = true;\n    } else if (force !== true) {\n      var cell = $(document.getElementById(\"3767\")).parents('.cell').data().cell;\n      cell.output_area.append_execute_result(NB_LOAD_WARNING)\n    }\n\n  }\n\n  if (root._bokeh_is_loading === 0) {\n    console.debug(\"Bokeh: BokehJS loaded, going straight to plotting\");\n    run_inline_js();\n  } else {\n    load_libs(css_urls, js_urls, function() {\n      console.debug(\"Bokeh: BokehJS plotting callback run at\", now());\n      run_inline_js();\n    });\n  }\n}(window));"
     },
     "metadata": {},
     "output_type": "display_data"
    },
    {
     "data": {
      "text/html": [
       "\n",
       "\n",
       "\n",
       "\n",
       "\n",
       "\n",
       "  <div class=\"bk-root\" id=\"c64a3eca-2cfb-470b-8a5a-a81cd3ab1367\" data-root-id=\"3769\"></div>\n"
      ]
     },
     "metadata": {},
     "output_type": "display_data"
    },
    {
     "data": {
      "application/javascript": [
       "(function(root) {\n",
       "  function embed_document(root) {\n",
       "    \n",
       "  var docs_json = {\"07757ea0-bc9f-4f7e-8599-df25e144a50c\":{\"roots\":{\"references\":[{\"attributes\":{\"below\":[{\"id\":\"3778\",\"type\":\"LinearAxis\"}],\"center\":[{\"id\":\"3782\",\"type\":\"Grid\"},{\"id\":\"3787\",\"type\":\"Grid\"}],\"left\":[{\"id\":\"3783\",\"type\":\"LinearAxis\"}],\"min_border\":0,\"plot_height\":400,\"plot_width\":750,\"renderers\":[{\"id\":\"3804\",\"type\":\"GlyphRenderer\"}],\"title\":{\"id\":\"3806\",\"type\":\"Title\"},\"toolbar\":{\"id\":\"3794\",\"type\":\"Toolbar\"},\"x_range\":{\"id\":\"3770\",\"type\":\"DataRange1d\"},\"x_scale\":{\"id\":\"3774\",\"type\":\"LinearScale\"},\"y_range\":{\"id\":\"3772\",\"type\":\"DataRange1d\"},\"y_scale\":{\"id\":\"3776\",\"type\":\"LinearScale\"}},\"id\":\"3769\",\"subtype\":\"Figure\",\"type\":\"Plot\"},{\"attributes\":{},\"id\":\"3791\",\"type\":\"SaveTool\"},{\"attributes\":{},\"id\":\"3774\",\"type\":\"LinearScale\"},{\"attributes\":{\"fill_alpha\":{\"value\":0.1},\"fill_color\":{\"value\":\"#1f77b4\"},\"line_alpha\":{\"value\":0.1},\"line_color\":{\"value\":\"#1f77b4\"},\"top\":{\"field\":\"count\"},\"width\":{\"value\":0.9},\"x\":{\"field\":\"age\"}},\"id\":\"3803\",\"type\":\"VBar\"},{\"attributes\":{\"source\":{\"id\":\"3768\",\"type\":\"ColumnDataSource\"}},\"id\":\"3805\",\"type\":\"CDSView\"},{\"attributes\":{\"dimension\":1,\"ticker\":{\"id\":\"3784\",\"type\":\"BasicTicker\"}},\"id\":\"3787\",\"type\":\"Grid\"},{\"attributes\":{},\"id\":\"3776\",\"type\":\"LinearScale\"},{\"attributes\":{},\"id\":\"3792\",\"type\":\"ResetTool\"},{\"attributes\":{},\"id\":\"3793\",\"type\":\"HelpTool\"},{\"attributes\":{\"callback\":null,\"data\":{\"age\":{\"__ndarray__\":\"AAAAAAAA8D8AAAAAAABZQAAAAAAAQFlAAAAAAACAWUAAAAAAAMBZQAAAAAAAAFpAAAAAAABAWkAAAAAAAAAuQAAAAAAAADBAAAAAAAAAMUAAAAAAAAAyQAAAAAAAADNAAAAAAAAAAEAAAAAAAAA0QAAAAAAAADVAAAAAAAAANkAAAAAAAAA3QAAAAAAAADhAAAAAAAAAOUAAAAAAAAA6QAAAAAAAADtAAAAAAAAAPEAAAAAAAAA9QAAAAAAAAD5AAAAAAAAAP0AAAAAAAABAQAAAAAAAgEBAAAAAAAAAQUAAAAAAAIBBQAAAAAAAAEJAAAAAAACAQkAAAAAAAABDQAAAAAAAgENAAAAAAAAAEEAAAAAAAABEQAAAAAAAgERAAAAAAAAARUAAAAAAAIBFQAAAAAAAAEZAAAAAAACARkAAAAAAAABHQAAAAAAAgEdAAAAAAAAASEAAAAAAAIBIQAAAAAAAABRAAAAAAAAASUAAAAAAAIBJQAAAAAAAAEpAAAAAAACASkAAAAAAAABLQAAAAAAAgEtAAAAAAAAATEAAAAAAAIBMQAAAAAAAAE1AAAAAAACATUAAAAAAAABOQAAAAAAAgE5AAAAAAAAAT0AAAAAAAIBPQAAAAAAAAFBAAAAAAABAUEAAAAAAAIBQQAAAAAAAwFBAAAAAAAAAUUAAAAAAAEBRQAAAAAAAgFFAAAAAAADAUUAAAAAAAABSQAAAAAAAQFJAAAAAAACAUkAAAAAAAMBSQAAAAAAAAFNAAAAAAABAU0AAAAAAAIBTQAAAAAAAwFNAAAAAAAAAVEAAAAAAAEBUQAAAAAAAgFRAAAAAAADAVEAAAAAAAABVQAAAAAAAQFVAAAAAAACAVUAAAAAAAMBVQAAAAAAAAFZAAAAAAABAVkAAAAAAAIBWQAAAAAAAwFZAAAAAAAAAV0AAAAAAAEBXQAAAAAAAgFdAAAAAAADAV0AAAAAAAABYQAAAAAAAQFhAAAAAAACAWEAAAAAAAMBYQA==\",\"dtype\":\"float64\",\"shape\":[95]},\"count\":[2,26,23,34,26,48,1131,8,26,67,669,1102,7,540,982,1702,2462,3220,4459,5044,5738,5939,5963,6124,6016,5855,5527,5029,4860,4083,3694,3384,2998,3,2766,2538,2243,2056,2137,2149,1875,1646,1469,1331,45,1387,1337,1210,1098,1019,1011,941,915,823,780,734,680,593,573,549,516,435,402,373,276,259,180,189,149,123,94,68,72,50,50,46,30,26,25,20,26,27,31,12,13,18,12,14,18,12,49,25,10,15,17],\"index\":[0,1,2,3,4,5,6,7,8,9,10,11,12,13,14,15,16,17,18,19,20,21,22,23,24,25,26,27,28,29,30,31,32,33,34,35,36,37,38,39,40,41,42,43,44,45,46,47,48,49,50,51,52,53,54,55,56,57,58,59,60,61,62,63,64,65,66,67,68,69,70,71,72,73,74,75,76,77,78,79,80,81,82,83,84,85,86,87,88,89,90,91,92,93,94]},\"selected\":{\"id\":\"3959\",\"type\":\"Selection\"},\"selection_policy\":{\"id\":\"3960\",\"type\":\"UnionRenderers\"}},\"id\":\"3768\",\"type\":\"ColumnDataSource\"},{\"attributes\":{\"ticker\":{\"id\":\"3779\",\"type\":\"BasicTicker\"}},\"id\":\"3782\",\"type\":\"Grid\"},{\"attributes\":{\"callback\":null},\"id\":\"3770\",\"type\":\"DataRange1d\"},{\"attributes\":{\"callback\":null},\"id\":\"3772\",\"type\":\"DataRange1d\"},{\"attributes\":{},\"id\":\"3959\",\"type\":\"Selection\"},{\"attributes\":{\"data_source\":{\"id\":\"3768\",\"type\":\"ColumnDataSource\"},\"glyph\":{\"id\":\"3802\",\"type\":\"VBar\"},\"hover_glyph\":null,\"muted_glyph\":null,\"nonselection_glyph\":{\"id\":\"3803\",\"type\":\"VBar\"},\"selection_glyph\":null,\"view\":{\"id\":\"3805\",\"type\":\"CDSView\"}},\"id\":\"3804\",\"type\":\"GlyphRenderer\"},{\"attributes\":{},\"id\":\"3958\",\"type\":\"BasicTickFormatter\"},{\"attributes\":{\"overlay\":{\"id\":\"3961\",\"type\":\"BoxAnnotation\"}},\"id\":\"3790\",\"type\":\"BoxZoomTool\"},{\"attributes\":{},\"id\":\"3956\",\"type\":\"BasicTickFormatter\"},{\"attributes\":{},\"id\":\"3779\",\"type\":\"BasicTicker\"},{\"attributes\":{\"active_drag\":\"auto\",\"active_inspect\":\"auto\",\"active_multi\":null,\"active_scroll\":\"auto\",\"active_tap\":\"auto\",\"tools\":[{\"id\":\"3788\",\"type\":\"PanTool\"},{\"id\":\"3789\",\"type\":\"WheelZoomTool\"},{\"id\":\"3790\",\"type\":\"BoxZoomTool\"},{\"id\":\"3791\",\"type\":\"SaveTool\"},{\"id\":\"3792\",\"type\":\"ResetTool\"},{\"id\":\"3793\",\"type\":\"HelpTool\"},{\"id\":\"3807\",\"type\":\"HoverTool\"}]},\"id\":\"3794\",\"type\":\"Toolbar\"},{\"attributes\":{\"bottom_units\":\"screen\",\"fill_alpha\":{\"value\":0.5},\"fill_color\":{\"value\":\"lightgrey\"},\"left_units\":\"screen\",\"level\":\"overlay\",\"line_alpha\":{\"value\":1.0},\"line_color\":{\"value\":\"black\"},\"line_dash\":[4,4],\"line_width\":{\"value\":2},\"render_mode\":\"css\",\"right_units\":\"screen\",\"top_units\":\"screen\"},\"id\":\"3961\",\"type\":\"BoxAnnotation\"},{\"attributes\":{\"axis_label\":\"Age\",\"formatter\":{\"id\":\"3956\",\"type\":\"BasicTickFormatter\"},\"major_label_orientation\":90,\"ticker\":{\"id\":\"3779\",\"type\":\"BasicTicker\"}},\"id\":\"3778\",\"type\":\"LinearAxis\"},{\"attributes\":{},\"id\":\"3789\",\"type\":\"WheelZoomTool\"},{\"attributes\":{\"text\":\"60.0% of AirBnB are between 28 and 43 (working age)\"},\"id\":\"3806\",\"type\":\"Title\"},{\"attributes\":{\"callback\":null,\"tooltips\":[[\"Age\",\"@age\"],[\"Count\",\"@count\"]]},\"id\":\"3807\",\"type\":\"HoverTool\"},{\"attributes\":{\"axis_label\":\"Count\",\"formatter\":{\"id\":\"3958\",\"type\":\"BasicTickFormatter\"},\"ticker\":{\"id\":\"3784\",\"type\":\"BasicTicker\"}},\"id\":\"3783\",\"type\":\"LinearAxis\"},{\"attributes\":{},\"id\":\"3788\",\"type\":\"PanTool\"},{\"attributes\":{\"fill_color\":{\"value\":\"blue\"},\"line_color\":{\"value\":\"#1f77b4\"},\"top\":{\"field\":\"count\"},\"width\":{\"value\":0.9},\"x\":{\"field\":\"age\"}},\"id\":\"3802\",\"type\":\"VBar\"},{\"attributes\":{},\"id\":\"3784\",\"type\":\"BasicTicker\"},{\"attributes\":{},\"id\":\"3960\",\"type\":\"UnionRenderers\"}],\"root_ids\":[\"3769\"]},\"title\":\"Bokeh Application\",\"version\":\"1.4.0\"}};\n",
       "  var render_items = [{\"docid\":\"07757ea0-bc9f-4f7e-8599-df25e144a50c\",\"roots\":{\"3769\":\"c64a3eca-2cfb-470b-8a5a-a81cd3ab1367\"}}];\n",
       "  root.Bokeh.embed.embed_items_notebook(docs_json, render_items);\n",
       "\n",
       "  }\n",
       "  if (root.Bokeh !== undefined) {\n",
       "    embed_document(root);\n",
       "  } else {\n",
       "    var attempts = 0;\n",
       "    var timer = setInterval(function(root) {\n",
       "      if (root.Bokeh !== undefined) {\n",
       "        clearInterval(timer);\n",
       "        embed_document(root);\n",
       "      } else {\n",
       "        attempts++;\n",
       "        if (attempts > 100) {\n",
       "          clearInterval(timer);\n",
       "          console.log(\"Bokeh: ERROR: Unable to run BokehJS code because BokehJS library is missing\");\n",
       "        }\n",
       "      }\n",
       "    }, 10, root)\n",
       "  }\n",
       "})(window);"
      ],
      "application/vnd.bokehjs_exec.v0+json": ""
     },
     "metadata": {
      "application/vnd.bokehjs_exec.v0+json": {
       "id": "3769"
      }
     },
     "output_type": "display_data"
    }
   ],
   "source": [
    "#output_notebook()\n",
    "output_notebook()\n",
    "\n",
    "session_data = ColumnDataSource(data = age_hist)\n",
    "\n",
    "plot = figure(plot_width=750, plot_height = 400, \\\n",
    "              min_border = 0)#, Tooltips = tooltips)\n",
    "\n",
    "plot.vbar(x = \"age\", bottom=0, top='count', source = session_data, \\\n",
    "          width = 0.9, fill_color = \"blue\")\n",
    "\n",
    "plot.title.text = '60.0% of AirBnB are between 28 and 43 (working age)'\n",
    "plot.xaxis.axis_label = 'Age'\n",
    "plot.yaxis.axis_label = 'Count'\n",
    "plot.xaxis.major_label_orientation = 90\n",
    "\n",
    "hover = HoverTool(tooltips = [('Age', '@age'), ('Count', '@count')])\n",
    "plot.add_tools(hover)\n",
    "\n",
    "show(plot)"
   ]
  },
  {
   "cell_type": "code",
   "execution_count": 754,
   "metadata": {
    "scrolled": true
   },
   "outputs": [],
   "source": [
    "adult = np.sum(age_hist[(age_hist[\"age\"] >= 18) & (age_hist[\"age\"] <= 70)][\"count\"])/np.sum(age_hist[\"count\"])\n",
    "majority = np.round((np.sum(age_hist[(age_hist[\"age\"] >= 28) & (age_hist[\"age\"] <= 43)][\"count\"])/np.sum(age_hist[\"count\"])), 1) * 100"
   ]
  },
  {
   "cell_type": "code",
   "execution_count": 755,
   "metadata": {},
   "outputs": [
    {
     "name": "stdout",
     "output_type": "stream",
     "text": [
      "60.0% of AirBnB customers are between 28 and 43 (working age)\n"
     ]
    }
   ],
   "source": [
    "print(\"{}% of AirBnB customers are between 28 and 43 (working age)\" .format(majority))"
   ]
  },
  {
   "cell_type": "code",
   "execution_count": 756,
   "metadata": {},
   "outputs": [],
   "source": [
    "#### Convert date columns to date types"
   ]
  },
  {
   "cell_type": "code",
   "execution_count": 757,
   "metadata": {
    "scrolled": true
   },
   "outputs": [],
   "source": [
    "train_user_df = train_user_df.withColumn(\"date_account_created\", to_date(\"date_account_created\", \"yyyy-MM-dd\"))\n",
    "train_user_df = train_user_df.withColumn(\"date_first_booking\", to_date(\"date_first_booking\", \"yyyy-MM-dd\"))\n",
    "train_user_df = train_user_df.withColumn(\"timestamp_first_active\", to_timestamp(train_user_df.timestamp_first_active, \"yyyyMMddHHmmss\")).alias(\"timestamp_first_active\")"
   ]
  },
  {
   "cell_type": "code",
   "execution_count": 758,
   "metadata": {},
   "outputs": [],
   "source": [
    "train_user_df.registerTempTable(\"train_user_df\")"
   ]
  },
  {
   "cell_type": "code",
   "execution_count": 759,
   "metadata": {},
   "outputs": [],
   "source": [
    "##### Convert spark dataframe to pandas dataframe"
   ]
  },
  {
   "cell_type": "code",
   "execution_count": 760,
   "metadata": {},
   "outputs": [],
   "source": [
    "train_user_pd_df = train_user_df.toPandas()"
   ]
  },
  {
   "cell_type": "markdown",
   "metadata": {},
   "source": [
    "##### Placeholder to save train_user_pd_df dataframe"
   ]
  },
  {
   "cell_type": "markdown",
   "metadata": {},
   "source": [
    "train_user_pd_df.to_csv(\"train_user_pd_df.csv\", index = False)\n",
    "\n",
    "##### Read the train_user pandas dataaframe file from csv\n",
    "\n",
    "train_user_pd_df = pd.read_csv(\"train_user_pd_df.csv\")"
   ]
  },
  {
   "cell_type": "markdown",
   "metadata": {},
   "source": [
    "##### End of placehoder"
   ]
  },
  {
   "cell_type": "code",
   "execution_count": null,
   "metadata": {},
   "outputs": [],
   "source": []
  },
  {
   "cell_type": "markdown",
   "metadata": {},
   "source": [
    "##### Visualization of other variables"
   ]
  },
  {
   "cell_type": "code",
   "execution_count": 761,
   "metadata": {},
   "outputs": [],
   "source": [
    "##### Customers to AirBnB website via signup partners"
   ]
  },
  {
   "cell_type": "code",
   "execution_count": 762,
   "metadata": {},
   "outputs": [],
   "source": [
    "gender_by_signup_method = train_user_pd_df.set_index(\"gender\", \"signup_method\").groupby([\"gender\", \\\n",
    "                                                                                         \"signup_method\"], as_index = False).size().reset_index(name = \"size\")#.fillna(0).reset_index(name = \"size\")"
   ]
  },
  {
   "cell_type": "code",
   "execution_count": 763,
   "metadata": {
    "scrolled": false
   },
   "outputs": [
    {
     "data": {
      "text/plain": [
       "<matplotlib.legend.Legend at 0x1c5e0168da0>"
      ]
     },
     "execution_count": 763,
     "metadata": {},
     "output_type": "execute_result"
    },
    {
     "data": {
      "image/png": "[encoded data removed]",
      "text/plain": [
       "<Figure size 432x288 with 1 Axes>"
      ]
     },
     "metadata": {
      "needs_background": "light"
     },
     "output_type": "display_data"
    }
   ],
   "source": [
    "source_ct = pd.crosstab(gender_by_signup_method[\"gender\"], gender_by_signup_method[\"signup_method\"])\n",
    "source_pt = gender_by_signup_method.pivot(index = \"gender\", \\\n",
    "                                    columns = \"signup_method\", \\\n",
    "                                   values = \"size\")\n",
    "source_pt.plot.bar(stacked = True)\n",
    "plt.title(label = \"50% of women and men use facebook to signup for AirBnB\")\n",
    "plt.legend(title = \"Signup_method\")"
   ]
  },
  {
   "cell_type": "code",
   "execution_count": 764,
   "metadata": {},
   "outputs": [],
   "source": [
    "##### Affiliate channels and providers used by customers"
   ]
  },
  {
   "cell_type": "code",
   "execution_count": 765,
   "metadata": {
    "scrolled": false
   },
   "outputs": [
    {
     "data": {
      "text/plain": [
       "<matplotlib.legend.Legend at 0x1c612552710>"
      ]
     },
     "execution_count": 765,
     "metadata": {},
     "output_type": "execute_result"
    },
    {
     "data": {
      "image/png": "[encoded data removed]",
      "text/plain": [
       "<Figure size 432x288 with 1 Axes>"
      ]
     },
     "metadata": {
      "needs_background": "light"
     },
     "output_type": "display_data"
    }
   ],
   "source": [
    "affiliate_provider_channel = train_user_pd_df.groupby([\"affiliate_provider\", \\\n",
    "                                                   \"affiliate_channel\"]).size().reset_index(name = \"size\")\n",
    "\n",
    "affiliate_ct = pd.crosstab(affiliate_provider_channel[\"affiliate_provider\"], affiliate_provider_channel[\"affiliate_channel\"])\n",
    "affiliate_pt = affiliate_provider_channel.pivot(index = \"affiliate_provider\", \\\n",
    "                                    columns = \"affiliate_channel\", \\\n",
    "                                   values = \"size\")\n",
    "affiliate_pt.plot.bar(stacked = True)\n",
    "plt.title(label = \"50% of AirBnB traffic arrive at the website via direct marketing\")\n",
    "plt.legend(title = \"Affiliate Channel\")"
   ]
  },
  {
   "cell_type": "markdown",
   "metadata": {},
   "source": [
    "Just under 50% of customers use direct marketing providers and channels."
   ]
  },
  {
   "cell_type": "code",
   "execution_count": 766,
   "metadata": {},
   "outputs": [],
   "source": [
    "##### Customer user exoerience - device type and signup app"
   ]
  },
  {
   "cell_type": "code",
   "execution_count": 767,
   "metadata": {
    "scrolled": true
   },
   "outputs": [
    {
     "data": {
      "text/plain": [
       "<matplotlib.legend.Legend at 0x1c5daaabe48>"
      ]
     },
     "execution_count": 767,
     "metadata": {},
     "output_type": "execute_result"
    },
    {
     "data": {
      "image/png": "[encoded data removed]",
      "text/plain": [
       "<Figure size 432x288 with 1 Axes>"
      ]
     },
     "metadata": {
      "needs_background": "light"
     },
     "output_type": "display_data"
    }
   ],
   "source": [
    "device_type_signupapp = train_user_pd_df.groupby([\"first_device_type\", \\\n",
    "                                                   \"signup_app\"]).size().reset_index(name = \"size\")\n",
    "\n",
    "deviceapp_ct = pd.crosstab(device_type_signupapp[\"first_device_type\"], device_type_signupapp[\"signup_app\"])\n",
    "deviceapp_pt = device_type_signupapp.pivot(index = \"first_device_type\", \\\n",
    "                                    columns = \"signup_app\", \\\n",
    "                                   values = \"size\")\n",
    "deviceapp_pt.plot.bar(stacked = True)\n",
    "plt.title(label = \"86.0% of customers signup to AirBnB using their desktop browser\")\n",
    "plt.legend(title = \"Signup app\", \\\n",
    "           loc = \"upper right\")"
   ]
  },
  {
   "cell_type": "code",
   "execution_count": 768,
   "metadata": {
    "scrolled": true
   },
   "outputs": [
    {
     "name": "stdout",
     "output_type": "stream",
     "text": [
      "86.0% of customers signup to AirBnB using their desktop browser\n"
     ]
    }
   ],
   "source": [
    "device_and_signupapp = np.round((deviceapp_pt.iloc[3, 2] + deviceapp_pt.iloc[6, 2])/np.sum(deviceapp_pt)[2], 2) * 100\n",
    "print(\"{}% of customers signup to AirBnB using their desktop browser\" .format(device_and_signupapp))"
   ]
  },
  {
   "cell_type": "code",
   "execution_count": 769,
   "metadata": {},
   "outputs": [],
   "source": [
    "##### Affiliate marketing - first affiliate tracked"
   ]
  },
  {
   "cell_type": "code",
   "execution_count": 770,
   "metadata": {},
   "outputs": [],
   "source": [
    "first_affiliate_pd_df = train_user_pd_df[[\"first_affiliate_tracked\"]].dropna(subset = [\"first_affiliate_tracked\"])\n",
    "first_affiliate_hist = first_affiliate_pd_df.groupby(\"first_affiliate_tracked\").size().reset_index(name = \"freq\").sort_values(\"freq\", ascending = False).reset_index()"
   ]
  },
  {
   "cell_type": "code",
   "execution_count": 771,
   "metadata": {},
   "outputs": [],
   "source": [
    "first_affiliate_hist[\"first_affiliate_tracked\"] = first_affiliate_hist[\"first_affiliate_tracked\"].astype(str)\n",
    "first_affiliate_hist[\"freq\"] = first_affiliate_hist[\"freq\"].astype(int)"
   ]
  },
  {
   "cell_type": "code",
   "execution_count": 772,
   "metadata": {
    "scrolled": true
   },
   "outputs": [],
   "source": [
    "first_affiliate_hist[\"perc\"] = np.round((first_affiliate_hist[\"freq\"])/np.sum(first_affiliate_hist[\"freq\"]) * 100, 1)  "
   ]
  },
  {
   "cell_type": "code",
   "execution_count": 773,
   "metadata": {
    "scrolled": true
   },
   "outputs": [
    {
     "name": "stdout",
     "output_type": "stream",
     "text": [
      "43.53 % of sales from affiliate marketing come from OMG and links\n"
     ]
    }
   ],
   "source": [
    "print(\"{} % of sales from affiliate marketing come from OMG and links\" .format(np.round(np.sum(first_affiliate_hist[\"freq\"][1:3])/np.sum(first_affiliate_hist[\"freq\"]) * 100, 2)))"
   ]
  },
  {
   "cell_type": "code",
   "execution_count": 774,
   "metadata": {
    "scrolled": true
   },
   "outputs": [
    {
     "data": {
      "image/png": "[encoded data removed]",
      "text/plain": [
       "<Figure size 576x360 with 1 Axes>"
      ]
     },
     "metadata": {
      "needs_background": "light"
     },
     "output_type": "display_data"
    }
   ],
   "source": [
    "font = {\"size\": \"8\"}\n",
    "plt.figure(figsize = (8,5))\n",
    "plt.rc(\"font\", **font)\n",
    "sb.barplot(x = first_affiliate_hist[\"first_affiliate_tracked\"], y = first_affiliate_hist[\"freq\"], \\\n",
    "           color = \"mediumblue\", orient = \"v\")\n",
    "\n",
    "plt.title(\"43.53 % of sales from affiliate marketing come from OMG and links\")\n",
    "plt.show()"
   ]
  },
  {
   "cell_type": "code",
   "execution_count": 775,
   "metadata": {},
   "outputs": [],
   "source": [
    "##### Investigate relationship (multicollinearity) between categorical input variables"
   ]
  },
  {
   "cell_type": "code",
   "execution_count": 776,
   "metadata": {},
   "outputs": [],
   "source": [
    "def cramers_v(x, y):\n",
    "    confusion_matrix = pd.crosstab(x, y)\n",
    "    get_chisq = ss.chi2_contingency(confusion_matrix)[0]\n",
    "    n = confusion_matrix.sum().sum()\n",
    "    phi2 = get_chisq/n\n",
    "    r,k = confusion_matrix.shape\n",
    "    phi2corr = np.max([0, phi2 - ((k-1)*(r-1))/(n-1)])\n",
    "    rcorr = r - ((r-1)**2)/(n-1)\n",
    "    kcorr = k - ((k-1)**2)/(n-1)\n",
    "    assoc_val  = np.sqrt(phi2corr/np.min([(kcorr-1), (rcorr-1)]))\n",
    "    return assoc_val"
   ]
  },
  {
   "cell_type": "code",
   "execution_count": 777,
   "metadata": {},
   "outputs": [],
   "source": [
    "def assoc_matrix(get_df, cat_columns):\n",
    "\n",
    "    # Create dataframe of zeros\n",
    "    assoc_matrix = pd.DataFrame(np.zeros((len(cat_columns), len(cat_columns))), \\\n",
    "                                         index = cat_columns, columns = cat_columns)\n",
    "\n",
    "    # Get cramersv association matrix (value) and store in dataframe cell\n",
    "\n",
    "\n",
    "    for col1 in cat_columns:\n",
    "        for col2 in cat_columns:\n",
    "            if col1 == col2:\n",
    "                assoc_matrix[col1][col2] = 1.0\n",
    "            else:\n",
    "                assoc_matrix[col1][col2] = cramers_v(get_df[col1], get_df[col2])\n",
    "    return assoc_matrix"
   ]
  },
  {
   "cell_type": "code",
   "execution_count": 778,
   "metadata": {},
   "outputs": [],
   "source": [
    "cat_columns =[\"gender\", \"signup_method\", \\\n",
    "              \"signup_flow\", \n",
    "              \"language\", \\\n",
    "              \"affiliate_channel\", \n",
    "              \"affiliate_provider\", \\\n",
    "              \"first_affiliate_tracked\", \\\n",
    "              \"signup_app\", \"first_device_type\", \"first_browser\", \\\n",
    "              \"country_destination\"]"
   ]
  },
  {
   "cell_type": "code",
   "execution_count": 779,
   "metadata": {},
   "outputs": [],
   "source": [
    "assoc_matrix_all = assoc_matrix(train_user_pd_df, cat_columns)"
   ]
  },
  {
   "cell_type": "code",
   "execution_count": 780,
   "metadata": {
    "scrolled": true
   },
   "outputs": [
    {
     "data": {
      "image/png": "[encoded data removed]",
      "text/plain": [
       "<Figure size 432x288 with 2 Axes>"
      ]
     },
     "metadata": {
      "needs_background": "light"
     },
     "output_type": "display_data"
    }
   ],
   "source": [
    "font = {\"size\": \"8\"}\n",
    "plt.figure()\n",
    "plt.rc(\"font\", **font)\n",
    "sb.heatmap(assoc_matrix_all, annot = True, fmt = \".2f\", linewidth = 0.2, linecolor = \"white\" )\n",
    "plt.show()"
   ]
  },
  {
   "cell_type": "code",
   "execution_count": null,
   "metadata": {},
   "outputs": [],
   "source": []
  },
  {
   "cell_type": "code",
   "execution_count": 781,
   "metadata": {},
   "outputs": [],
   "source": [
    "################################################################"
   ]
  },
  {
   "cell_type": "code",
   "execution_count": 782,
   "metadata": {},
   "outputs": [],
   "source": [
    "##### Limit customers to ages 18 to 105"
   ]
  },
  {
   "cell_type": "code",
   "execution_count": 783,
   "metadata": {},
   "outputs": [],
   "source": [
    "train_user_pd_df.dropna(subset = [\"age\"], inplace = True)\n",
    "train_user_pd_df[\"age\"] = train_user_pd_df[\"age\"].astype(int)\n",
    "train_user_pd_df = train_user_pd_df[(train_user_pd_df[\"age\"] >= 18) & (train_user_pd_df[\"age\"] <= 105)]"
   ]
  },
  {
   "cell_type": "code",
   "execution_count": 784,
   "metadata": {
    "scrolled": true
   },
   "outputs": [
    {
     "data": {
      "text/plain": [
       "count    124220.000000\n",
       "mean         37.268403\n",
       "std          13.484673\n",
       "min          18.000000\n",
       "25%          28.000000\n",
       "50%          34.000000\n",
       "75%          43.000000\n",
       "max         105.000000\n",
       "Name: age, dtype: float64"
      ]
     },
     "execution_count": 784,
     "metadata": {},
     "output_type": "execute_result"
    }
   ],
   "source": [
    "train_user_pd_df[\"age\"].describe()"
   ]
  },
  {
   "cell_type": "code",
   "execution_count": 785,
   "metadata": {},
   "outputs": [],
   "source": [
    "##### Create column for no. of days before first booking"
   ]
  },
  {
   "cell_type": "markdown",
   "metadata": {},
   "source": [
    "train_user_pd_df.to_csv(\"train_users_pd_df.csv\")"
   ]
  },
  {
   "cell_type": "code",
   "execution_count": 786,
   "metadata": {
    "scrolled": true
   },
   "outputs": [
    {
     "data": {
      "text/plain": [
       "26"
      ]
     },
     "execution_count": 786,
     "metadata": {},
     "output_type": "execute_result"
    }
   ],
   "source": [
    "train_user_pd_df[\"date_account_created\"] = pd.to_datetime(train_user_pd_df[\"date_account_created\"], errors = \"coerce\")\n",
    "train_user_pd_df[\"date_first_booking\"] = pd.to_datetime(train_user_pd_df[\"date_first_booking\"], errors = \"coerce\")\n",
    "train_user_pd_df[\"timestamp_first_active\"] = pd.to_datetime(train_user_pd_df[\"timestamp_first_active\"], errors = \"coerce\")\n",
    "train_user_pd_df[\"days_first_booking\"] = (train_user_pd_df[\"date_first_booking\"] - train_user_pd_df[\"date_account_created\"]).dt.days\n",
    "train_user_pd_df[\"days_first_booking_ts\"] = ((train_user_pd_df[\"date_first_booking\"] - train_user_pd_df[\"timestamp_first_active\"]).dt.days)\n",
    "#train_user_pd_df[\"days_first_booking_ts\"] = ((train_user_pd_df[\"date_first_booking\"] - train_user_pd_df[\"timestamp_first_active\"]).dt.total_seconds())/(24*60*60)\n",
    "#train_user_pd_df[\"days_first_booking_ts\"] = np.round(train_user_pd_df[\"days_first_booking_ts\"] * 2) / 2\n",
    "train_user_pd_df[train_user_pd_df[\"days_first_booking\"] < 0][\"days_first_booking\"].count()"
   ]
  },
  {
   "cell_type": "markdown",
   "metadata": {},
   "source": [
    "Two days before first booking features were created. One based on date_account created and the other timestamp_first_active.\n",
    "Days before first booking (based on account created) has around 26 erroneous values, i.e. no. of days < 0. \n",
    "If used in a model need to remove these rows."
   ]
  },
  {
   "cell_type": "markdown",
   "metadata": {},
   "source": [
    "##### Distribution of number of days until first booking (account created)"
   ]
  },
  {
   "cell_type": "code",
   "execution_count": 787,
   "metadata": {},
   "outputs": [],
   "source": [
    "numdays = train_user_pd_df.groupby(\"days_first_booking\").size().reset_index(name = \"count\")\n",
    "numdays[\"days_first_booking\"] = numdays[\"days_first_booking\"].astype(int)\n",
    "numdays = numdays[numdays[\"days_first_booking\"] >= 0]"
   ]
  },
  {
   "cell_type": "code",
   "execution_count": 788,
   "metadata": {
    "scrolled": true
   },
   "outputs": [
    {
     "data": {
      "text/plain": [
       "count    366.000000\n",
       "mean     182.500000\n",
       "std      105.799338\n",
       "min        0.000000\n",
       "25%       91.250000\n",
       "50%      182.500000\n",
       "75%      273.750000\n",
       "max      365.000000\n",
       "Name: days_first_booking, dtype: float64"
      ]
     },
     "execution_count": 788,
     "metadata": {},
     "output_type": "execute_result"
    }
   ],
   "source": [
    "numdays[\"days_first_booking\"].describe()"
   ]
  },
  {
   "cell_type": "code",
   "execution_count": 789,
   "metadata": {
    "scrolled": false
   },
   "outputs": [
    {
     "data": {
      "text/html": [
       "\n",
       "    <div class=\"bk-root\">\n",
       "        <a href=\"https://bokeh.org\" target=\"_blank\" class=\"bk-logo bk-logo-small bk-logo-notebook\"></a>\n",
       "        <span id=\"4016\">Loading BokehJS ...</span>\n",
       "    </div>"
      ]
     },
     "metadata": {},
     "output_type": "display_data"
    },
    {
     "data": {
      "application/javascript": [
       "\n",
       "(function(root) {\n",
       "  function now() {\n",
       "    return new Date();\n",
       "  }\n",
       "\n",
       "  var force = true;\n",
       "\n",
       "  if (typeof root._bokeh_onload_callbacks === \"undefined\" || force === true) {\n",
       "    root._bokeh_onload_callbacks = [];\n",
       "    root._bokeh_is_loading = undefined;\n",
       "  }\n",
       "\n",
       "  var JS_MIME_TYPE = 'application/javascript';\n",
       "  var HTML_MIME_TYPE = 'text/html';\n",
       "  var EXEC_MIME_TYPE = 'application/vnd.bokehjs_exec.v0+json';\n",
       "  var CLASS_NAME = 'output_bokeh rendered_html';\n",
       "\n",
       "  /**\n",
       "   * Render data to the DOM node\n",
       "   */\n",
       "  function render(props, node) {\n",
       "    var script = document.createElement(\"script\");\n",
       "    node.appendChild(script);\n",
       "  }\n",
       "\n",
       "  /**\n",
       "   * Handle when an output is cleared or removed\n",
       "   */\n",
       "  function handleClearOutput(event, handle) {\n",
       "    var cell = handle.cell;\n",
       "\n",
       "    var id = cell.output_area._bokeh_element_id;\n",
       "    var server_id = cell.output_area._bokeh_server_id;\n",
       "    // Clean up Bokeh references\n",
       "    if (id != null && id in Bokeh.index) {\n",
       "      Bokeh.index[id].model.document.clear();\n",
       "      delete Bokeh.index[id];\n",
       "    }\n",
       "\n",
       "    if (server_id !== undefined) {\n",
       "      // Clean up Bokeh references\n",
       "      var cmd = \"from bokeh.io.state import curstate; print(curstate().uuid_to_server['\" + server_id + \"'].get_sessions()[0].document.roots[0]._id)\";\n",
       "      cell.notebook.kernel.execute(cmd, {\n",
       "        iopub: {\n",
       "          output: function(msg) {\n",
       "            var id = msg.content.text.trim();\n",
       "            if (id in Bokeh.index) {\n",
       "              Bokeh.index[id].model.document.clear();\n",
       "              delete Bokeh.index[id];\n",
       "            }\n",
       "          }\n",
       "        }\n",
       "      });\n",
       "      // Destroy server and session\n",
       "      var cmd = \"import bokeh.io.notebook as ion; ion.destroy_server('\" + server_id + \"')\";\n",
       "      cell.notebook.kernel.execute(cmd);\n",
       "    }\n",
       "  }\n",
       "\n",
       "  /**\n",
       "   * Handle when a new output is added\n",
       "   */\n",
       "  function handleAddOutput(event, handle) {\n",
       "    var output_area = handle.output_area;\n",
       "    var output = handle.output;\n",
       "\n",
       "    // limit handleAddOutput to display_data with EXEC_MIME_TYPE content only\n",
       "    if ((output.output_type != \"display_data\") || (!output.data.hasOwnProperty(EXEC_MIME_TYPE))) {\n",
       "      return\n",
       "    }\n",
       "\n",
       "    var toinsert = output_area.element.find(\".\" + CLASS_NAME.split(' ')[0]);\n",
       "\n",
       "    if (output.metadata[EXEC_MIME_TYPE][\"id\"] !== undefined) {\n",
       "      toinsert[toinsert.length - 1].firstChild.textContent = output.data[JS_MIME_TYPE];\n",
       "      // store reference to embed id on output_area\n",
       "      output_area._bokeh_element_id = output.metadata[EXEC_MIME_TYPE][\"id\"];\n",
       "    }\n",
       "    if (output.metadata[EXEC_MIME_TYPE][\"server_id\"] !== undefined) {\n",
       "      var bk_div = document.createElement(\"div\");\n",
       "      bk_div.innerHTML = output.data[HTML_MIME_TYPE];\n",
       "      var script_attrs = bk_div.children[0].attributes;\n",
       "      for (var i = 0; i < script_attrs.length; i++) {\n",
       "        toinsert[toinsert.length - 1].firstChild.setAttribute(script_attrs[i].name, script_attrs[i].value);\n",
       "      }\n",
       "      // store reference to server id on output_area\n",
       "      output_area._bokeh_server_id = output.metadata[EXEC_MIME_TYPE][\"server_id\"];\n",
       "    }\n",
       "  }\n",
       "\n",
       "  function register_renderer(events, OutputArea) {\n",
       "\n",
       "    function append_mime(data, metadata, element) {\n",
       "      // create a DOM node to render to\n",
       "      var toinsert = this.create_output_subarea(\n",
       "        metadata,\n",
       "        CLASS_NAME,\n",
       "        EXEC_MIME_TYPE\n",
       "      );\n",
       "      this.keyboard_manager.register_events(toinsert);\n",
       "      // Render to node\n",
       "      var props = {data: data, metadata: metadata[EXEC_MIME_TYPE]};\n",
       "      render(props, toinsert[toinsert.length - 1]);\n",
       "      element.append(toinsert);\n",
       "      return toinsert\n",
       "    }\n",
       "\n",
       "    /* Handle when an output is cleared or removed */\n",
       "    events.on('clear_output.CodeCell', handleClearOutput);\n",
       "    events.on('delete.Cell', handleClearOutput);\n",
       "\n",
       "    /* Handle when a new output is added */\n",
       "    events.on('output_added.OutputArea', handleAddOutput);\n",
       "\n",
       "    /**\n",
       "     * Register the mime type and append_mime function with output_area\n",
       "     */\n",
       "    OutputArea.prototype.register_mime_type(EXEC_MIME_TYPE, append_mime, {\n",
       "      /* Is output safe? */\n",
       "      safe: true,\n",
       "      /* Index of renderer in `output_area.display_order` */\n",
       "      index: 0\n",
       "    });\n",
       "  }\n",
       "\n",
       "  // register the mime type if in Jupyter Notebook environment and previously unregistered\n",
       "  if (root.Jupyter !== undefined) {\n",
       "    var events = require('base/js/events');\n",
       "    var OutputArea = require('notebook/js/outputarea').OutputArea;\n",
       "\n",
       "    if (OutputArea.prototype.mime_types().indexOf(EXEC_MIME_TYPE) == -1) {\n",
       "      register_renderer(events, OutputArea);\n",
       "    }\n",
       "  }\n",
       "\n",
       "  \n",
       "  if (typeof (root._bokeh_timeout) === \"undefined\" || force === true) {\n",
       "    root._bokeh_timeout = Date.now() + 5000;\n",
       "    root._bokeh_failed_load = false;\n",
       "  }\n",
       "\n",
       "  var NB_LOAD_WARNING = {'data': {'text/html':\n",
       "     \"<div style='background-color: #fdd'>\\n\"+\n",
       "     \"<p>\\n\"+\n",
       "     \"BokehJS does not appear to have successfully loaded. If loading BokehJS from CDN, this \\n\"+\n",
       "     \"may be due to a slow or bad network connection. Possible fixes:\\n\"+\n",
       "     \"</p>\\n\"+\n",
       "     \"<ul>\\n\"+\n",
       "     \"<li>re-rerun `output_notebook()` to attempt to load from CDN again, or</li>\\n\"+\n",
       "     \"<li>use INLINE resources instead, as so:</li>\\n\"+\n",
       "     \"</ul>\\n\"+\n",
       "     \"<code>\\n\"+\n",
       "     \"from bokeh.resources import INLINE\\n\"+\n",
       "     \"output_notebook(resources=INLINE)\\n\"+\n",
       "     \"</code>\\n\"+\n",
       "     \"</div>\"}};\n",
       "\n",
       "  function display_loaded() {\n",
       "    var el = document.getElementById(\"4016\");\n",
       "    if (el != null) {\n",
       "      el.textContent = \"BokehJS is loading...\";\n",
       "    }\n",
       "    if (root.Bokeh !== undefined) {\n",
       "      if (el != null) {\n",
       "        el.textContent = \"BokehJS \" + root.Bokeh.version + \" successfully loaded.\";\n",
       "      }\n",
       "    } else if (Date.now() < root._bokeh_timeout) {\n",
       "      setTimeout(display_loaded, 100)\n",
       "    }\n",
       "  }\n",
       "\n",
       "\n",
       "  function run_callbacks() {\n",
       "    try {\n",
       "      root._bokeh_onload_callbacks.forEach(function(callback) {\n",
       "        if (callback != null)\n",
       "          callback();\n",
       "      });\n",
       "    } finally {\n",
       "      delete root._bokeh_onload_callbacks\n",
       "    }\n",
       "    console.debug(\"Bokeh: all callbacks have finished\");\n",
       "  }\n",
       "\n",
       "  function load_libs(css_urls, js_urls, callback) {\n",
       "    if (css_urls == null) css_urls = [];\n",
       "    if (js_urls == null) js_urls = [];\n",
       "\n",
       "    root._bokeh_onload_callbacks.push(callback);\n",
       "    if (root._bokeh_is_loading > 0) {\n",
       "      console.debug(\"Bokeh: BokehJS is being loaded, scheduling callback at\", now());\n",
       "      return null;\n",
       "    }\n",
       "    if (js_urls == null || js_urls.length === 0) {\n",
       "      run_callbacks();\n",
       "      return null;\n",
       "    }\n",
       "    console.debug(\"Bokeh: BokehJS not loaded, scheduling load and callback at\", now());\n",
       "    root._bokeh_is_loading = css_urls.length + js_urls.length;\n",
       "\n",
       "    function on_load() {\n",
       "      root._bokeh_is_loading--;\n",
       "      if (root._bokeh_is_loading === 0) {\n",
       "        console.debug(\"Bokeh: all BokehJS libraries/stylesheets loaded\");\n",
       "        run_callbacks()\n",
       "      }\n",
       "    }\n",
       "\n",
       "    function on_error() {\n",
       "      console.error(\"failed to load \" + url);\n",
       "    }\n",
       "\n",
       "    for (var i = 0; i < css_urls.length; i++) {\n",
       "      var url = css_urls[i];\n",
       "      const element = document.createElement(\"link\");\n",
       "      element.onload = on_load;\n",
       "      element.onerror = on_error;\n",
       "      element.rel = \"stylesheet\";\n",
       "      element.type = \"text/css\";\n",
       "      element.href = url;\n",
       "      console.debug(\"Bokeh: injecting link tag for BokehJS stylesheet: \", url);\n",
       "      document.body.appendChild(element);\n",
       "    }\n",
       "\n",
       "    for (var i = 0; i < js_urls.length; i++) {\n",
       "      var url = js_urls[i];\n",
       "      var element = document.createElement('script');\n",
       "      element.onload = on_load;\n",
       "      element.onerror = on_error;\n",
       "      element.async = false;\n",
       "      element.src = url;\n",
       "      console.debug(\"Bokeh: injecting script tag for BokehJS library: \", url);\n",
       "      document.head.appendChild(element);\n",
       "    }\n",
       "  };var element = document.getElementById(\"4016\");\n",
       "  if (element == null) {\n",
       "    console.error(\"Bokeh: ERROR: autoload.js configured with elementid '4016' but no matching script tag was found. \")\n",
       "    return false;\n",
       "  }\n",
       "\n",
       "  function inject_raw_css(css) {\n",
       "    const element = document.createElement(\"style\");\n",
       "    element.appendChild(document.createTextNode(css));\n",
       "    document.body.appendChild(element);\n",
       "  }\n",
       "\n",
       "  \n",
       "  var js_urls = [\"https://cdn.pydata.org/bokeh/release/bokeh-1.4.0.min.js\", \"https://cdn.pydata.org/bokeh/release/bokeh-widgets-1.4.0.min.js\", \"https://cdn.pydata.org/bokeh/release/bokeh-tables-1.4.0.min.js\", \"https://cdn.pydata.org/bokeh/release/bokeh-gl-1.4.0.min.js\"];\n",
       "  var css_urls = [];\n",
       "  \n",
       "\n",
       "  var inline_js = [\n",
       "    function(Bokeh) {\n",
       "      Bokeh.set_log_level(\"info\");\n",
       "    },\n",
       "    function(Bokeh) {\n",
       "    \n",
       "    \n",
       "    }\n",
       "  ];\n",
       "\n",
       "  function run_inline_js() {\n",
       "    \n",
       "    if (root.Bokeh !== undefined || force === true) {\n",
       "      \n",
       "    for (var i = 0; i < inline_js.length; i++) {\n",
       "      inline_js[i].call(root, root.Bokeh);\n",
       "    }\n",
       "    if (force === true) {\n",
       "        display_loaded();\n",
       "      }} else if (Date.now() < root._bokeh_timeout) {\n",
       "      setTimeout(run_inline_js, 100);\n",
       "    } else if (!root._bokeh_failed_load) {\n",
       "      console.log(\"Bokeh: BokehJS failed to load within specified timeout.\");\n",
       "      root._bokeh_failed_load = true;\n",
       "    } else if (force !== true) {\n",
       "      var cell = $(document.getElementById(\"4016\")).parents('.cell').data().cell;\n",
       "      cell.output_area.append_execute_result(NB_LOAD_WARNING)\n",
       "    }\n",
       "\n",
       "  }\n",
       "\n",
       "  if (root._bokeh_is_loading === 0) {\n",
       "    console.debug(\"Bokeh: BokehJS loaded, going straight to plotting\");\n",
       "    run_inline_js();\n",
       "  } else {\n",
       "    load_libs(css_urls, js_urls, function() {\n",
       "      console.debug(\"Bokeh: BokehJS plotting callback run at\", now());\n",
       "      run_inline_js();\n",
       "    });\n",
       "  }\n",
       "}(window));"
      ],
      "application/vnd.bokehjs_load.v0+json": "\n(function(root) {\n  function now() {\n    return new Date();\n  }\n\n  var force = true;\n\n  if (typeof root._bokeh_onload_callbacks === \"undefined\" || force === true) {\n    root._bokeh_onload_callbacks = [];\n    root._bokeh_is_loading = undefined;\n  }\n\n  \n\n  \n  if (typeof (root._bokeh_timeout) === \"undefined\" || force === true) {\n    root._bokeh_timeout = Date.now() + 5000;\n    root._bokeh_failed_load = false;\n  }\n\n  var NB_LOAD_WARNING = {'data': {'text/html':\n     \"<div style='background-color: #fdd'>\\n\"+\n     \"<p>\\n\"+\n     \"BokehJS does not appear to have successfully loaded. If loading BokehJS from CDN, this \\n\"+\n     \"may be due to a slow or bad network connection. Possible fixes:\\n\"+\n     \"</p>\\n\"+\n     \"<ul>\\n\"+\n     \"<li>re-rerun `output_notebook()` to attempt to load from CDN again, or</li>\\n\"+\n     \"<li>use INLINE resources instead, as so:</li>\\n\"+\n     \"</ul>\\n\"+\n     \"<code>\\n\"+\n     \"from bokeh.resources import INLINE\\n\"+\n     \"output_notebook(resources=INLINE)\\n\"+\n     \"</code>\\n\"+\n     \"</div>\"}};\n\n  function display_loaded() {\n    var el = document.getElementById(\"4016\");\n    if (el != null) {\n      el.textContent = \"BokehJS is loading...\";\n    }\n    if (root.Bokeh !== undefined) {\n      if (el != null) {\n        el.textContent = \"BokehJS \" + root.Bokeh.version + \" successfully loaded.\";\n      }\n    } else if (Date.now() < root._bokeh_timeout) {\n      setTimeout(display_loaded, 100)\n    }\n  }\n\n\n  function run_callbacks() {\n    try {\n      root._bokeh_onload_callbacks.forEach(function(callback) {\n        if (callback != null)\n          callback();\n      });\n    } finally {\n      delete root._bokeh_onload_callbacks\n    }\n    console.debug(\"Bokeh: all callbacks have finished\");\n  }\n\n  function load_libs(css_urls, js_urls, callback) {\n    if (css_urls == null) css_urls = [];\n    if (js_urls == null) js_urls = [];\n\n    root._bokeh_onload_callbacks.push(callback);\n    if (root._bokeh_is_loading > 0) {\n      console.debug(\"Bokeh: BokehJS is being loaded, scheduling callback at\", now());\n      return null;\n    }\n    if (js_urls == null || js_urls.length === 0) {\n      run_callbacks();\n      return null;\n    }\n    console.debug(\"Bokeh: BokehJS not loaded, scheduling load and callback at\", now());\n    root._bokeh_is_loading = css_urls.length + js_urls.length;\n\n    function on_load() {\n      root._bokeh_is_loading--;\n      if (root._bokeh_is_loading === 0) {\n        console.debug(\"Bokeh: all BokehJS libraries/stylesheets loaded\");\n        run_callbacks()\n      }\n    }\n\n    function on_error() {\n      console.error(\"failed to load \" + url);\n    }\n\n    for (var i = 0; i < css_urls.length; i++) {\n      var url = css_urls[i];\n      const element = document.createElement(\"link\");\n      element.onload = on_load;\n      element.onerror = on_error;\n      element.rel = \"stylesheet\";\n      element.type = \"text/css\";\n      element.href = url;\n      console.debug(\"Bokeh: injecting link tag for BokehJS stylesheet: \", url);\n      document.body.appendChild(element);\n    }\n\n    for (var i = 0; i < js_urls.length; i++) {\n      var url = js_urls[i];\n      var element = document.createElement('script');\n      element.onload = on_load;\n      element.onerror = on_error;\n      element.async = false;\n      element.src = url;\n      console.debug(\"Bokeh: injecting script tag for BokehJS library: \", url);\n      document.head.appendChild(element);\n    }\n  };var element = document.getElementById(\"4016\");\n  if (element == null) {\n    console.error(\"Bokeh: ERROR: autoload.js configured with elementid '4016' but no matching script tag was found. \")\n    return false;\n  }\n\n  function inject_raw_css(css) {\n    const element = document.createElement(\"style\");\n    element.appendChild(document.createTextNode(css));\n    document.body.appendChild(element);\n  }\n\n  \n  var js_urls = [\"https://cdn.pydata.org/bokeh/release/bokeh-1.4.0.min.js\", \"https://cdn.pydata.org/bokeh/release/bokeh-widgets-1.4.0.min.js\", \"https://cdn.pydata.org/bokeh/release/bokeh-tables-1.4.0.min.js\", \"https://cdn.pydata.org/bokeh/release/bokeh-gl-1.4.0.min.js\"];\n  var css_urls = [];\n  \n\n  var inline_js = [\n    function(Bokeh) {\n      Bokeh.set_log_level(\"info\");\n    },\n    function(Bokeh) {\n    \n    \n    }\n  ];\n\n  function run_inline_js() {\n    \n    if (root.Bokeh !== undefined || force === true) {\n      \n    for (var i = 0; i < inline_js.length; i++) {\n      inline_js[i].call(root, root.Bokeh);\n    }\n    if (force === true) {\n        display_loaded();\n      }} else if (Date.now() < root._bokeh_timeout) {\n      setTimeout(run_inline_js, 100);\n    } else if (!root._bokeh_failed_load) {\n      console.log(\"Bokeh: BokehJS failed to load within specified timeout.\");\n      root._bokeh_failed_load = true;\n    } else if (force !== true) {\n      var cell = $(document.getElementById(\"4016\")).parents('.cell').data().cell;\n      cell.output_area.append_execute_result(NB_LOAD_WARNING)\n    }\n\n  }\n\n  if (root._bokeh_is_loading === 0) {\n    console.debug(\"Bokeh: BokehJS loaded, going straight to plotting\");\n    run_inline_js();\n  } else {\n    load_libs(css_urls, js_urls, function() {\n      console.debug(\"Bokeh: BokehJS plotting callback run at\", now());\n      run_inline_js();\n    });\n  }\n}(window));"
     },
     "metadata": {},
     "output_type": "display_data"
    },
    {
     "data": {
      "text/html": [
       "\n",
       "\n",
       "\n",
       "\n",
       "\n",
       "\n",
       "  <div class=\"bk-root\" id=\"45d87fa5-1ffb-4574-bafe-33aa26f1fcb8\" data-root-id=\"4018\"></div>\n"
      ]
     },
     "metadata": {},
     "output_type": "display_data"
    },
    {
     "data": {
      "application/javascript": [
       "(function(root) {\n",
       "  function embed_document(root) {\n",
       "    \n",
       "  var docs_json = {\"38e3db08-fd1a-4286-b730-fa2b2d44a12c\":{\"roots\":{\"references\":[{\"attributes\":{\"below\":[{\"id\":\"4027\",\"type\":\"LinearAxis\"}],\"center\":[{\"id\":\"4031\",\"type\":\"Grid\"},{\"id\":\"4036\",\"type\":\"Grid\"}],\"left\":[{\"id\":\"4032\",\"type\":\"LinearAxis\"}],\"min_border\":0,\"plot_height\":400,\"plot_width\":400,\"renderers\":[{\"id\":\"4053\",\"type\":\"GlyphRenderer\"}],\"title\":{\"id\":\"4055\",\"type\":\"Title\"},\"toolbar\":{\"id\":\"4043\",\"type\":\"Toolbar\"},\"x_range\":{\"id\":\"4019\",\"type\":\"DataRange1d\"},\"x_scale\":{\"id\":\"4023\",\"type\":\"LinearScale\"},\"y_range\":{\"id\":\"4021\",\"type\":\"DataRange1d\"},\"y_scale\":{\"id\":\"4025\",\"type\":\"LinearScale\"}},\"id\":\"4018\",\"subtype\":\"Figure\",\"type\":\"Plot\"},{\"attributes\":{},\"id\":\"4214\",\"type\":\"BasicTickFormatter\"},{\"attributes\":{\"axis_label\":\"Days\",\"formatter\":{\"id\":\"4214\",\"type\":\"BasicTickFormatter\"},\"major_label_orientation\":90,\"ticker\":{\"id\":\"4028\",\"type\":\"BasicTicker\"}},\"id\":\"4027\",\"type\":\"LinearAxis\"},{\"attributes\":{\"text\":\"Distribution of days until first AirBnB booking\"},\"id\":\"4055\",\"type\":\"Title\"},{\"attributes\":{},\"id\":\"4023\",\"type\":\"LinearScale\"},{\"attributes\":{\"ticker\":{\"id\":\"4028\",\"type\":\"BasicTicker\"}},\"id\":\"4031\",\"type\":\"Grid\"},{\"attributes\":{\"fill_alpha\":{\"value\":0.1},\"fill_color\":{\"value\":\"#1f77b4\"},\"line_alpha\":{\"value\":0.1},\"line_color\":{\"value\":\"#1f77b4\"},\"top\":{\"field\":\"count\"},\"width\":{\"value\":0.9},\"x\":{\"field\":\"days_first_booking\"}},\"id\":\"4052\",\"type\":\"VBar\"},{\"attributes\":{},\"id\":\"4037\",\"type\":\"PanTool\"},{\"attributes\":{},\"id\":\"4217\",\"type\":\"Selection\"},{\"attributes\":{},\"id\":\"4033\",\"type\":\"BasicTicker\"},{\"attributes\":{\"active_drag\":\"auto\",\"active_inspect\":\"auto\",\"active_multi\":null,\"active_scroll\":\"auto\",\"active_tap\":\"auto\",\"tools\":[{\"id\":\"4037\",\"type\":\"PanTool\"},{\"id\":\"4038\",\"type\":\"WheelZoomTool\"},{\"id\":\"4039\",\"type\":\"BoxZoomTool\"},{\"id\":\"4040\",\"type\":\"SaveTool\"},{\"id\":\"4041\",\"type\":\"ResetTool\"},{\"id\":\"4042\",\"type\":\"HelpTool\"},{\"id\":\"4056\",\"type\":\"HoverTool\"}]},\"id\":\"4043\",\"type\":\"Toolbar\"},{\"attributes\":{\"overlay\":{\"id\":\"4219\",\"type\":\"BoxAnnotation\"}},\"id\":\"4039\",\"type\":\"BoxZoomTool\"},{\"attributes\":{},\"id\":\"4041\",\"type\":\"ResetTool\"},{\"attributes\":{\"data_source\":{\"id\":\"4017\",\"type\":\"ColumnDataSource\"},\"glyph\":{\"id\":\"4051\",\"type\":\"VBar\"},\"hover_glyph\":null,\"muted_glyph\":null,\"nonselection_glyph\":{\"id\":\"4052\",\"type\":\"VBar\"},\"selection_glyph\":null,\"view\":{\"id\":\"4054\",\"type\":\"CDSView\"}},\"id\":\"4053\",\"type\":\"GlyphRenderer\"},{\"attributes\":{\"callback\":null},\"id\":\"4021\",\"type\":\"DataRange1d\"},{\"attributes\":{\"callback\":null,\"tooltips\":[[\"Days\",\"@days_first_booking\"],[\"Count\",\"@count\"]]},\"id\":\"4056\",\"type\":\"HoverTool\"},{\"attributes\":{},\"id\":\"4025\",\"type\":\"LinearScale\"},{\"attributes\":{\"source\":{\"id\":\"4017\",\"type\":\"ColumnDataSource\"}},\"id\":\"4054\",\"type\":\"CDSView\"},{\"attributes\":{\"callback\":null},\"id\":\"4019\",\"type\":\"DataRange1d\"},{\"attributes\":{},\"id\":\"4216\",\"type\":\"BasicTickFormatter\"},{\"attributes\":{\"fill_color\":{\"value\":\"blue\"},\"line_color\":{\"value\":\"#1f77b4\"},\"top\":{\"field\":\"count\"},\"width\":{\"value\":0.9},\"x\":{\"field\":\"days_first_booking\"}},\"id\":\"4051\",\"type\":\"VBar\"},{\"attributes\":{},\"id\":\"4028\",\"type\":\"BasicTicker\"},{\"attributes\":{\"axis_label\":\"Count\",\"formatter\":{\"id\":\"4216\",\"type\":\"BasicTickFormatter\"},\"ticker\":{\"id\":\"4033\",\"type\":\"BasicTicker\"}},\"id\":\"4032\",\"type\":\"LinearAxis\"},{\"attributes\":{},\"id\":\"4042\",\"type\":\"HelpTool\"},{\"attributes\":{},\"id\":\"4218\",\"type\":\"UnionRenderers\"},{\"attributes\":{\"callback\":null,\"data\":{\"count\":[14925,10658,4831,2972,2196,1711,1337,1247,1000,814,672,614,530,521,496,451,426,340,308,306,299,327,236,235,235,211,196,208,245,245,199,167,157,141,158,171,139,142,138,115,125,133,134,122,107,114,110,112,101,109,99,102,123,94,108,95,98,119,105,84,94,80,94,92,86,88,71,85,83,77,88,96,85,68,71,73,78,66,85,80,80,60,63,70,74,72,72,67,76,71,69,62,63,53,70,57,47,60,65,73,62,76,55,62,65,63,58,59,52,45,50,60,57,66,61,55,58,49,46,70,57,52,69,59,51,58,53,61,68,54,53,52,50,61,47,55,47,50,49,40,57,54,47,44,42,31,64,63,61,47,46,42,47,43,63,42,63,35,41,48,49,67,39,46,43,40,56,64,58,53,56,67,33,43,43,51,41,41,34,37,33,54,58,40,50,50,45,51,54,43,43,50,39,41,45,50,53,46,44,52,55,36,43,45,54,42,38,39,49,43,43,40,43,40,51,45,46,54,45,37,50,42,46,56,44,56,35,31,48,50,45,36,51,46,50,40,50,46,49,45,43,38,39,46,48,46,40,44,54,45,42,36,39,50,44,27,38,48,49,50,37,46,40,42,32,53,39,50,47,45,47,39,40,52,40,39,40,50,43,43,36,49,40,34,41,37,52,41,34,53,39,40,40,42,46,56,38,45,40,46,33,46,44,46,51,41,50,47,47,46,39,37,46,56,36,64,52,38,45,45,37,39,42,47,50,37,47,55,53,60,45,51,42,46,39,37,47,52,59,55,40,30,41,54,45,50,50,56,47,51,43,51,48,38,56,36,46,47,41,48,44,44,51,39,52,46],\"days_first_booking\":{\"__ndarray__\":\"AAAAAAEAAAACAAAAAwAAAAQAAAAFAAAABgAAAAcAAAAIAAAACQAAAAoAAAALAAAADAAAAA0AAAAOAAAADwAAABAAAAARAAAAEgAAABMAAAAUAAAAFQAAABYAAAAXAAAAGAAAABkAAAAaAAAAGwAAABwAAAAdAAAAHgAAAB8AAAAgAAAAIQAAACIAAAAjAAAAJAAAACUAAAAmAAAAJwAAACgAAAApAAAAKgAAACsAAAAsAAAALQAAAC4AAAAvAAAAMAAAADEAAAAyAAAAMwAAADQAAAA1AAAANgAAADcAAAA4AAAAOQAAADoAAAA7AAAAPAAAAD0AAAA+AAAAPwAAAEAAAABBAAAAQgAAAEMAAABEAAAARQAAAEYAAABHAAAASAAAAEkAAABKAAAASwAAAEwAAABNAAAATgAAAE8AAABQAAAAUQAAAFIAAABTAAAAVAAAAFUAAABWAAAAVwAAAFgAAABZAAAAWgAAAFsAAABcAAAAXQAAAF4AAABfAAAAYAAAAGEAAABiAAAAYwAAAGQAAABlAAAAZgAAAGcAAABoAAAAaQAAAGoAAABrAAAAbAAAAG0AAABuAAAAbwAAAHAAAABxAAAAcgAAAHMAAAB0AAAAdQAAAHYAAAB3AAAAeAAAAHkAAAB6AAAAewAAAHwAAAB9AAAAfgAAAH8AAACAAAAAgQAAAIIAAACDAAAAhAAAAIUAAACGAAAAhwAAAIgAAACJAAAAigAAAIsAAACMAAAAjQAAAI4AAACPAAAAkAAAAJEAAACSAAAAkwAAAJQAAACVAAAAlgAAAJcAAACYAAAAmQAAAJoAAACbAAAAnAAAAJ0AAACeAAAAnwAAAKAAAAChAAAAogAAAKMAAACkAAAApQAAAKYAAACnAAAAqAAAAKkAAACqAAAAqwAAAKwAAACtAAAArgAAAK8AAACwAAAAsQAAALIAAACzAAAAtAAAALUAAAC2AAAAtwAAALgAAAC5AAAAugAAALsAAAC8AAAAvQAAAL4AAAC/AAAAwAAAAMEAAADCAAAAwwAAAMQAAADFAAAAxgAAAMcAAADIAAAAyQAAAMoAAADLAAAAzAAAAM0AAADOAAAAzwAAANAAAADRAAAA0gAAANMAAADUAAAA1QAAANYAAADXAAAA2AAAANkAAADaAAAA2wAAANwAAADdAAAA3gAAAN8AAADgAAAA4QAAAOIAAADjAAAA5AAAAOUAAADmAAAA5wAAAOgAAADpAAAA6gAAAOsAAADsAAAA7QAAAO4AAADvAAAA8AAAAPEAAADyAAAA8wAAAPQAAAD1AAAA9gAAAPcAAAD4AAAA+QAAAPoAAAD7AAAA/AAAAP0AAAD+AAAA/wAAAAABAAABAQAAAgEAAAMBAAAEAQAABQEAAAYBAAAHAQAACAEAAAkBAAAKAQAACwEAAAwBAAANAQAADgEAAA8BAAAQAQAAEQEAABIBAAATAQAAFAEAABUBAAAWAQAAFwEAABgBAAAZAQAAGgEAABsBAAAcAQAAHQEAAB4BAAAfAQAAIAEAACEBAAAiAQAAIwEAACQBAAAlAQAAJgEAACcBAAAoAQAAKQEAACoBAAArAQAALAEAAC0BAAAuAQAALwEAADABAAAxAQAAMgEAADMBAAA0AQAANQEAADYBAAA3AQAAOAEAADkBAAA6AQAAOwEAADwBAAA9AQAAPgEAAD8BAABAAQAAQQEAAEIBAABDAQAARAEAAEUBAABGAQAARwEAAEgBAABJAQAASgEAAEsBAABMAQAATQEAAE4BAABPAQAAUAEAAFEBAABSAQAAUwEAAFQBAABVAQAAVgEAAFcBAABYAQAAWQEAAFoBAABbAQAAXAEAAF0BAABeAQAAXwEAAGABAABhAQAAYgEAAGMBAABkAQAAZQEAAGYBAABnAQAAaAEAAGkBAABqAQAAawEAAGwBAABtAQAA\",\"dtype\":\"int32\",\"shape\":[366]},\"index\":[22,23,24,25,26,27,28,29,30,31,32,33,34,35,36,37,38,39,40,41,42,43,44,45,46,47,48,49,50,51,52,53,54,55,56,57,58,59,60,61,62,63,64,65,66,67,68,69,70,71,72,73,74,75,76,77,78,79,80,81,82,83,84,85,86,87,88,89,90,91,92,93,94,95,96,97,98,99,100,101,102,103,104,105,106,107,108,109,110,111,112,113,114,115,116,117,118,119,120,121,122,123,124,125,126,127,128,129,130,131,132,133,134,135,136,137,138,139,140,141,142,143,144,145,146,147,148,149,150,151,152,153,154,155,156,157,158,159,160,161,162,163,164,165,166,167,168,169,170,171,172,173,174,175,176,177,178,179,180,181,182,183,184,185,186,187,188,189,190,191,192,193,194,195,196,197,198,199,200,201,202,203,204,205,206,207,208,209,210,211,212,213,214,215,216,217,218,219,220,221,222,223,224,225,226,227,228,229,230,231,232,233,234,235,236,237,238,239,240,241,242,243,244,245,246,247,248,249,250,251,252,253,254,255,256,257,258,259,260,261,262,263,264,265,266,267,268,269,270,271,272,273,274,275,276,277,278,279,280,281,282,283,284,285,286,287,288,289,290,291,292,293,294,295,296,297,298,299,300,301,302,303,304,305,306,307,308,309,310,311,312,313,314,315,316,317,318,319,320,321,322,323,324,325,326,327,328,329,330,331,332,333,334,335,336,337,338,339,340,341,342,343,344,345,346,347,348,349,350,351,352,353,354,355,356,357,358,359,360,361,362,363,364,365,366,367,368,369,370,371,372,373,374,375,376,377,378,379,380,381,382,383,384,385,386,387]},\"selected\":{\"id\":\"4217\",\"type\":\"Selection\"},\"selection_policy\":{\"id\":\"4218\",\"type\":\"UnionRenderers\"}},\"id\":\"4017\",\"type\":\"ColumnDataSource\"},{\"attributes\":{},\"id\":\"4038\",\"type\":\"WheelZoomTool\"},{\"attributes\":{},\"id\":\"4040\",\"type\":\"SaveTool\"},{\"attributes\":{\"dimension\":1,\"ticker\":{\"id\":\"4033\",\"type\":\"BasicTicker\"}},\"id\":\"4036\",\"type\":\"Grid\"},{\"attributes\":{\"bottom_units\":\"screen\",\"fill_alpha\":{\"value\":0.5},\"fill_color\":{\"value\":\"lightgrey\"},\"left_units\":\"screen\",\"level\":\"overlay\",\"line_alpha\":{\"value\":1.0},\"line_color\":{\"value\":\"black\"},\"line_dash\":[4,4],\"line_width\":{\"value\":2},\"render_mode\":\"css\",\"right_units\":\"screen\",\"top_units\":\"screen\"},\"id\":\"4219\",\"type\":\"BoxAnnotation\"}],\"root_ids\":[\"4018\"]},\"title\":\"Bokeh Application\",\"version\":\"1.4.0\"}};\n",
       "  var render_items = [{\"docid\":\"38e3db08-fd1a-4286-b730-fa2b2d44a12c\",\"roots\":{\"4018\":\"45d87fa5-1ffb-4574-bafe-33aa26f1fcb8\"}}];\n",
       "  root.Bokeh.embed.embed_items_notebook(docs_json, render_items);\n",
       "\n",
       "  }\n",
       "  if (root.Bokeh !== undefined) {\n",
       "    embed_document(root);\n",
       "  } else {\n",
       "    var attempts = 0;\n",
       "    var timer = setInterval(function(root) {\n",
       "      if (root.Bokeh !== undefined) {\n",
       "        clearInterval(timer);\n",
       "        embed_document(root);\n",
       "      } else {\n",
       "        attempts++;\n",
       "        if (attempts > 100) {\n",
       "          clearInterval(timer);\n",
       "          console.log(\"Bokeh: ERROR: Unable to run BokehJS code because BokehJS library is missing\");\n",
       "        }\n",
       "      }\n",
       "    }, 10, root)\n",
       "  }\n",
       "})(window);"
      ],
      "application/vnd.bokehjs_exec.v0+json": ""
     },
     "metadata": {
      "application/vnd.bokehjs_exec.v0+json": {
       "id": "4018"
      }
     },
     "output_type": "display_data"
    }
   ],
   "source": [
    "#output_notebook()\n",
    "output_notebook()\n",
    "\n",
    "session_data = ColumnDataSource(data = numdays)\n",
    "\n",
    "plot = figure(plot_width= 400, plot_height = 400, \\\n",
    "              min_border = 0)#, Tooltips = tooltips)\n",
    "\n",
    "plot.vbar(x = \"days_first_booking\", bottom=0, top='count', source = session_data, \\\n",
    "          width = 0.9, fill_color = \"blue\")\n",
    "\n",
    "plot.title.text = 'Distribution of days until first AirBnB booking'\n",
    "plot.xaxis.axis_label = 'Days'\n",
    "plot.yaxis.axis_label = 'Count'\n",
    "plot.xaxis.major_label_orientation = 90\n",
    "\n",
    "hover = HoverTool(tooltips = [('Days', '@days_first_booking'), ('Count', '@count')])\n",
    "plot.add_tools(hover)\n",
    "\n",
    "show(plot)"
   ]
  },
  {
   "cell_type": "markdown",
   "metadata": {},
   "source": [
    "##### Distribution of number of days until first booking (timestamp first active)"
   ]
  },
  {
   "cell_type": "code",
   "execution_count": 790,
   "metadata": {},
   "outputs": [],
   "source": [
    "numdays_ts = train_user_pd_df.dropna(subset = [\"days_first_booking_ts\"])\n",
    "#numdays_ts[\"days_first_booking_ts\"] = np.round(numdays_ts[\"days_first_booking_ts\"]* 2) / 2\n",
    "numdays_ts = numdays_ts.groupby(\"days_first_booking_ts\").size().reset_index(name = \"count\")\n",
    "numdays_ts[\"days_first_booking_ts\"] = numdays_ts[\"days_first_booking_ts\"].astype(int)\n",
    "numdays_ts = numdays_ts[numdays_ts[\"days_first_booking_ts\"] >= 0]"
   ]
  },
  {
   "cell_type": "code",
   "execution_count": null,
   "metadata": {},
   "outputs": [],
   "source": []
  },
  {
   "cell_type": "markdown",
   "metadata": {
    "scrolled": true
   },
   "source": [
    "quantiles_ts = numdays_ts.quantile([0.01, 0.99]).reset_index()\n",
    "outlier_cutoff_ts = quantiles_ts.loc[1][\"days_first_booking_ts\"] \\\n",
    "+ (1.5 * (quantiles_ts.loc[1][\"days_first_booking_ts\"] - \\\n",
    "        quantiles_ts.loc[0][\"days_first_booking_ts\"]))\n",
    "\n",
    "no_outlier_median_ts = numdays_ts.quantile([0.50]).reset_index()\n",
    "#print(\"Average number of days before first booking = {}\" .format(np.round(no_outlier_median_ts, 2)))\n",
    "      \n",
    "numdays_ts_no_outliers = numdays_ts[(numdays_ts[\"days_first_booking_ts\"] >= \\\n",
    "                                    quantiles_ts.loc[0][\"days_first_booking_ts\"]) & \\\n",
    "                       (numdays_ts[\"days_first_booking_ts\"] <= \\\n",
    "                        quantiles_ts.loc[1][\"days_first_booking_ts\"])]\n",
    "      \n",
    "numdays_ts_no_outliers_10 = numdays_ts_no_outliers.tail(10)\n",
    "#print(numdays_ts_no_outliers_10)\n",
    "numdays_ts_no_outliers.count()"
   ]
  },
  {
   "cell_type": "code",
   "execution_count": 791,
   "metadata": {},
   "outputs": [
    {
     "data": {
      "text/html": [
       "<div>\n",
       "<style scoped>\n",
       "    .dataframe tbody tr th:only-of-type {\n",
       "        vertical-align: middle;\n",
       "    }\n",
       "\n",
       "    .dataframe tbody tr th {\n",
       "        vertical-align: top;\n",
       "    }\n",
       "\n",
       "    .dataframe thead th {\n",
       "        text-align: right;\n",
       "    }\n",
       "</style>\n",
       "<table border=\"1\" class=\"dataframe\">\n",
       "  <thead>\n",
       "    <tr style=\"text-align: right;\">\n",
       "      <th></th>\n",
       "      <th>days_first_booking_ts</th>\n",
       "      <th>count</th>\n",
       "    </tr>\n",
       "  </thead>\n",
       "  <tbody>\n",
       "    <tr>\n",
       "      <th>1</th>\n",
       "      <td>0</td>\n",
       "      <td>10657</td>\n",
       "    </tr>\n",
       "    <tr>\n",
       "      <th>2</th>\n",
       "      <td>1</td>\n",
       "      <td>4827</td>\n",
       "    </tr>\n",
       "    <tr>\n",
       "      <th>3</th>\n",
       "      <td>2</td>\n",
       "      <td>2969</td>\n",
       "    </tr>\n",
       "    <tr>\n",
       "      <th>4</th>\n",
       "      <td>3</td>\n",
       "      <td>2196</td>\n",
       "    </tr>\n",
       "    <tr>\n",
       "      <th>5</th>\n",
       "      <td>4</td>\n",
       "      <td>1707</td>\n",
       "    </tr>\n",
       "    <tr>\n",
       "      <th>...</th>\n",
       "      <td>...</td>\n",
       "      <td>...</td>\n",
       "    </tr>\n",
       "    <tr>\n",
       "      <th>394</th>\n",
       "      <td>1042</td>\n",
       "      <td>1</td>\n",
       "    </tr>\n",
       "    <tr>\n",
       "      <th>395</th>\n",
       "      <td>1057</td>\n",
       "      <td>1</td>\n",
       "    </tr>\n",
       "    <tr>\n",
       "      <th>396</th>\n",
       "      <td>1152</td>\n",
       "      <td>1</td>\n",
       "    </tr>\n",
       "    <tr>\n",
       "      <th>397</th>\n",
       "      <td>1336</td>\n",
       "      <td>1</td>\n",
       "    </tr>\n",
       "    <tr>\n",
       "      <th>398</th>\n",
       "      <td>1368</td>\n",
       "      <td>1</td>\n",
       "    </tr>\n",
       "  </tbody>\n",
       "</table>\n",
       "<p>398 rows × 2 columns</p>\n",
       "</div>"
      ],
      "text/plain": [
       "     days_first_booking_ts  count\n",
       "1                        0  10657\n",
       "2                        1   4827\n",
       "3                        2   2969\n",
       "4                        3   2196\n",
       "5                        4   1707\n",
       "..                     ...    ...\n",
       "394                   1042      1\n",
       "395                   1057      1\n",
       "396                   1152      1\n",
       "397                   1336      1\n",
       "398                   1368      1\n",
       "\n",
       "[398 rows x 2 columns]"
      ]
     },
     "execution_count": 791,
     "metadata": {},
     "output_type": "execute_result"
    }
   ],
   "source": [
    "#numdays_ts_no_outliers\n",
    "numdays_ts"
   ]
  },
  {
   "cell_type": "code",
   "execution_count": 792,
   "metadata": {},
   "outputs": [],
   "source": [
    "#numdays_ts = numdays_ts_no_outliers\n",
    "numdays_ts[\"days_first_booking_ts\"] = np.where(numdays_ts[\"days_first_booking_ts\"] == 0, 0, \\\n",
    "                                                      np.sqrt(numdays_ts[\"days_first_booking_ts\"]))"
   ]
  },
  {
   "cell_type": "code",
   "execution_count": 793,
   "metadata": {
    "scrolled": false
   },
   "outputs": [
    {
     "data": {
      "image/png": "[encoded data removed]",
      "text/plain": [
       "<Figure size 864x720 with 1 Axes>"
      ]
     },
     "metadata": {
      "needs_background": "light"
     },
     "output_type": "display_data"
    }
   ],
   "source": [
    "font = {\"size\": \"8\"}\n",
    "plt.figure(figsize = (12,10))\n",
    "plt.rc(\"font\", **font)\n",
    "sb.scatterplot(x = numdays_ts[\"days_first_booking_ts\"], y = numdays_ts[\"count\"], \\\n",
    "           color = \"mediumblue\", s = 100)\n",
    "\n",
    "plt.title(\"Exponential-type long tail distribution for days before first booking\")\n",
    "#plt.xticks(ticks = np.arange(0, 500, step = 3\n",
    " #                            00), rotation = 90)\n",
    "plt.show()"
   ]
  },
  {
   "cell_type": "markdown",
   "metadata": {},
   "source": [
    "Days before first booking (account created and timestamp) has an exponoential or gamma long-tail distribution"
   ]
  },
  {
   "cell_type": "code",
   "execution_count": 794,
   "metadata": {
    "scrolled": false
   },
   "outputs": [
    {
     "data": {
      "text/html": [
       "<div>\n",
       "<style scoped>\n",
       "    .dataframe tbody tr th:only-of-type {\n",
       "        vertical-align: middle;\n",
       "    }\n",
       "\n",
       "    .dataframe tbody tr th {\n",
       "        vertical-align: top;\n",
       "    }\n",
       "\n",
       "    .dataframe thead th {\n",
       "        text-align: right;\n",
       "    }\n",
       "</style>\n",
       "<table border=\"1\" class=\"dataframe\">\n",
       "  <thead>\n",
       "    <tr style=\"text-align: right;\">\n",
       "      <th></th>\n",
       "      <th>days_first_booking_ts</th>\n",
       "      <th>count</th>\n",
       "    </tr>\n",
       "  </thead>\n",
       "  <tbody>\n",
       "    <tr>\n",
       "      <th>1</th>\n",
       "      <td>0.000000</td>\n",
       "      <td>10657</td>\n",
       "    </tr>\n",
       "    <tr>\n",
       "      <th>2</th>\n",
       "      <td>1.000000</td>\n",
       "      <td>4827</td>\n",
       "    </tr>\n",
       "    <tr>\n",
       "      <th>3</th>\n",
       "      <td>1.414214</td>\n",
       "      <td>2969</td>\n",
       "    </tr>\n",
       "    <tr>\n",
       "      <th>4</th>\n",
       "      <td>1.732051</td>\n",
       "      <td>2196</td>\n",
       "    </tr>\n",
       "    <tr>\n",
       "      <th>5</th>\n",
       "      <td>2.000000</td>\n",
       "      <td>1707</td>\n",
       "    </tr>\n",
       "  </tbody>\n",
       "</table>\n",
       "</div>"
      ],
      "text/plain": [
       "   days_first_booking_ts  count\n",
       "1               0.000000  10657\n",
       "2               1.000000   4827\n",
       "3               1.414214   2969\n",
       "4               1.732051   2196\n",
       "5               2.000000   1707"
      ]
     },
     "execution_count": 794,
     "metadata": {},
     "output_type": "execute_result"
    }
   ],
   "source": [
    "numdays_ts.head()"
   ]
  },
  {
   "cell_type": "code",
   "execution_count": 795,
   "metadata": {},
   "outputs": [],
   "source": [
    "train_user_pd_df[\"days_first_booking_ts\"] = \\\n",
    "train_user_pd_df[\"days_first_booking_ts\"].astype(float)"
   ]
  },
  {
   "cell_type": "markdown",
   "metadata": {
    "collapsed": true
   },
   "source": [
    "##### Filter out all errorneous \"days before first booking\" values"
   ]
  },
  {
   "cell_type": "code",
   "execution_count": 796,
   "metadata": {},
   "outputs": [],
   "source": [
    "#########################################################3"
   ]
  },
  {
   "cell_type": "markdown",
   "metadata": {},
   "source": [
    "train_user_pd_df_ts = train_user_pd_df.dropna(subset = [\"days_first_booking_ts\"])\n",
    "train_user_pd_df_ts = train_user_pd_df_ts[train_user_pd_df_ts[\"days_first_booking_ts\"] >= 0]"
   ]
  },
  {
   "cell_type": "markdown",
   "metadata": {},
   "source": [
    "train_user_pd_df_days = train_user_pd_df.dropna(subset = [\"days_first_booking\"])\n",
    "train_user_pd_df_days = train_user_pd_df_days[train_user_pd_df_days[\"days_first_booking\"] >= 0]"
   ]
  },
  {
   "cell_type": "markdown",
   "metadata": {},
   "source": [
    "train_user_pd_df[train_user_pd_df[\"days_first_booking\"].astype(float) >= 0].describe()"
   ]
  },
  {
   "cell_type": "markdown",
   "metadata": {},
   "source": [
    "numdays_ts[\"days_first_booking_ts\"].describe()"
   ]
  },
  {
   "cell_type": "code",
   "execution_count": 797,
   "metadata": {},
   "outputs": [],
   "source": [
    "#############################################################"
   ]
  },
  {
   "cell_type": "code",
   "execution_count": null,
   "metadata": {},
   "outputs": [],
   "source": []
  },
  {
   "cell_type": "code",
   "execution_count": 798,
   "metadata": {},
   "outputs": [],
   "source": [
    "train_user_pd_df2 = train_user_pd_df[(train_user_pd_df[\"days_first_booking_ts\"] >= 0) | (pd.isna(train_user_pd_df[\"days_first_booking_ts\"]) == True)]\n",
    "\n",
    "'''\n",
    "train_user_pd_df = train_user_pd_df2[(train_user_pd_df2[\"days_first_booking_ts\"] >= \\\n",
    "                                    quantiles_ts.loc[0][\"days_first_booking_ts\"]) & \\\n",
    "                       (train_user_pd_df2[\"days_first_booking_ts\"] <= \\\n",
    "                        quantiles_ts.loc[1][\"days_first_booking_ts\"])]\n",
    " \n",
    "'''\n",
    "train_user_pd_df2[\"days_first_booking_ts2\"] = np.where(train_user_pd_df2[\"days_first_booking_ts\"] == 0, 0, \\\n",
    "                                                      np.sqrt(train_user_pd_df2[\"days_first_booking_ts\"]))"
   ]
  },
  {
   "cell_type": "code",
   "execution_count": 799,
   "metadata": {
    "scrolled": true
   },
   "outputs": [
    {
     "data": {
      "text/plain": [
       "0.0"
      ]
     },
     "execution_count": 799,
     "metadata": {},
     "output_type": "execute_result"
    }
   ],
   "source": [
    "train_user_pd_df2[\"days_first_booking_ts\"].min()"
   ]
  },
  {
   "cell_type": "code",
   "execution_count": 800,
   "metadata": {},
   "outputs": [],
   "source": [
    "##### End of EDA"
   ]
  },
  {
   "cell_type": "code",
   "execution_count": 801,
   "metadata": {},
   "outputs": [],
   "source": [
    "#############################################################"
   ]
  },
  {
   "cell_type": "markdown",
   "metadata": {},
   "source": [
    "Analyze train user data and link  to the sessio info"
   ]
  },
  {
   "cell_type": "markdown",
   "metadata": {},
   "source": [
    "##### Train user data - fill in missing values and unknownd with the mean "
   ]
  },
  {
   "cell_type": "markdown",
   "metadata": {},
   "source": [
    "train_user_pd_df = pd.read_csv(\"train_user_pd_df.csv\")"
   ]
  },
  {
   "cell_type": "code",
   "execution_count": 802,
   "metadata": {},
   "outputs": [],
   "source": [
    "train_user_pd_df3 = train_user_pd_df2.drop(columns = ['id', 'date_account_created', 'timestamp_first_active',\n",
    "       'date_first_booking', 'days_first_booking', 'days_first_booking_ts'], axis = 1)"
   ]
  },
  {
   "cell_type": "code",
   "execution_count": 803,
   "metadata": {},
   "outputs": [],
   "source": [
    "##### Create a boolean value to indicate if a customer makes a booking"
   ]
  },
  {
   "cell_type": "code",
   "execution_count": 804,
   "metadata": {},
   "outputs": [],
   "source": [
    "train_user_pd_df3[\"booking\"] = pd.isna(train_user_pd_df3[\"days_first_booking_ts2\"])"
   ]
  },
  {
   "cell_type": "code",
   "execution_count": 805,
   "metadata": {},
   "outputs": [],
   "source": [
    " cat_columns =[\"gender\", \"signup_method\", \\\n",
    "              \"signup_flow\", \n",
    "              \"language\", \\\n",
    "              \"affiliate_channel\", \n",
    "              \"affiliate_provider\", \\\n",
    "              \"first_affiliate_tracked\", \\\n",
    "              \"signup_app\", \"first_device_type\", \"first_browser\", \\\n",
    "              \"country_destination\"]\n",
    "\n",
    "num_columns = [\"age\", \"days_first_booking_ts2\"]"
   ]
  },
  {
   "cell_type": "code",
   "execution_count": 806,
   "metadata": {},
   "outputs": [],
   "source": [
    "countries_df = train_user_pd_df3.groupby(\"country_destination\").size().reset_index(name = \"count\")\n",
    "#countries_df[\"weights\"] = countries_df[\"count\"] / float(np.sum(countries_df[\"count\"]))\n",
    "#weights = train_user_pd_df3.merge(countries_df[[\"country_destination\", \"weights\"]], on = \"country_destination\", how = \"inner\").reset_index()[\"weights\"]"
   ]
  },
  {
   "cell_type": "code",
   "execution_count": 807,
   "metadata": {},
   "outputs": [
    {
     "data": {
      "text/html": [
       "<div>\n",
       "<style scoped>\n",
       "    .dataframe tbody tr th:only-of-type {\n",
       "        vertical-align: middle;\n",
       "    }\n",
       "\n",
       "    .dataframe tbody tr th {\n",
       "        vertical-align: top;\n",
       "    }\n",
       "\n",
       "    .dataframe thead th {\n",
       "        text-align: right;\n",
       "    }\n",
       "</style>\n",
       "<table border=\"1\" class=\"dataframe\">\n",
       "  <thead>\n",
       "    <tr style=\"text-align: right;\">\n",
       "      <th></th>\n",
       "      <th>country_destination</th>\n",
       "      <th>count</th>\n",
       "    </tr>\n",
       "  </thead>\n",
       "  <tbody>\n",
       "    <tr>\n",
       "      <th>0</th>\n",
       "      <td>AU</td>\n",
       "      <td>350</td>\n",
       "    </tr>\n",
       "    <tr>\n",
       "      <th>1</th>\n",
       "      <td>CA</td>\n",
       "      <td>834</td>\n",
       "    </tr>\n",
       "    <tr>\n",
       "      <th>2</th>\n",
       "      <td>DE</td>\n",
       "      <td>698</td>\n",
       "    </tr>\n",
       "    <tr>\n",
       "      <th>3</th>\n",
       "      <td>ES</td>\n",
       "      <td>1312</td>\n",
       "    </tr>\n",
       "    <tr>\n",
       "      <th>4</th>\n",
       "      <td>FR</td>\n",
       "      <td>3120</td>\n",
       "    </tr>\n",
       "    <tr>\n",
       "      <th>5</th>\n",
       "      <td>GB</td>\n",
       "      <td>1426</td>\n",
       "    </tr>\n",
       "    <tr>\n",
       "      <th>6</th>\n",
       "      <td>IT</td>\n",
       "      <td>1578</td>\n",
       "    </tr>\n",
       "    <tr>\n",
       "      <th>7</th>\n",
       "      <td>NDF</td>\n",
       "      <td>56154</td>\n",
       "    </tr>\n",
       "    <tr>\n",
       "      <th>8</th>\n",
       "      <td>NL</td>\n",
       "      <td>486</td>\n",
       "    </tr>\n",
       "    <tr>\n",
       "      <th>9</th>\n",
       "      <td>PT</td>\n",
       "      <td>121</td>\n",
       "    </tr>\n",
       "    <tr>\n",
       "      <th>10</th>\n",
       "      <td>US</td>\n",
       "      <td>37119</td>\n",
       "    </tr>\n",
       "    <tr>\n",
       "      <th>11</th>\n",
       "      <td>other</td>\n",
       "      <td>6100</td>\n",
       "    </tr>\n",
       "  </tbody>\n",
       "</table>\n",
       "</div>"
      ],
      "text/plain": [
       "   country_destination  count\n",
       "0                   AU    350\n",
       "1                   CA    834\n",
       "2                   DE    698\n",
       "3                   ES   1312\n",
       "4                   FR   3120\n",
       "5                   GB   1426\n",
       "6                   IT   1578\n",
       "7                  NDF  56154\n",
       "8                   NL    486\n",
       "9                   PT    121\n",
       "10                  US  37119\n",
       "11               other   6100"
      ]
     },
     "execution_count": 807,
     "metadata": {},
     "output_type": "execute_result"
    }
   ],
   "source": [
    "countries_df"
   ]
  },
  {
   "cell_type": "code",
   "execution_count": 808,
   "metadata": {
    "scrolled": true
   },
   "outputs": [],
   "source": [
    "def imputation_values(train_user_pd_df3, n_samples, size, \\\n",
    "                      cat_columns, num_columns, weights):\n",
    "    \n",
    "\n",
    "    X_imp = train_user_pd_df3\n",
    "\n",
    "    ### Encode strings as integers\n",
    "\n",
    "    X_imp.replace([np.nan, np.inf], 10000, inplace = True)\n",
    "\n",
    "    X_imp = X_imp.astype(str)\n",
    "\n",
    "   \n",
    "    from sklearn import preprocessing\n",
    "\n",
    "    labels_lst = []\n",
    "    le = LabelEncoder()\n",
    "    for col in X_imp.columns:\n",
    "        le_array = le.fit_transform(X_imp[col])\n",
    "        labels_lst.append(le_array)\n",
    "        labels_np = np.transpose(np.array(labels_lst))\n",
    "        \n",
    "    labels_df = pd.DataFrame(labels_np, columns = X_imp.columns).reset_index()\n",
    "    labels_df = labels_df.drop(num_columns, axis = 1).reset_index()\n",
    "    #print(le.inverse_transform((list(np.round(labels_df[\"country_destination\"].astype(int))))))\n",
    "    \n",
    "    ##### Merge all categorical and numerical dataframes\n",
    "    \n",
    "    num_df = X_imp[num_columns]\n",
    "    num_df.replace([np.nan, np.inf, -np.inf], 10000, inplace = True)\n",
    "    \n",
    "    X_imp_df = labels_df.drop(columns = [\"level_0\"], axis = 1)\n",
    "    \n",
    "    X_imp_df[num_columns] =  num_df \n",
    "    X_imp_df.replace([np.nan, np.inf, -np.inf], 10000, inplace = True)\n",
    "    \n",
    "    ##### Convert all columns to numerical\n",
    "    \n",
    "    X_imp_df = X_imp_df.astype(float)\n",
    "   \n",
    "    X_imp_df = X_imp_df.drop(columns = [\"index\"], axis = 1)\n",
    "    \n",
    "    \n",
    "    ###################################################################################\n",
    "    \n",
    "    \n",
    "    ##### Use imputation to replace missing values (10,000)\n",
    "    n = int(size * n_samples)\n",
    "    \n",
    "    impute_val = KNNImputer(missing_values = 10000, n_neighbors = n, \\\n",
    "                            weights = weights, copy = False)\n",
    "    \n",
    "    X_imp_df_samp = X_imp_df.sample(n = n_samples, axis = 0, \\\n",
    "                                    random_state = 20200131)\n",
    "    \n",
    "    knn_model = impute_val.fit_transform(X_imp_df_samp)\n",
    "    \n",
    "    ##### Placeholder to save KNN model\n",
    "\n",
    "    pickle.dump(knn_model, open(\"knn_impute_model_test.sav\", \"wb\"))\n",
    "\n",
    "    with open(\"knn_impute_model_test.sav\", \"rb\") as f:\n",
    "        knn_model = pickle.load(f)\n",
    "\n",
    "    ###############################################################################\n",
    "    \n",
    "    knn_imp_df = pd.DataFrame(knn_model.tolist(), columns = X_imp_df_samp.columns)\n",
    "    knn_imp_df[\"index\"] = X_imp_df_samp.index\n",
    "    \n",
    "    #x = le.fit_transform(knn_imp_df[\"country_destination\"].astype(str))\n",
    "    #knn_imp_df[\"country_destination_cat\"] = le.inverse_transform((x))\n",
    "    #print(knn_imp_df[\"country_destination_cat\"])\n",
    "    #knn_imp_df[\"country_destination_cat\"] = le.inverse_transform(np.asarray(knn_imp_df[\"country_destination\"].astype(int))) \n",
    "    \n",
    "    '''\n",
    "    knn_imp_df[\"age\"] = np.floor(knn_imp_df[\"age\"])\n",
    "    '''\n",
    "    return knn_imp_df, le"
   ]
  },
  {
   "cell_type": "markdown",
   "metadata": {},
   "source": [
    "###### Create input and output features"
   ]
  },
  {
   "cell_type": "code",
   "execution_count": 809,
   "metadata": {},
   "outputs": [],
   "source": [
    "def glm_model(X_imp_df):\n",
    "    X = (X_imp_df.iloc[:, :-1])\n",
    "    y = X_imp_df[\"days_first_booking_ts2\"].to_numpy()\n",
    "\n",
    "    X_train, X_test, y_train, y_test = train_test_split(X, y, \\\n",
    "                                                        test_size = 0.4, \\\n",
    "                                                       random_state = 20200116)\n",
    "\n",
    "    #### Change model to Ensemble regression model\n",
    "\n",
    "    train_const = sm.add_constant(X_train)\n",
    "\n",
    "    tw_model = sm.GLM(y_train, exog = X_train, \\\n",
    "                      family = sm.families.Tweedie())\n",
    "\n",
    "    tw_results = tw_model.fit()\n",
    "\n",
    "    y_pred = tw_results.predict(X_test)\n",
    "\n",
    "    print(\"MAD =\", np.round(mean_absolute_error(y_test, y_pred), 2))\n",
    "\n",
    "    print(\"Max error =\", np.round(max_error(y_test, y_pred),2))\n",
    "\n",
    "    print(\"RMSE =\", np.round(np.sqrt(mean_squared_error(y_test, y_pred)), 2))\n",
    "    \n",
    "    print(\"Actual MAD = {} days\" .format(np.round(mean_absolute_error(y_test, y_pred)**2, 2)))\n",
    "    print(\"Actual RMSE = {} days\" .format(np.round(np.sqrt(mean_squared_error(y_test, y_pred)))**2, 2))\n",
    "    \n",
    "    print(\"Median (average) = {} days\" .format(np.round(np.median(y_test)**2, 2)))\n",
    "    \n",
    "    return"
   ]
  },
  {
   "cell_type": "code",
   "execution_count": null,
   "metadata": {},
   "outputs": [],
   "source": []
  },
  {
   "cell_type": "code",
   "execution_count": 810,
   "metadata": {},
   "outputs": [
    {
     "name": "stdout",
     "output_type": "stream",
     "text": [
      "Wall time: 5min 36s\n"
     ]
    }
   ],
   "source": [
    "%%time\n",
    "X_imp_df, label_enc = imputation_values(train_user_pd_df3, 30000, 1, \\\n",
    "                             cat_columns, num_columns, \"uniform\")"
   ]
  },
  {
   "cell_type": "code",
   "execution_count": 811,
   "metadata": {
    "scrolled": false
   },
   "outputs": [
    {
     "name": "stdout",
     "output_type": "stream",
     "text": [
      "MAD = 0.86\n",
      "Max error = 82.76\n",
      "RMSE = 1.56\n",
      "Actual MAD = 0.74 days\n",
      "Actual RMSE = 4.0 days\n",
      "Median (average) = 27.62 days\n"
     ]
    }
   ],
   "source": [
    "glm_model(X_imp_df)"
   ]
  },
  {
   "cell_type": "markdown",
   "metadata": {},
   "source": [
    "On average the long-tailed tweedie model predicts it takes 27.62 days for a customer to make a booking with an error or mean average deviation (MAD) of less than one day (0.74)"
   ]
  },
  {
   "cell_type": "code",
   "execution_count": 812,
   "metadata": {},
   "outputs": [],
   "source": [
    "#####  Scale numeric column age"
   ]
  },
  {
   "cell_type": "code",
   "execution_count": 813,
   "metadata": {},
   "outputs": [],
   "source": [
    "scale = preprocessing.MinMaxScaler()\n",
    "train_user_numcols = scale.fit_transform(train_user_pd_df3[[\"age\"]])\n",
    "numcols = pd.DataFrame(train_user_numcols, columns = [\"age\"]).reset_index()#X_imp_df2[\"age\"] = numcols[\"age\"]\n",
    "train_user_pd_df3_scale = train_user_pd_df3\n",
    "train_user_pd_df3_scale[\"age\"] = numcols[\"age\"]"
   ]
  },
  {
   "cell_type": "code",
   "execution_count": 814,
   "metadata": {},
   "outputs": [
    {
     "name": "stdout",
     "output_type": "stream",
     "text": [
      "Wall time: 3min 45s\n"
     ]
    }
   ],
   "source": [
    "%%time\n",
    "X_imp_df_scale, label_enc = imputation_values(train_user_pd_df3_scale, 30000, 1, \\\n",
    "                             cat_columns, num_columns, \"uniform\")"
   ]
  },
  {
   "cell_type": "code",
   "execution_count": 815,
   "metadata": {
    "scrolled": false
   },
   "outputs": [
    {
     "name": "stdout",
     "output_type": "stream",
     "text": [
      "MAD = 0.87\n",
      "Max error = 86.2\n",
      "RMSE = 1.61\n",
      "Actual MAD = 0.76 days\n",
      "Actual RMSE = 4.0 days\n",
      "Median (average) = 27.62 days\n"
     ]
    }
   ],
   "source": [
    "glm_model(X_imp_df_scale)"
   ]
  },
  {
   "cell_type": "markdown",
   "metadata": {},
   "source": [
    "MAD remains 0.76 when the numerical variables are scaled. "
   ]
  },
  {
   "cell_type": "markdown",
   "metadata": {},
   "source": [
    "Any possible improvements to the model can be made using various techniques:\n",
    "    1. Feature selection\n",
    "    2. Choice of model\n",
    "    3. Sample size"
   ]
  },
  {
   "cell_type": "markdown",
   "metadata": {},
   "source": [
    "##### Feature selection using anova"
   ]
  },
  {
   "cell_type": "code",
   "execution_count": 167,
   "metadata": {},
   "outputs": [
    {
     "data": {
      "text/html": [
       "<div>\n",
       "<style scoped>\n",
       "    .dataframe tbody tr th:only-of-type {\n",
       "        vertical-align: middle;\n",
       "    }\n",
       "\n",
       "    .dataframe tbody tr th {\n",
       "        vertical-align: top;\n",
       "    }\n",
       "\n",
       "    .dataframe thead th {\n",
       "        text-align: right;\n",
       "    }\n",
       "</style>\n",
       "<table border=\"1\" class=\"dataframe\">\n",
       "  <thead>\n",
       "    <tr style=\"text-align: right;\">\n",
       "      <th></th>\n",
       "      <th>gender</th>\n",
       "      <th>age</th>\n",
       "      <th>signup_method</th>\n",
       "      <th>signup_flow</th>\n",
       "      <th>language</th>\n",
       "      <th>affiliate_channel</th>\n",
       "      <th>affiliate_provider</th>\n",
       "      <th>first_affiliate_tracked</th>\n",
       "      <th>signup_app</th>\n",
       "      <th>first_device_type</th>\n",
       "      <th>first_browser</th>\n",
       "      <th>country_destination</th>\n",
       "      <th>days_first_booking_ts2</th>\n",
       "      <th>booking</th>\n",
       "    </tr>\n",
       "  </thead>\n",
       "  <tbody>\n",
       "    <tr>\n",
       "      <th>1</th>\n",
       "      <td>MALE</td>\n",
       "      <td>0.275862</td>\n",
       "      <td>facebook</td>\n",
       "      <td>0</td>\n",
       "      <td>en</td>\n",
       "      <td>seo</td>\n",
       "      <td>google</td>\n",
       "      <td>untracked</td>\n",
       "      <td>Web</td>\n",
       "      <td>Mac Desktop</td>\n",
       "      <td>Chrome</td>\n",
       "      <td>NDF</td>\n",
       "      <td>10000.000000</td>\n",
       "      <td>True</td>\n",
       "    </tr>\n",
       "    <tr>\n",
       "      <th>2</th>\n",
       "      <td>FEMALE</td>\n",
       "      <td>0.264368</td>\n",
       "      <td>basic</td>\n",
       "      <td>3</td>\n",
       "      <td>en</td>\n",
       "      <td>direct</td>\n",
       "      <td>direct</td>\n",
       "      <td>untracked</td>\n",
       "      <td>Web</td>\n",
       "      <td>Windows Desktop</td>\n",
       "      <td>IE</td>\n",
       "      <td>US</td>\n",
       "      <td>20.445048</td>\n",
       "      <td>False</td>\n",
       "    </tr>\n",
       "    <tr>\n",
       "      <th>3</th>\n",
       "      <td>FEMALE</td>\n",
       "      <td>0.321839</td>\n",
       "      <td>facebook</td>\n",
       "      <td>0</td>\n",
       "      <td>en</td>\n",
       "      <td>direct</td>\n",
       "      <td>direct</td>\n",
       "      <td>untracked</td>\n",
       "      <td>Web</td>\n",
       "      <td>Mac Desktop</td>\n",
       "      <td>Firefox</td>\n",
       "      <td>other</td>\n",
       "      <td>32.280025</td>\n",
       "      <td>False</td>\n",
       "    </tr>\n",
       "    <tr>\n",
       "      <th>4</th>\n",
       "      <td>-unknown-</td>\n",
       "      <td>0.367816</td>\n",
       "      <td>basic</td>\n",
       "      <td>0</td>\n",
       "      <td>en</td>\n",
       "      <td>direct</td>\n",
       "      <td>direct</td>\n",
       "      <td>untracked</td>\n",
       "      <td>Web</td>\n",
       "      <td>Mac Desktop</td>\n",
       "      <td>Chrome</td>\n",
       "      <td>US</td>\n",
       "      <td>8.426150</td>\n",
       "      <td>False</td>\n",
       "    </tr>\n",
       "    <tr>\n",
       "      <th>6</th>\n",
       "      <td>FEMALE</td>\n",
       "      <td>0.333333</td>\n",
       "      <td>basic</td>\n",
       "      <td>0</td>\n",
       "      <td>en</td>\n",
       "      <td>other</td>\n",
       "      <td>craigslist</td>\n",
       "      <td>untracked</td>\n",
       "      <td>Web</td>\n",
       "      <td>Mac Desktop</td>\n",
       "      <td>Safari</td>\n",
       "      <td>US</td>\n",
       "      <td>1.414214</td>\n",
       "      <td>False</td>\n",
       "    </tr>\n",
       "  </tbody>\n",
       "</table>\n",
       "</div>"
      ],
      "text/plain": [
       "      gender       age signup_method signup_flow language affiliate_channel  \\\n",
       "1       MALE  0.275862      facebook           0       en               seo   \n",
       "2     FEMALE  0.264368         basic           3       en            direct   \n",
       "3     FEMALE  0.321839      facebook           0       en            direct   \n",
       "4  -unknown-  0.367816         basic           0       en            direct   \n",
       "6     FEMALE  0.333333         basic           0       en             other   \n",
       "\n",
       "  affiliate_provider first_affiliate_tracked signup_app first_device_type  \\\n",
       "1             google               untracked        Web       Mac Desktop   \n",
       "2             direct               untracked        Web   Windows Desktop   \n",
       "3             direct               untracked        Web       Mac Desktop   \n",
       "4             direct               untracked        Web       Mac Desktop   \n",
       "6         craigslist               untracked        Web       Mac Desktop   \n",
       "\n",
       "  first_browser country_destination  days_first_booking_ts2  booking  \n",
       "1        Chrome                 NDF            10000.000000     True  \n",
       "2            IE                  US               20.445048    False  \n",
       "3       Firefox               other               32.280025    False  \n",
       "4        Chrome                  US                8.426150    False  \n",
       "6        Safari                  US                1.414214    False  "
      ]
     },
     "execution_count": 167,
     "metadata": {},
     "output_type": "execute_result"
    }
   ],
   "source": [
    "train_user_pd_df4.head()"
   ]
  },
  {
   "cell_type": "code",
   "execution_count": 433,
   "metadata": {},
   "outputs": [],
   "source": [
    "train_user_pd_df4 = train_user_pd_df3_scale"
   ]
  },
  {
   "cell_type": "markdown",
   "metadata": {},
   "source": [
    "Stats info"
   ]
  },
  {
   "cell_type": "markdown",
   "metadata": {},
   "source": [
    "The GLM Tweedie model migh not be the best choice. Further improvements in the results might lie in changing to a different model or non-linear algorithm. An ensembe decision tree is chosen due to ease of use and smaller dataset compared to a neural network."
   ]
  },
  {
   "cell_type": "code",
   "execution_count": 111,
   "metadata": {},
   "outputs": [],
   "source": [
    "##### Change model to GradientBoost (decision tree ensemble)"
   ]
  },
  {
   "cell_type": "markdown",
   "metadata": {},
   "source": [
    "Important for ensembles is tuning the maximum depth parameter."
   ]
  },
  {
   "cell_type": "code",
   "execution_count": 816,
   "metadata": {},
   "outputs": [],
   "source": [
    "maxdepth = [2, 3, 4, 5, 8, 10, 15, 20, 25, 30, 40, 50, 60, 70, 80]\n",
    "    "
   ]
  },
  {
   "cell_type": "code",
   "execution_count": 1318,
   "metadata": {},
   "outputs": [],
   "source": [
    "def gdb_tuning_maxdepth(maxdepth, X_imp_df):\n",
    "    gdb_md_trainscore = []\n",
    "    gdb_md_testscore = []\n",
    "    \n",
    "    X = (X_imp_df.iloc[:, :-1])\n",
    "    y = X_imp_df[\"days_first_booking_ts2\"].to_numpy()\n",
    "\n",
    "    X_train, X_test, y_train, y_test = train_test_split(X, y, \\\n",
    "                                                        test_size = 0.4, \\\n",
    "                                                       random_state = 20200116)\n",
    "\n",
    "    \n",
    "    for md in maxdepth:\n",
    "        gdb_imp_scale = GradientBoostingRegressor(loss = \"lad\", \\\n",
    "                                           n_estimators = 500, \\\n",
    "                                           max_depth = md, \\\n",
    "                                          min_samples_split = 20, \\\n",
    "                                              random_state = 20200116, \\\n",
    "                                              max_features = \"sqrt\"\n",
    "                                              )\n",
    "        gdb_results_md = gdb_imp_scale.fit(X_train, y_train)\n",
    "        gdb_md_trainscore.append(np.mean(gdb_results_md.train_score_))\n",
    "        gdb_md_testscore.append((gdb_results_md.loss_(y_test, \\\n",
    "                                                             gdb_results_md.predict(X_test))))\n",
    "    gdb_md = pd.DataFrame(\n",
    "    {\n",
    "        \"max_depth\": maxdepth,\n",
    "        \"train_score\": gdb_md_trainscore,\n",
    "        \"test_score\": gdb_md_testscore\n",
    "    }\n",
    "\n",
    "    )\n",
    "    return gdb_md\n"
   ]
  },
  {
   "cell_type": "code",
   "execution_count": 1319,
   "metadata": {
    "scrolled": true
   },
   "outputs": [
    {
     "name": "stdout",
     "output_type": "stream",
     "text": [
      "Wall time: 5h 17min 16s\n"
     ]
    }
   ],
   "source": [
    "%%time\n",
    "maxdepth_df = gdb_tuning_maxdepth(maxdepth, X_imp_df_scale)"
   ]
  },
  {
   "cell_type": "code",
   "execution_count": 1320,
   "metadata": {},
   "outputs": [
    {
     "data": {
      "text/html": [
       "<div>\n",
       "<style scoped>\n",
       "    .dataframe tbody tr th:only-of-type {\n",
       "        vertical-align: middle;\n",
       "    }\n",
       "\n",
       "    .dataframe tbody tr th {\n",
       "        vertical-align: top;\n",
       "    }\n",
       "\n",
       "    .dataframe thead th {\n",
       "        text-align: right;\n",
       "    }\n",
       "</style>\n",
       "<table border=\"1\" class=\"dataframe\">\n",
       "  <thead>\n",
       "    <tr style=\"text-align: right;\">\n",
       "      <th></th>\n",
       "      <th>max_depth</th>\n",
       "      <th>train_score</th>\n",
       "      <th>test_score</th>\n",
       "    </tr>\n",
       "  </thead>\n",
       "  <tbody>\n",
       "    <tr>\n",
       "      <th>0</th>\n",
       "      <td>2</td>\n",
       "      <td>0.696041</td>\n",
       "      <td>0.656360</td>\n",
       "    </tr>\n",
       "    <tr>\n",
       "      <th>1</th>\n",
       "      <td>3</td>\n",
       "      <td>0.578124</td>\n",
       "      <td>0.372767</td>\n",
       "    </tr>\n",
       "    <tr>\n",
       "      <th>2</th>\n",
       "      <td>4</td>\n",
       "      <td>0.233623</td>\n",
       "      <td>0.049558</td>\n",
       "    </tr>\n",
       "    <tr>\n",
       "      <th>3</th>\n",
       "      <td>5</td>\n",
       "      <td>0.273256</td>\n",
       "      <td>0.057166</td>\n",
       "    </tr>\n",
       "    <tr>\n",
       "      <th>4</th>\n",
       "      <td>8</td>\n",
       "      <td>0.132040</td>\n",
       "      <td>0.051950</td>\n",
       "    </tr>\n",
       "    <tr>\n",
       "      <th>5</th>\n",
       "      <td>10</td>\n",
       "      <td>0.090993</td>\n",
       "      <td>0.064888</td>\n",
       "    </tr>\n",
       "    <tr>\n",
       "      <th>6</th>\n",
       "      <td>15</td>\n",
       "      <td>0.059424</td>\n",
       "      <td>0.088746</td>\n",
       "    </tr>\n",
       "    <tr>\n",
       "      <th>7</th>\n",
       "      <td>20</td>\n",
       "      <td>0.053356</td>\n",
       "      <td>0.090189</td>\n",
       "    </tr>\n",
       "    <tr>\n",
       "      <th>8</th>\n",
       "      <td>25</td>\n",
       "      <td>0.053266</td>\n",
       "      <td>0.109750</td>\n",
       "    </tr>\n",
       "    <tr>\n",
       "      <th>9</th>\n",
       "      <td>30</td>\n",
       "      <td>0.049351</td>\n",
       "      <td>0.094983</td>\n",
       "    </tr>\n",
       "    <tr>\n",
       "      <th>10</th>\n",
       "      <td>40</td>\n",
       "      <td>0.048991</td>\n",
       "      <td>0.094081</td>\n",
       "    </tr>\n",
       "    <tr>\n",
       "      <th>11</th>\n",
       "      <td>50</td>\n",
       "      <td>0.048862</td>\n",
       "      <td>0.093978</td>\n",
       "    </tr>\n",
       "    <tr>\n",
       "      <th>12</th>\n",
       "      <td>60</td>\n",
       "      <td>0.048871</td>\n",
       "      <td>0.093859</td>\n",
       "    </tr>\n",
       "    <tr>\n",
       "      <th>13</th>\n",
       "      <td>70</td>\n",
       "      <td>0.048871</td>\n",
       "      <td>0.093859</td>\n",
       "    </tr>\n",
       "    <tr>\n",
       "      <th>14</th>\n",
       "      <td>80</td>\n",
       "      <td>0.048871</td>\n",
       "      <td>0.093859</td>\n",
       "    </tr>\n",
       "  </tbody>\n",
       "</table>\n",
       "</div>"
      ],
      "text/plain": [
       "    max_depth  train_score  test_score\n",
       "0           2     0.696041    0.656360\n",
       "1           3     0.578124    0.372767\n",
       "2           4     0.233623    0.049558\n",
       "3           5     0.273256    0.057166\n",
       "4           8     0.132040    0.051950\n",
       "5          10     0.090993    0.064888\n",
       "6          15     0.059424    0.088746\n",
       "7          20     0.053356    0.090189\n",
       "8          25     0.053266    0.109750\n",
       "9          30     0.049351    0.094983\n",
       "10         40     0.048991    0.094081\n",
       "11         50     0.048862    0.093978\n",
       "12         60     0.048871    0.093859\n",
       "13         70     0.048871    0.093859\n",
       "14         80     0.048871    0.093859"
      ]
     },
     "execution_count": 1320,
     "metadata": {},
     "output_type": "execute_result"
    }
   ],
   "source": [
    "maxdepth_df"
   ]
  },
  {
   "cell_type": "code",
   "execution_count": 1325,
   "metadata": {
    "scrolled": true
   },
   "outputs": [
    {
     "data": {
      "image/png": "[encoded data removed]",
      "text/plain": [
       "<Figure size 576x360 with 1 Axes>"
      ]
     },
     "metadata": {},
     "output_type": "display_data"
    }
   ],
   "source": [
    "font = {\"size\": \"10\"}\n",
    "plt.figure(figsize = (8,5))\n",
    "plt.rc(\"font\", **font)\n",
    "sb.lineplot(x = \"max_depth\", y = \"value\", hue = \"variable\", \\\n",
    "           data = pd.melt(maxdepth_df, [\"max_depth\"]), marker = \"o\", markersize = 10)\n",
    "\n",
    "plt.title(\"A maximum depth between 25 to 30 is optimal\")\n",
    "plt.yticks(ticks = np.arange(0, 1, step = 0.05))\n",
    "  \n",
    "plt.show()"
   ]
  },
  {
   "cell_type": "markdown",
   "metadata": {},
   "source": [
    "The optimal maximum depth paramter is for the training set, but is not stable for test set.\n",
    "It seemsto stabilise at 30 for both the train and test set"
   ]
  },
  {
   "cell_type": "code",
   "execution_count": 818,
   "metadata": {},
   "outputs": [],
   "source": [
    "def gdb_model(X_imp_df, md):\n",
    "   \n",
    "    maxdepth = md\n",
    "    X = (X_imp_df.iloc[:, :-1])\n",
    "    y = X_imp_df[\"days_first_booking_ts2\"].to_numpy()\n",
    "\n",
    "    X_train, X_test, y_train, y_test = train_test_split(X, y, \\\n",
    "                                                        test_size = 0.4, \\\n",
    "                                                       random_state = 20200116)\n",
    "    gdb = GradientBoostingRegressor(loss = \"lad\", \\\n",
    "                                           n_estimators = 500, \\\n",
    "                                           max_depth = maxdepth, \\\n",
    "                                          min_samples_split = 20, \\\n",
    "                                              random_state = 20200116, \\\n",
    "                                              max_features = \"sqrt\"\n",
    "                                              )\n",
    "    gdb_results_md = gdb.fit(X_train, y_train)\n",
    "    train_score = np.mean(gdb_results_md.train_score_)\n",
    "    max_error_score = np.max(gdb_results_md.loss_(y_test, gdb_results_md.predict(X_test)))\n",
    "    test_score = gdb_results_md.loss_(y_test, gdb_results_md.predict(X_test))\n",
    "     \n",
    "    MAD_trainscore = np.round(train_score, 2)\n",
    "    MAD_testscore = np.round(test_score, 2)\n",
    "    Max_error = np.round(max_error_score, 2)\n",
    "    Actual_MAD_trainscore = np.round(train_score**2, 2)\n",
    "    Actual_MAD_testscore = np.round(test_score**2, 2)\n",
    "    Median = np.round(np.median(gdb_results_md.predict(X_test))**2, 2)\n",
    "    \n",
    "    \n",
    "    gdb_md = pd.DataFrame({\n",
    "    \"metrics\": [MAD_trainscore, MAD_testscore, Max_error, \\\n",
    "                Actual_MAD_trainscore, Actual_MAD_testscore, \\\n",
    "               Median]\n",
    "    \n",
    "    })\n",
    "    gdb_md.index = [\"MAD_trainscore\", \"MAD_testscore\", \"Max_error\", \\\n",
    "                \"Actual_MAD_trainscore\", \"Actual_MAD_testscore\", \\\n",
    "                    \"Median\"]\n",
    "    \n",
    "    return gdb_md\n"
   ]
  },
  {
   "cell_type": "code",
   "execution_count": 819,
   "metadata": {
    "scrolled": true
   },
   "outputs": [
    {
     "name": "stdout",
     "output_type": "stream",
     "text": [
      "Wall time: 3min 16s\n"
     ]
    },
    {
     "data": {
      "text/html": [
       "<div>\n",
       "<style scoped>\n",
       "    .dataframe tbody tr th:only-of-type {\n",
       "        vertical-align: middle;\n",
       "    }\n",
       "\n",
       "    .dataframe tbody tr th {\n",
       "        vertical-align: top;\n",
       "    }\n",
       "\n",
       "    .dataframe thead th {\n",
       "        text-align: right;\n",
       "    }\n",
       "</style>\n",
       "<table border=\"1\" class=\"dataframe\">\n",
       "  <thead>\n",
       "    <tr style=\"text-align: right;\">\n",
       "      <th></th>\n",
       "      <th>metrics</th>\n",
       "    </tr>\n",
       "  </thead>\n",
       "  <tbody>\n",
       "    <tr>\n",
       "      <th>MAD_trainscore</th>\n",
       "      <td>0.05</td>\n",
       "    </tr>\n",
       "    <tr>\n",
       "      <th>MAD_testscore</th>\n",
       "      <td>0.09</td>\n",
       "    </tr>\n",
       "    <tr>\n",
       "      <th>Max_error</th>\n",
       "      <td>0.09</td>\n",
       "    </tr>\n",
       "    <tr>\n",
       "      <th>Actual_MAD_trainscore</th>\n",
       "      <td>0.00</td>\n",
       "    </tr>\n",
       "    <tr>\n",
       "      <th>Actual_MAD_testscore</th>\n",
       "      <td>0.01</td>\n",
       "    </tr>\n",
       "    <tr>\n",
       "      <th>Median</th>\n",
       "      <td>27.62</td>\n",
       "    </tr>\n",
       "  </tbody>\n",
       "</table>\n",
       "</div>"
      ],
      "text/plain": [
       "                       metrics\n",
       "MAD_trainscore            0.05\n",
       "MAD_testscore             0.09\n",
       "Max_error                 0.09\n",
       "Actual_MAD_trainscore     0.00\n",
       "Actual_MAD_testscore      0.01\n",
       "Median                   27.62"
      ]
     },
     "execution_count": 819,
     "metadata": {},
     "output_type": "execute_result"
    }
   ],
   "source": [
    "%%time\n",
    "gdb_model(X_imp_df_scale, 30)"
   ]
  },
  {
   "cell_type": "markdown",
   "metadata": {},
   "source": [
    "The average days until first booking remains 27.62 days. The MAD (error) however decreases to 0.01 (from 0.76)"
   ]
  },
  {
   "cell_type": "markdown",
   "metadata": {},
   "source": [
    "##### Increase the sample size to 50,000"
   ]
  },
  {
   "cell_type": "code",
   "execution_count": 389,
   "metadata": {},
   "outputs": [
    {
     "name": "stdout",
     "output_type": "stream",
     "text": [
      "Wall time: 1h 2min 27s\n"
     ]
    }
   ],
   "source": [
    "%%time\n",
    "X_imp_df_50k = imputation_values(train_user_pd_df3, 50000, 1, \\\n",
    "                             cat_columns, num_columns, weights = \"uniform\")"
   ]
  },
  {
   "cell_type": "code",
   "execution_count": 391,
   "metadata": {},
   "outputs": [
    {
     "name": "stdout",
     "output_type": "stream",
     "text": [
      "Wall time: 3min 47s\n"
     ]
    },
    {
     "data": {
      "text/html": [
       "<div>\n",
       "<style scoped>\n",
       "    .dataframe tbody tr th:only-of-type {\n",
       "        vertical-align: middle;\n",
       "    }\n",
       "\n",
       "    .dataframe tbody tr th {\n",
       "        vertical-align: top;\n",
       "    }\n",
       "\n",
       "    .dataframe thead th {\n",
       "        text-align: right;\n",
       "    }\n",
       "</style>\n",
       "<table border=\"1\" class=\"dataframe\">\n",
       "  <thead>\n",
       "    <tr style=\"text-align: right;\">\n",
       "      <th></th>\n",
       "      <th>metrics</th>\n",
       "    </tr>\n",
       "  </thead>\n",
       "  <tbody>\n",
       "    <tr>\n",
       "      <th>MAD_trainscore</th>\n",
       "      <td>1.05</td>\n",
       "    </tr>\n",
       "    <tr>\n",
       "      <th>MAD_testscore</th>\n",
       "      <td>1.58</td>\n",
       "    </tr>\n",
       "    <tr>\n",
       "      <th>Max_error</th>\n",
       "      <td>1.58</td>\n",
       "    </tr>\n",
       "    <tr>\n",
       "      <th>Actual_MAD_trainscore</th>\n",
       "      <td>1.11</td>\n",
       "    </tr>\n",
       "    <tr>\n",
       "      <th>Actual_MAD_testscore</th>\n",
       "      <td>2.50</td>\n",
       "    </tr>\n",
       "    <tr>\n",
       "      <th>Median</th>\n",
       "      <td>27.37</td>\n",
       "    </tr>\n",
       "  </tbody>\n",
       "</table>\n",
       "</div>"
      ],
      "text/plain": [
       "                       metrics\n",
       "MAD_trainscore            1.05\n",
       "MAD_testscore             1.58\n",
       "Max_error                 1.58\n",
       "Actual_MAD_trainscore     1.11\n",
       "Actual_MAD_testscore      2.50\n",
       "Median                   27.37"
      ]
     },
     "execution_count": 391,
     "metadata": {},
     "output_type": "execute_result"
    }
   ],
   "source": [
    "%%time\n",
    "gdb_model(X_imp_df_50k[0], 30)"
   ]
  },
  {
   "cell_type": "markdown",
   "metadata": {},
   "source": [
    "Further tuning of the findings improves the error (MAD)  to 2.15 days. However there is a tradeoff between this slight improvement of 9.5% and the time take to run the code (increaes from 3 minutes to 1.5 hours).\n",
    "\n",
    "Other resources for large datasets are spark etc."
   ]
  },
  {
   "cell_type": "code",
   "execution_count": null,
   "metadata": {},
   "outputs": [],
   "source": [
    "30k, 40 -  0.9816539393120315, 1.1165663963139782\n",
    "50k, sqrt0 - "
   ]
  },
  {
   "cell_type": "code",
   "execution_count": null,
   "metadata": {},
   "outputs": [],
   "source": []
  },
  {
   "cell_type": "code",
   "execution_count": null,
   "metadata": {},
   "outputs": [],
   "source": [
    "##### Add the average time a user spends in a session"
   ]
  },
  {
   "cell_type": "code",
   "execution_count": 820,
   "metadata": {},
   "outputs": [
    {
     "name": "stdout",
     "output_type": "stream",
     "text": [
      "Wall time: 16 s\n"
     ]
    }
   ],
   "source": [
    "%%time\n",
    "session_time_df = sqlContext.sql(\"SELECT user_id as id, \\\n",
    "                        COUNT(action) as num_sessions, \\\n",
    "                        ROUND(SUM(secs_elapsed)/60, 2) as total_mins, \\\n",
    "                        ROUND((SUM(secs_elapsed)/60)/COUNT(action), 2) as avg_mins_session, \\\n",
    "                        ROUND(PERCENTILE_APPROX(secs_elapsed, 0.5), 2) AS avg_secs, \\\n",
    "                        ROUND(PERCENTILE_APPROX(secs_elapsed, 0.5)/60, 2) AS avg_mins \\\n",
    "                        FROM session_df \\\n",
    "                        GROUP BY user_id \\\n",
    "          \")\n",
    "session_time_pd_df = session_time_df.toPandas()"
   ]
  },
  {
   "cell_type": "code",
   "execution_count": 821,
   "metadata": {},
   "outputs": [],
   "source": [
    "IQR = (1.5 * session_time_pd_df['avg_mins_session'].quantile(0.75)) - (1.5 * session_time_pd_df[\"avg_mins\"].quantile(0.25)) \n",
    "outlier_cutoff_session_time = session_time_pd_df['avg_mins_session'].quantile(0.75) + IQR"
   ]
  },
  {
   "cell_type": "code",
   "execution_count": 822,
   "metadata": {},
   "outputs": [],
   "source": [
    "max_time = session_time_pd_df['avg_mins_session'].quantile(0.90)\n",
    "min_time = session_time_pd_df['avg_mins_session'].quantile(0.02)"
   ]
  },
  {
   "cell_type": "code",
   "execution_count": 823,
   "metadata": {},
   "outputs": [],
   "source": [
    "session_time_pd_df_red = session_time_pd_df[(session_time_pd_df['avg_mins_session'] >= min_time) & \\\n",
    "                                                            (session_time_pd_df['avg_mins_session'] <= max_time)]"
   ]
  },
  {
   "cell_type": "code",
   "execution_count": 824,
   "metadata": {},
   "outputs": [],
   "source": [
    "#session_time_pd_df_red = session_time_pd_df[session_time_pd_df['avg_mins_session'] <= outlier_cutoff_session_time]\n",
    "\n",
    "train_user_pd_df5 = train_user_pd_df2.drop(columns = ['date_account_created', 'timestamp_first_active',\n",
    "       'date_first_booking', 'days_first_booking', 'days_first_booking_ts'], axis = 1)\n",
    "\n",
    "train_user_pd_df_session = train_user_pd_df5.merge(session_time_pd_df_red[[\"id\", 'avg_mins_session']], on = \"id\", how = \"inner\").reset_index()\n",
    "\n",
    "train_user_pd_df_session[\"id\"] = train_user_pd_df_session[\"id\"].astype(str)\n",
    "session_time_pd_df_red[\"id\"] = session_time_pd_df_red[\"id\"].astype(str)\n",
    "\n",
    "train_user_pd_df_session = train_user_pd_df_session.iloc[:, 2:]"
   ]
  },
  {
   "cell_type": "code",
   "execution_count": 825,
   "metadata": {},
   "outputs": [
    {
     "data": {
      "text/html": [
       "<div>\n",
       "<style scoped>\n",
       "    .dataframe tbody tr th:only-of-type {\n",
       "        vertical-align: middle;\n",
       "    }\n",
       "\n",
       "    .dataframe tbody tr th {\n",
       "        vertical-align: top;\n",
       "    }\n",
       "\n",
       "    .dataframe thead th {\n",
       "        text-align: right;\n",
       "    }\n",
       "</style>\n",
       "<table border=\"1\" class=\"dataframe\">\n",
       "  <thead>\n",
       "    <tr style=\"text-align: right;\">\n",
       "      <th></th>\n",
       "      <th>gender</th>\n",
       "      <th>age</th>\n",
       "      <th>signup_method</th>\n",
       "      <th>signup_flow</th>\n",
       "      <th>language</th>\n",
       "      <th>affiliate_channel</th>\n",
       "      <th>affiliate_provider</th>\n",
       "      <th>first_affiliate_tracked</th>\n",
       "      <th>signup_app</th>\n",
       "      <th>first_device_type</th>\n",
       "      <th>first_browser</th>\n",
       "      <th>country_destination</th>\n",
       "      <th>days_first_booking_ts2</th>\n",
       "      <th>avg_mins_session</th>\n",
       "    </tr>\n",
       "  </thead>\n",
       "  <tbody>\n",
       "    <tr>\n",
       "      <th>0</th>\n",
       "      <td>MALE</td>\n",
       "      <td>62</td>\n",
       "      <td>basic</td>\n",
       "      <td>0</td>\n",
       "      <td>en</td>\n",
       "      <td>sem-non-brand</td>\n",
       "      <td>google</td>\n",
       "      <td>omg</td>\n",
       "      <td>Web</td>\n",
       "      <td>Windows Desktop</td>\n",
       "      <td>Chrome</td>\n",
       "      <td>other</td>\n",
       "      <td>1.414214</td>\n",
       "      <td>453.38</td>\n",
       "    </tr>\n",
       "    <tr>\n",
       "      <th>1</th>\n",
       "      <td>FEMALE</td>\n",
       "      <td>32</td>\n",
       "      <td>facebook</td>\n",
       "      <td>0</td>\n",
       "      <td>en</td>\n",
       "      <td>seo</td>\n",
       "      <td>google</td>\n",
       "      <td>linked</td>\n",
       "      <td>Web</td>\n",
       "      <td>iPad</td>\n",
       "      <td>Mobile Safari</td>\n",
       "      <td>US</td>\n",
       "      <td>2.236068</td>\n",
       "      <td>165.58</td>\n",
       "    </tr>\n",
       "    <tr>\n",
       "      <th>2</th>\n",
       "      <td>-unknown-</td>\n",
       "      <td>19</td>\n",
       "      <td>basic</td>\n",
       "      <td>0</td>\n",
       "      <td>en</td>\n",
       "      <td>sem-brand</td>\n",
       "      <td>google</td>\n",
       "      <td>untracked</td>\n",
       "      <td>Web</td>\n",
       "      <td>Mac Desktop</td>\n",
       "      <td>Safari</td>\n",
       "      <td>other</td>\n",
       "      <td>18.330303</td>\n",
       "      <td>535.17</td>\n",
       "    </tr>\n",
       "    <tr>\n",
       "      <th>3</th>\n",
       "      <td>MALE</td>\n",
       "      <td>25</td>\n",
       "      <td>basic</td>\n",
       "      <td>0</td>\n",
       "      <td>en</td>\n",
       "      <td>direct</td>\n",
       "      <td>direct</td>\n",
       "      <td>untracked</td>\n",
       "      <td>Web</td>\n",
       "      <td>Mac Desktop</td>\n",
       "      <td>Chrome</td>\n",
       "      <td>NDF</td>\n",
       "      <td>NaN</td>\n",
       "      <td>135.42</td>\n",
       "    </tr>\n",
       "    <tr>\n",
       "      <th>4</th>\n",
       "      <td>FEMALE</td>\n",
       "      <td>32</td>\n",
       "      <td>facebook</td>\n",
       "      <td>0</td>\n",
       "      <td>en</td>\n",
       "      <td>direct</td>\n",
       "      <td>direct</td>\n",
       "      <td>untracked</td>\n",
       "      <td>Web</td>\n",
       "      <td>iPad</td>\n",
       "      <td>Mobile Safari</td>\n",
       "      <td>US</td>\n",
       "      <td>0.000000</td>\n",
       "      <td>874.30</td>\n",
       "    </tr>\n",
       "  </tbody>\n",
       "</table>\n",
       "</div>"
      ],
      "text/plain": [
       "      gender  age signup_method signup_flow language affiliate_channel  \\\n",
       "0       MALE   62         basic           0       en     sem-non-brand   \n",
       "1     FEMALE   32      facebook           0       en               seo   \n",
       "2  -unknown-   19         basic           0       en         sem-brand   \n",
       "3       MALE   25         basic           0       en            direct   \n",
       "4     FEMALE   32      facebook           0       en            direct   \n",
       "\n",
       "  affiliate_provider first_affiliate_tracked signup_app first_device_type  \\\n",
       "0             google                     omg        Web   Windows Desktop   \n",
       "1             google                  linked        Web              iPad   \n",
       "2             google               untracked        Web       Mac Desktop   \n",
       "3             direct               untracked        Web       Mac Desktop   \n",
       "4             direct               untracked        Web              iPad   \n",
       "\n",
       "   first_browser country_destination  days_first_booking_ts2  avg_mins_session  \n",
       "0         Chrome               other                1.414214            453.38  \n",
       "1  Mobile Safari                  US                2.236068            165.58  \n",
       "2         Safari               other               18.330303            535.17  \n",
       "3         Chrome                 NDF                     NaN            135.42  \n",
       "4  Mobile Safari                  US                0.000000            874.30  "
      ]
     },
     "execution_count": 825,
     "metadata": {},
     "output_type": "execute_result"
    }
   ],
   "source": [
    "train_user_pd_df_session.head()"
   ]
  },
  {
   "cell_type": "code",
   "execution_count": 826,
   "metadata": {},
   "outputs": [],
   "source": [
    "session_data = session_time_pd_df_red[[\"avg_mins_session\"]].astype(int)\n",
    "sessions = session_data.groupby(\"avg_mins_session\").size().reset_index(name = \"count\")\n",
    "sessions[\"avg_mins_session\"] = sessions[\"avg_mins_session\"].astype(int)\n",
    "sessions = sessions[sessions[\"avg_mins_session\"] >= 0]"
   ]
  },
  {
   "cell_type": "code",
   "execution_count": 827,
   "metadata": {},
   "outputs": [
    {
     "data": {
      "text/plain": [
       "count    1172.000000\n",
       "mean      589.994027\n",
       "std       342.171165\n",
       "min         2.000000\n",
       "25%       294.750000\n",
       "50%       587.500000\n",
       "75%       881.250000\n",
       "max      1200.000000\n",
       "Name: avg_mins_session, dtype: float64"
      ]
     },
     "execution_count": 827,
     "metadata": {},
     "output_type": "execute_result"
    }
   ],
   "source": [
    "sessions[\"avg_mins_session\"].describe()"
   ]
  },
  {
   "cell_type": "code",
   "execution_count": 828,
   "metadata": {
    "scrolled": true
   },
   "outputs": [
    {
     "data": {
      "image/png": "[encoded data removed]",
      "text/plain": [
       "<Figure size 864x720 with 1 Axes>"
      ]
     },
     "metadata": {
      "needs_background": "light"
     },
     "output_type": "display_data"
    }
   ],
   "source": [
    "font = {\"size\": \"8\"}\n",
    "plt.figure(figsize = (12,10))\n",
    "plt.rc(\"font\", **font)\n",
    "sb.scatterplot(x = np.round(sessions[\"avg_mins_session\"]), \\\n",
    "               y = sessions[\"count\"], #data = sessions, \\\n",
    "           color = \"mediumblue\", s = 100)\n",
    "\n",
    "plt.title(\"Exponential-type long tail distribution for days bbefore first booking\")\n",
    "#plt.xticks(ticks = np.arange(0, 500, step = 3\n",
    " #                            00), rotation = 90)\n",
    "plt.show()"
   ]
  },
  {
   "cell_type": "code",
   "execution_count": null,
   "metadata": {},
   "outputs": [],
   "source": []
  },
  {
   "cell_type": "code",
   "execution_count": 829,
   "metadata": {},
   "outputs": [],
   "source": [
    "### Impact of no of days first booking on AirBnB "
   ]
  },
  {
   "cell_type": "code",
   "execution_count": 830,
   "metadata": {},
   "outputs": [],
   "source": [
    " cat_columns =[\"gender\", \"signup_method\", \\\n",
    "              \"signup_flow\", \n",
    "              \"language\", \\\n",
    "              \"affiliate_channel\", \n",
    "              \"affiliate_provider\", \\\n",
    "              \"first_affiliate_tracked\", \\\n",
    "              \"signup_app\", \"first_device_type\", \"first_browser\", \\\n",
    "              \"country_destination\"]\n",
    "\n",
    "num_columns = [\"age\", \"avg_mins_session\", \"days_first_booking_ts2\"]"
   ]
  },
  {
   "cell_type": "markdown",
   "metadata": {},
   "source": [
    "def encode_values(train_user_pd_df3, cat_columns, num_columns):\n",
    "    \n",
    "\n",
    "    X_imp = train_user_pd_df3\n",
    "\n",
    "    ### Encode strings as integers\n",
    "\n",
    "    X_imp = X_imp.astype(str)\n",
    "\n",
    "   \n",
    "    from sklearn import preprocessing\n",
    "\n",
    "    labels_lst = []\n",
    "    le = LabelEncoder()\n",
    "    for col in X_imp.columns:\n",
    "        le_array = le.fit_transform(X_imp[col])\n",
    "        labels_lst.append(le_array)\n",
    "        labels_np = np.transpose(np.array(labels_lst))\n",
    "        \n",
    "    labels_df = pd.DataFrame(labels_np, columns = X_imp.columns).reset_index()\n",
    "    labels_df = labels_df.drop(num_columns, axis = 1).reset_index()\n",
    "    #print(le.inverse_transform((list(np.round(labels_df[\"country_destination\"].astype(int))))))\n",
    "    \n",
    "    ##### Merge all categorical and numerical dataframes\n",
    "    \n",
    "    num_df = X_imp[num_columns]\n",
    "    \n",
    "    X_imp_df = labels_df.drop(columns = [\"level_0\"], axis = 1)\n",
    "    \n",
    "    X_imp_df[num_columns] =  num_df \n",
    "    \n",
    "    ##### Convert all columns to numerical\n",
    "    \n",
    "    X_imp_df = X_imp_df.astype(float)\n",
    "   \n",
    "    X_imp_df = X_imp_df.drop(columns = [\"index\"], axis = 1)\n",
    "    \n",
    "    \n",
    "    ###################################################################################\n",
    "    \n",
    "    \n",
    "    ##### Use imputation to replace missing values (10,000)\n",
    "    return X_imp_df"
   ]
  },
  {
   "cell_type": "code",
   "execution_count": 831,
   "metadata": {
    "scrolled": false
   },
   "outputs": [
    {
     "name": "stdout",
     "output_type": "stream",
     "text": [
      "Wall time: 3.75 s\n"
     ]
    }
   ],
   "source": [
    "%%time\n",
    "X_imp_df_session, label_enc_session = imputation_values(train_user_pd_df_session, \\\n",
    "                                                        train_user_pd_df_session.count()[0], 1, \\\n",
    "                             cat_columns, num_columns, \"uniform\")"
   ]
  },
  {
   "cell_type": "code",
   "execution_count": 832,
   "metadata": {
    "scrolled": true
   },
   "outputs": [
    {
     "data": {
      "text/html": [
       "<div>\n",
       "<style scoped>\n",
       "    .dataframe tbody tr th:only-of-type {\n",
       "        vertical-align: middle;\n",
       "    }\n",
       "\n",
       "    .dataframe tbody tr th {\n",
       "        vertical-align: top;\n",
       "    }\n",
       "\n",
       "    .dataframe thead th {\n",
       "        text-align: right;\n",
       "    }\n",
       "</style>\n",
       "<table border=\"1\" class=\"dataframe\">\n",
       "  <thead>\n",
       "    <tr style=\"text-align: right;\">\n",
       "      <th></th>\n",
       "      <th>metrics</th>\n",
       "    </tr>\n",
       "  </thead>\n",
       "  <tbody>\n",
       "    <tr>\n",
       "      <th>MAD_trainscore</th>\n",
       "      <td>0.07</td>\n",
       "    </tr>\n",
       "    <tr>\n",
       "      <th>MAD_testscore</th>\n",
       "      <td>0.20</td>\n",
       "    </tr>\n",
       "    <tr>\n",
       "      <th>Max_error</th>\n",
       "      <td>0.20</td>\n",
       "    </tr>\n",
       "    <tr>\n",
       "      <th>Actual_MAD_trainscore</th>\n",
       "      <td>0.01</td>\n",
       "    </tr>\n",
       "    <tr>\n",
       "      <th>Actual_MAD_testscore</th>\n",
       "      <td>0.04</td>\n",
       "    </tr>\n",
       "    <tr>\n",
       "      <th>Median</th>\n",
       "      <td>32.11</td>\n",
       "    </tr>\n",
       "  </tbody>\n",
       "</table>\n",
       "</div>"
      ],
      "text/plain": [
       "                       metrics\n",
       "MAD_trainscore            0.07\n",
       "MAD_testscore             0.20\n",
       "Max_error                 0.20\n",
       "Actual_MAD_trainscore     0.01\n",
       "Actual_MAD_testscore      0.04\n",
       "Median                   32.11"
      ]
     },
     "execution_count": 832,
     "metadata": {},
     "output_type": "execute_result"
    }
   ],
   "source": [
    "gdb_model(X_imp_df_session, 30)"
   ]
  },
  {
   "cell_type": "code",
   "execution_count": 893,
   "metadata": {},
   "outputs": [
    {
     "name": "stdout",
     "output_type": "stream",
     "text": [
      "Average time a user spends in a session (hours)= 4.5\n"
     ]
    }
   ],
   "source": [
    "print(\"Average time a user spends in a session (hours)= {}\" .format(np.round(np.median(X_imp_df_session[\"avg_mins_session\"])/60, 1)))"
   ]
  },
  {
   "cell_type": "code",
   "execution_count": null,
   "metadata": {},
   "outputs": [],
   "source": [
    "The average days until first booking increases to 32.11 days. The MAD (error) increases slightly to 0.04 (from 0.01).\n",
    "Length of time a user spends in a session is an important feature in converting users to paying  customers"
   ]
  },
  {
   "cell_type": "code",
   "execution_count": null,
   "metadata": {},
   "outputs": [],
   "source": [
    "##### Revenue dsta"
   ]
  },
  {
   "cell_type": "markdown",
   "metadata": {},
   "source": [
    "1. Average no of nights = 5 \n",
    "2. Average revenue per guests (US) = $185\n",
    "3. Average revenue per guests (global) = $298.63\n",
    "4. Average revenue per night (US) = $9.86M\n",
    "5. Average no. of guests per night = 2 to 4\n",
    "6. No. of guests per night = 2M"
   ]
  },
  {
   "cell_type": "markdown",
   "metadata": {},
   "source": [
    " A few key assumptions can be made. \n",
    "    1. Travellers book around 1 month ahead of arrival.\n",
    "    2. Average no. of nights is for business trips, but used for all customer segments.\n",
    "    3. Calculate US and \"global\" revenue\n",
    "    4. Assume a random start date of April 1st. What counts is the days until first booking rather than the the actual start date."
   ]
  },
  {
   "cell_type": "code",
   "execution_count": null,
   "metadata": {},
   "outputs": [],
   "source": [
    "### Estimate revenue on users from the train set"
   ]
  },
  {
   "cell_type": "code",
   "execution_count": 833,
   "metadata": {},
   "outputs": [],
   "source": [
    "def predict_days_gdb(X_imp_df, md):\n",
    "   \n",
    "    maxdepth = md\n",
    "    X = X_imp_df.drop(\"days_first_booking_ts2\", axis = \"columns\")\n",
    "    y = X_imp_df[\"days_first_booking_ts2\"].to_numpy()\n",
    "\n",
    "    X_train, X_test, y_train, y_test = train_test_split(X, y, \\\n",
    "                                                        test_size = 0.4, \\\n",
    "                                                       random_state = 20200116)\n",
    "    gdb = GradientBoostingRegressor(loss = \"lad\", \\\n",
    "                                           n_estimators = 500, \\\n",
    "                                           max_depth = maxdepth, \\\n",
    "                                          min_samples_split = 20, \\\n",
    "                                              random_state = 20200116, \\\n",
    "                                              max_features = \"sqrt\"\n",
    "                                              )\n",
    "    gdb_results_md = gdb.fit(X_train, y_train)\n",
    "    predict_days = np.round(gdb_results_md.predict(X_test), 2)\n",
    "    #print(X_test.columns) \n",
    "    predict_days_df = pd.DataFrame({\n",
    "        \"index\": X_test[\"index\"],\n",
    "        \"id\": np.arange(X_test.shape[0]) + 1,\n",
    "        \"tf_days_first_booking\": predict_days,\n",
    "        \"days_first_booking\": predict_days**2,\n",
    "        \"booking\": X_test[\"booking\"],\n",
    "        \"country_destination\": X_test[\"country_destination\"]#,\n",
    "       # \"country_destination_cat\": X_test[\"country_destination_cat\"]\n",
    "    })\n",
    "    \n",
    "    return predict_days_df\n",
    "     "
   ]
  },
  {
   "cell_type": "code",
   "execution_count": 834,
   "metadata": {
    "scrolled": true
   },
   "outputs": [],
   "source": [
    "predict_days_df = predict_days_gdb(X_imp_df_scale, 30)"
   ]
  },
  {
   "cell_type": "code",
   "execution_count": 835,
   "metadata": {
    "scrolled": true
   },
   "outputs": [
    {
     "name": "stdout",
     "output_type": "stream",
     "text": [
      "28.0 days on average before customer makes their first booking\n"
     ]
    }
   ],
   "source": [
    "predict_days_df = predict_days_df[predict_days_df[\"days_first_booking\"] >= 0]\n",
    "\n",
    "print(\"{} days on average before customer makes their first booking\" \\\n",
    "      .format(np.round(np.median(predict_days_df[\"days_first_booking\"])), 2))"
   ]
  },
  {
   "cell_type": "code",
   "execution_count": 836,
   "metadata": {
    "scrolled": false
   },
   "outputs": [
    {
     "data": {
      "text/plain": [
       "count    12000.000000\n",
       "mean        27.073431\n",
       "std         13.733947\n",
       "min          0.012100\n",
       "25%         21.529600\n",
       "50%         27.562500\n",
       "75%         28.090000\n",
       "max        285.610000\n",
       "Name: days_first_booking, dtype: float64"
      ]
     },
     "execution_count": 836,
     "metadata": {},
     "output_type": "execute_result"
    }
   ],
   "source": [
    "predict_days_df[\"days_first_booking\"].describe()"
   ]
  },
  {
   "cell_type": "code",
   "execution_count": null,
   "metadata": {},
   "outputs": [],
   "source": [
    "In addition, the predicted days_first_booking contains a few outliers - where (predicted) days until first booking > 6 months.\n",
    "The mean = median and 75% quantile approx equal median"
   ]
  },
  {
   "cell_type": "code",
   "execution_count": null,
   "metadata": {},
   "outputs": [],
   "source": [
    "#### Revenue generated by new customers"
   ]
  },
  {
   "cell_type": "code",
   "execution_count": null,
   "metadata": {},
   "outputs": [],
   "source": [
    "##### Create list of dates for timeframe - use random start date"
   ]
  },
  {
   "cell_type": "code",
   "execution_count": 837,
   "metadata": {},
   "outputs": [],
   "source": [
    "def predict_dates(predict_days_df):\n",
    "    start_date = pd.to_datetime(\"2020-04-01\")#.strftime(\"%Y-%m-%d\")\n",
    "    predict_days_df[\"start_of_stay\"] = start_date + \\\n",
    "    pd.to_timedelta(predict_days_df[\"days_first_booking\"].astype(int), \\\n",
    "                    unit = \"d\") + pd.offsets.DateOffset(months = 1)\n",
    "    predict_days_df[\"end_of_stay\"] = predict_days_df[\"start_of_stay\"] + \\\n",
    "    pd.to_timedelta(5, unit = \"d\")\n",
    "    end_date = pd.to_datetime(\"2020-04-01\") + pd.offsets.MonthEnd(6)\n",
    "    for date in predict_days_df[\"end_of_stay\"]:\n",
    "        if (date <= end_date):\n",
    "            predict_days_df[\"new_customer_bool\"] = True\n",
    "        else:\n",
    "            predict_days_df[\"new_customer_bool\"] = False\n",
    "    \n",
    "    return predict_days_df"
   ]
  },
  {
   "cell_type": "code",
   "execution_count": 838,
   "metadata": {
    "scrolled": true
   },
   "outputs": [],
   "source": [
    "predict_days_df2 = predict_dates(predict_days_df)"
   ]
  },
  {
   "cell_type": "code",
   "execution_count": 839,
   "metadata": {},
   "outputs": [
    {
     "data": {
      "text/plain": [
       "Index(['index', 'id', 'tf_days_first_booking', 'days_first_booking', 'booking',\n",
       "       'country_destination', 'start_of_stay', 'end_of_stay',\n",
       "       'new_customer_bool'],\n",
       "      dtype='object')"
      ]
     },
     "execution_count": 839,
     "metadata": {},
     "output_type": "execute_result"
    }
   ],
   "source": [
    "predict_days_df2.columns"
   ]
  },
  {
   "cell_type": "code",
   "execution_count": 840,
   "metadata": {},
   "outputs": [],
   "source": [
    "#### Transform country destinatio from numbers to country code"
   ]
  },
  {
   "cell_type": "code",
   "execution_count": 841,
   "metadata": {
    "scrolled": true
   },
   "outputs": [],
   "source": [
    "train_index_df = train_user_pd_df3_scale.index.to_frame()\n",
    "train_index_df = train_index_df.rename(columns = {0: \"index\"})\n",
    "train_index_df[\"country_destination_cat\"] = train_user_pd_df3_scale[\"country_destination\"]"
   ]
  },
  {
   "cell_type": "code",
   "execution_count": 842,
   "metadata": {
    "scrolled": true
   },
   "outputs": [],
   "source": [
    "predict_days_df2 = train_index_df.merge(predict_days_df2, on = \"index\", how = \"inner\").reset_index()"
   ]
  },
  {
   "cell_type": "code",
   "execution_count": 900,
   "metadata": {},
   "outputs": [],
   "source": [
    "Average_revenue_per_guests_US = 185\n",
    "Average_revenue_per_guests_global = 298.63\n",
    "#Average_revenue_per_night = 80.67\n",
    "#Average_no_of_guests_per_night_global = 2 * 1e6\n",
    "\n"
   ]
  },
  {
   "cell_type": "code",
   "execution_count": 933,
   "metadata": {
    "scrolled": true
   },
   "outputs": [
    {
     "data": {
      "text/plain": [
       "2182"
      ]
     },
     "execution_count": 933,
     "metadata": {},
     "output_type": "execute_result"
    }
   ],
   "source": [
    "np.sum(predict_days_df2[predict_days_df2[\"country_destination_cat\"] == \"US\"][\"new_customer_bool\"])"
   ]
  },
  {
   "cell_type": "code",
   "execution_count": 956,
   "metadata": {},
   "outputs": [],
   "source": [
    "US_customers = predict_days_df2[predict_days_df2[\"country_destination_cat\"] == \"US\"]\n",
    "US_revenue = np.sum(US_customers[\"booking\"].astype(int) * US_customers[\"new_customer_bool\"].astype(int) * Average_revenue_per_guests_US)\n",
    "Global_revenue = np.round(np.sum(predict_days_df2[\"booking\"].astype(int) * predict_days_df2[\"new_customer_bool\"].astype(int) * Average_revenue_per_guests_global)).astype(int)"
   ]
  },
  {
   "cell_type": "code",
   "execution_count": 957,
   "metadata": {
    "scrolled": false
   },
   "outputs": [
    {
     "name": "stdout",
     "output_type": "stream",
     "text": [
      "Projected US revenue = 209420\n",
      "Projected Global revenue = 999813 \n"
     ]
    }
   ],
   "source": [
    "print(\"Projected US revenue = {}\" .format(US_revenue))\n",
    "print(\"Projected Global revenue = {} \" .format(Global_revenue))"
   ]
  },
  {
   "cell_type": "markdown",
   "metadata": {},
   "source": [
    "Projected revenue (6 months) = $0.21M from approx. 2,200 US customers who book one month before their travel date, and $1M from 6,600 global customers."
   ]
  },
  {
   "cell_type": "code",
   "execution_count": null,
   "metadata": {},
   "outputs": [],
   "source": [
    "### Projected revenue based on AirBnB monthly traffic data"
   ]
  },
  {
   "cell_type": "code",
   "execution_count": null,
   "metadata": {},
   "outputs": [],
   "source": []
  },
  {
   "cell_type": "code",
   "execution_count": 917,
   "metadata": {},
   "outputs": [],
   "source": [
    "US_revenue_per_night = US_customers_perc * US_customers_convrate * Average_no_of_guests_per_night_global * Average_revenue_per_night"
   ]
  },
  {
   "cell_type": "code",
   "execution_count": 932,
   "metadata": {
    "collapsed": true
   },
   "outputs": [
    {
     "data": {
      "text/plain": [
       "27697434.030937217"
      ]
     },
     "execution_count": 932,
     "metadata": {},
     "output_type": "execute_result"
    }
   ],
   "source": [
    "US_revenue_per_night"
   ]
  },
  {
   "cell_type": "code",
   "execution_count": 918,
   "metadata": {
    "scrolled": true
   },
   "outputs": [
    {
     "data": {
      "text/plain": [
       "0.33090688504701243"
      ]
     },
     "execution_count": 918,
     "metadata": {},
     "output_type": "execute_result"
    }
   ],
   "source": [
    "US_customers_perc = np.sum((predict_days_df2[predict_days_df2[\"country_destination_cat\"] == \"US\"])[\"new_customer_bool\"])/np.sum(predict_days_df2[\"new_customer_bool\"])\n",
    "US_customers_perc"
   ]
  },
  {
   "cell_type": "code",
   "execution_count": 921,
   "metadata": {},
   "outputs": [
    {
     "data": {
      "text/plain": [
       "0.33090688504701243"
      ]
     },
     "execution_count": 921,
     "metadata": {},
     "output_type": "execute_result"
    }
   ],
   "source": [
    "np.sum((predict_days_df2[predict_days_df2[\"country_destination_cat\"] == \"US\"].count()[0]))/np.sum(predict_days_df2.count()[0])"
   ]
  },
  {
   "cell_type": "code",
   "execution_count": 941,
   "metadata": {},
   "outputs": [],
   "source": [
    "US_customers_book = np.sum(US_customers[\"booking\"].astype(int) * US_customers[\"new_customer_bool\"].astype(int))\n",
    "US_customers_convrate = US_customers_book/US_customers.count()[0]\n",
    "Global_customers_book = np.sum(predict_days_df2[\"booking\"].astype(int) * predict_days_df2[\"new_customer_bool\"].astype(int)) \n",
    "Global_customers_convrate = Global_customers_book/predict_days_df2.count()[0]"
   ]
  },
  {
   "cell_type": "code",
   "execution_count": 942,
   "metadata": {
    "scrolled": true
   },
   "outputs": [
    {
     "name": "stdout",
     "output_type": "stream",
     "text": [
      "US conversion rates = 52.0%\n",
      "Global conversion rates = 51.0%\n"
     ]
    }
   ],
   "source": [
    "print(\"US conversion rates = {}%\" .format(np.round(US_customers_convrate, 2) * 100))\n",
    "print(\"Global conversion rates = {}%\" .format(np.round(Global_customers_convrate, 2) * 100))"
   ]
  },
  {
   "cell_type": "code",
   "execution_count": null,
   "metadata": {},
   "outputs": [],
   "source": [
    "##### Real world non-revenue customer data - includes session data "
   ]
  },
  {
   "cell_type": "markdown",
   "metadata": {},
   "source": [
    "1. Average session time = 11 min 31 secs\n",
    "2. Mobile traffic (% of app) = 50%\n",
    "3. AirBnB users in the US (2017) = 33.9M\n",
    "4. AirBnB users in the US (2020) = 40M\n",
    "5. Percentage of AirBnB users (US 2018) = 41%\n",
    "\n"
   ]
  },
  {
   "cell_type": "code",
   "execution_count": null,
   "metadata": {},
   "outputs": [],
   "source": [
    "#### Projected revenue based on AirBnB (actual) monthly dats"
   ]
  },
  {
   "cell_type": "markdown",
   "metadata": {},
   "source": [
    "Monthly_traffic = 91 * 1e6 # (global) \n",
    "US_users = 0.41\n",
    "US_traffic = US_customers_convrate * np.round(US_customers_book/Global_customers_book * Monthly_traffic) * US_revenue\n",
    "Global_traffic = np.round(Global_customers_convrate * Monthly_traffic)# * Global_revenue"
   ]
  },
  {
   "cell_type": "code",
   "execution_count": 1002,
   "metadata": {},
   "outputs": [],
   "source": [
    "US_users = 40 * 1e6 \n",
    "US_users_perc = 0.41\n",
    "Global_users = US_users/US_users_perc\n",
    "Global_revenue_actual = np.round(Global_users * Global_customers_convrate * Average_revenue_per_guests_global/(1 * 1e9), 1)\n",
    "US_revenue_actual = np.round(US_users * US_customers_convrate * Average_revenue_per_guests_US/(1 * 1e9), 1)"
   ]
  },
  {
   "cell_type": "code",
   "execution_count": 1003,
   "metadata": {
    "scrolled": true
   },
   "outputs": [
    {
     "name": "stdout",
     "output_type": "stream",
     "text": [
      "Actual US revenue = $3.8B\n",
      "Actual Global revenue = $14.8B\n"
     ]
    }
   ],
   "source": [
    "print(\"Actual US revenue = ${}B\" .format(np.round(US_revenue_actual, 1)))\n",
    "print(\"Actual Global revenue = ${}B\" .format(np.round(Global_revenue_actual, 1)))"
   ]
  },
  {
   "cell_type": "code",
   "execution_count": null,
   "metadata": {},
   "outputs": [],
   "source": [
    "#### Increasing revenue"
   ]
  },
  {
   "cell_type": "markdown",
   "metadata": {},
   "source": [
    "Increase conversion rate or increase number of users.\n",
    "E.g. Growing the US market by $1B. Increase conversion rate to 70% (change of +17%)"
   ]
  },
  {
   "cell_type": "code",
   "execution_count": 1006,
   "metadata": {
    "scrolled": false
   },
   "outputs": [
    {
     "name": "stdout",
     "output_type": "stream",
     "text": [
      "Increase conversion rate to 65.0%\n"
     ]
    }
   ],
   "source": [
    "print(\"Increase conversion rate to {}%\" .format(np.round(((US_revenue_actual + 1) * 1*1e9)/(US_users * Average_revenue_per_guests_US) * 100)))"
   ]
  },
  {
   "cell_type": "code",
   "execution_count": null,
   "metadata": {},
   "outputs": [],
   "source": []
  },
  {
   "cell_type": "code",
   "execution_count": 1106,
   "metadata": {},
   "outputs": [],
   "source": [
    "airbnb_revenue = pd.DataFrame(\n",
    "    {\n",
    "        \n",
    "    \"Type\": [\"US_revenue\", \"Global_revenue\", \"US_revenue_actual\",\\\n",
    "            \"GlobL_revenue_actual\", \"US_convrate\", \\\n",
    "            \"Global_convrate\"],\n",
    "    \"Revenue\": [US_revenue/1e6, Global_revenue/1e6, \\\n",
    "                US_revenue_actual, \\\n",
    "               Global_revenue_actual, US_customers_convrate, \\\n",
    "                Global_customers_convrate] \n",
    "\n",
    "}\n",
    ").reset_index()\n",
    "airbnb_revenue = airbnb_revenue.groupby([\"Type\"]).median().sort_values(\"index\").reset_index()"
   ]
  },
  {
   "cell_type": "code",
   "execution_count": 1286,
   "metadata": {},
   "outputs": [],
   "source": [
    "airbnb_revenue = pd.DataFrame(\n",
    "    {\n",
    "        \n",
    "    \"Type\": [\"US ($M)\", \"Global ($M)\", \"US ($B)\", \"Global ($B)\", \"US (%)\", \\\n",
    "            \"Global (%)\"],\n",
    "    \"Revenue\": [US_revenue/1e6, Global_revenue/1e6, \\\n",
    "                US_revenue_actual, \\\n",
    "               Global_revenue_actual, US_customers_convrate * 100, \\\n",
    "                Global_customers_convrate * 100] \n",
    "    \n",
    "}\n",
    ").reset_index()\n",
    "airbnb_revenue[\"Revenue\"] = np.round(airbnb_revenue[\"Revenue\"], 2)\n",
    "#airbnb_revenue = airbnb_revenue.groupby([\"Type\"]).median().sort_values(\"index\").reset_index()"
   ]
  },
  {
   "cell_type": "code",
   "execution_count": 1287,
   "metadata": {
    "scrolled": false
   },
   "outputs": [
    {
     "data": {
      "text/html": [
       "<div>\n",
       "<style scoped>\n",
       "    .dataframe tbody tr th:only-of-type {\n",
       "        vertical-align: middle;\n",
       "    }\n",
       "\n",
       "    .dataframe tbody tr th {\n",
       "        vertical-align: top;\n",
       "    }\n",
       "\n",
       "    .dataframe thead th {\n",
       "        text-align: right;\n",
       "    }\n",
       "</style>\n",
       "<table border=\"1\" class=\"dataframe\">\n",
       "  <thead>\n",
       "    <tr style=\"text-align: right;\">\n",
       "      <th></th>\n",
       "      <th>index</th>\n",
       "      <th>Type</th>\n",
       "      <th>Revenue</th>\n",
       "    </tr>\n",
       "  </thead>\n",
       "  <tbody>\n",
       "    <tr>\n",
       "      <th>0</th>\n",
       "      <td>0</td>\n",
       "      <td>US ($M)</td>\n",
       "      <td>0.21</td>\n",
       "    </tr>\n",
       "    <tr>\n",
       "      <th>1</th>\n",
       "      <td>1</td>\n",
       "      <td>Global ($M)</td>\n",
       "      <td>1.00</td>\n",
       "    </tr>\n",
       "    <tr>\n",
       "      <th>2</th>\n",
       "      <td>2</td>\n",
       "      <td>US ($B)</td>\n",
       "      <td>3.80</td>\n",
       "    </tr>\n",
       "    <tr>\n",
       "      <th>3</th>\n",
       "      <td>3</td>\n",
       "      <td>Global ($B)</td>\n",
       "      <td>14.80</td>\n",
       "    </tr>\n",
       "    <tr>\n",
       "      <th>4</th>\n",
       "      <td>4</td>\n",
       "      <td>US (%)</td>\n",
       "      <td>51.88</td>\n",
       "    </tr>\n",
       "    <tr>\n",
       "      <th>5</th>\n",
       "      <td>5</td>\n",
       "      <td>Global (%)</td>\n",
       "      <td>50.77</td>\n",
       "    </tr>\n",
       "  </tbody>\n",
       "</table>\n",
       "</div>"
      ],
      "text/plain": [
       "   index         Type  Revenue\n",
       "0      0      US ($M)     0.21\n",
       "1      1  Global ($M)     1.00\n",
       "2      2      US ($B)     3.80\n",
       "3      3  Global ($B)    14.80\n",
       "4      4       US (%)    51.88\n",
       "5      5   Global (%)    50.77"
      ]
     },
     "execution_count": 1287,
     "metadata": {},
     "output_type": "execute_result"
    }
   ],
   "source": [
    "airbnb_revenue"
   ]
  },
  {
   "cell_type": "code",
   "execution_count": 1288,
   "metadata": {},
   "outputs": [],
   "source": [
    "airbnb_sample = airbnb_revenue[(airbnb_revenue[\"Type\"] == \"US ($M)\") | (airbnb_revenue[\"Type\"] == \"Global ($M)\")]\n",
    "airbnb_actual = airbnb_revenue[(airbnb_revenue[\"Type\"] == \"US ($B)\") | (airbnb_revenue[\"Type\"] == \"Global ($B)\")]\n",
    "airbnb_convrate = airbnb_revenue[(airbnb_revenue[\"Type\"] == \"US (%)\") | (airbnb_revenue[\"Type\"] == \"Global (%)\")]"
   ]
  },
  {
   "cell_type": "code",
   "execution_count": 1324,
   "metadata": {
    "scrolled": true
   },
   "outputs": [
    {
     "data": {
      "text/plain": [
       "Text(0.5, 0.98, 'AirBnB has US and global revenue (estimates) of \\\\$3.8 billion and \\\\$14.8 billion based on 50% customer conversion rates (2019)')"
      ]
     },
     "execution_count": 1324,
     "metadata": {},
     "output_type": "execute_result"
    },
    {
     "data": {
      "image/png": "[encoded data removed]",
      "text/plain": [
       "<Figure size 1080x432 with 3 Axes>"
      ]
     },
     "metadata": {},
     "output_type": "display_data"
    }
   ],
   "source": [
    "fig, axs = plt.subplots(ncols = 3, figsize = (15, 6))\n",
    "sb.set(font_scale = 1)\n",
    "sb.barplot(x = \"Type\", y = \"Revenue\", data = airbnb_sample, ax = axs[0])\n",
    "sb.barplot(x = \"Type\", y = \"Revenue\", data = airbnb_actual, ax = axs[1])\n",
    "sb.barplot(x = \"Type\", y = \"Revenue\", data = airbnb_convrate, ax = axs[2])\n",
    "axs[0].set_xlabel(\"Revenue (kaggle data)\", fontsize = 12)\n",
    "axs[0].set_ylabel(\"Amount ($millions)\", fontsize = 12)\n",
    "axs[1].set_xlabel(\"Revenue (AirBnB stats)\", fontsize = 12)\n",
    "axs[1].set_ylabel(\"Amount ($millions)\", fontsize = 12)\n",
    "axs[2].set_xlabel(\"Conversion rates \", fontsize = 12)\n",
    "axs[2].set_ylabel(\"(%)\", fontsize = 12)\n",
    "fig.suptitle(\"AirBnB has US and global revenue (estimates) of \\$3.8 billion and \\$14.8 billion based on 50% customer conversion rates (2019)\", \\\n",
    "            fontsize = 15)"
   ]
  },
  {
   "cell_type": "code",
   "execution_count": null,
   "metadata": {},
   "outputs": [],
   "source": [
    "## Plot of projected AirBnB revenue growth "
   ]
  },
  {
   "cell_type": "code",
   "execution_count": 1314,
   "metadata": {
    "scrolled": true
   },
   "outputs": [
    {
     "data": {
      "text/plain": [
       "Text(0.5, 0.98, 'AirBnB can increase their US revenue by $1 billion with a 15% growth in customer conversion rates')"
      ]
     },
     "execution_count": 1314,
     "metadata": {},
     "output_type": "execute_result"
    },
    {
     "data": {
      "image/png": "[encoded data removed]",
      "text/plain": [
       "<Figure size 1080x432 with 1 Axes>"
      ]
     },
     "metadata": {},
     "output_type": "display_data"
    }
   ],
   "source": [
    "airbnb_revenue_bc = pd.DataFrame(\n",
    "    {\n",
    "        \n",
    "    \"Type\": [\"US_actual ($B)\", \"US_projected ($B)\"],\n",
    "    \"Revenue\": [US_revenue_actual, (US_revenue_actual) + 1]\n",
    "    \n",
    "}\n",
    ").reset_index()\n",
    "\n",
    "airbnb_revenue_bc[\"Revenue\"] = np.round(airbnb_revenue_bc[\"Revenue\"], 2)\n",
    "fig, axs = plt.subplots(ncols = 1, figsize = (15, 6))\n",
    "sb.barplot(x = \"Type\", y = \"Revenue\", data = airbnb_revenue_bc, ax = axs)\n",
    "sb.set(font_scale = 1)\n",
    "axs.set_xlabel(\"Revenue\", fontsize = 12)\n",
    "axs.set_ylabel(\"Amount ($millions)\", fontsize = 12)\n",
    "fig.suptitle(\"AirBnB can increase their US revenue by $1 billion with a 15% growth in customer conversion rates\", \\\n",
    "            fontsize = 15)"
   ]
  },
  {
   "cell_type": "markdown",
   "metadata": {},
   "source": [
    "Opportunities exist for AirBnB to grow their market even in tough economic times. One such way is by increasing the number of customers booking accomodation from their existing customer/user based.\n",
    "An increase in conversion rate of 15% can lead to revenue growth of $1B.\n",
    "Note: This analysis does not include any 2020 data. It however can be used as a guideline for an additional company business case."
   ]
  }
 ],
 "metadata": {
  "kernelspec": {
   "display_name": "Python 3",
   "language": "python",
   "name": "python3"
  },
  "language_info": {
   "codemirror_mode": {
    "name": "ipython",
    "version": 3
   },
   "file_extension": ".py",
   "mimetype": "text/x-python",
   "name": "python",
   "nbconvert_exporter": "python",
   "pygments_lexer": "ipython3",
   "version": "3.7.3"
  },
  "widgets": {
   "application/vnd.jupyter.widget-state+json": {
    "state": {},
    "version_major": 2,
    "version_minor": 0
   }
  }
 },
 "nbformat": 4,
 "nbformat_minor": 2
}
